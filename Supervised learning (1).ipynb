{
 "cells": [
  {
   "cell_type": "markdown",
   "metadata": {},
   "source": [
    "# Supervised Learning Project"
   ]
  },
  {
   "cell_type": "markdown",
   "metadata": {},
   "source": [
    "# Project Description:\n",
    "Beta Bank customers are leaving: little by little, chipping away every month. The bankers figured out it’s cheaper to save the existing customers rather than to attract new ones.\n",
    "We need to predict whether a customer will leave the bank soon. You have the data on clients’ past behavior and termination of contracts with the bank.\n",
    "Build a model with the maximum possible F1 score. To pass the project, you need an F1 score of at least 0.59. Check the F1 for the test set.\n",
    "Additionally, measure the AUC-ROC metric and compare it with the F1."
   ]
  },
  {
   "cell_type": "markdown",
   "metadata": {},
   "source": [
    "# Project Stucture:\n",
    " 1. Download and prepare the data. Explain the procedure.\n",
    " 2. Examine the balance of classes. Train the model without taking into account the imbalance. Briefly describe your findings.\n",
    " 3. Improve the quality of the model. Make sure you use at least two approaches to fixing class imbalance. Use the training set to pick the best parameters. Train different models on training and validation sets. Find the best one. Briefly describe your findings.\n",
    " 4. Perform the final testing."
   ]
  },
  {
   "cell_type": "markdown",
   "metadata": {},
   "source": [
    "# Data description:\n",
    " **Features**:\n",
    "  - RowNumber — data string index\n",
    "  - CustomerId — unique customer identifier\n",
    "  - Surname — surname\n",
    "  - CreditScore — credit score\n",
    "  - Geography — country of residence\n",
    "  - Gender — gender\n",
    "  - Age — age\n",
    "  - Tenure — period of maturation for a customer’s fixed deposit (years)\n",
    "  - Balance — account balance\n",
    "  - NumOfProducts — number of banking products used by the customer\n",
    "  - HasCrCard — customer has a credit card\n",
    "  - IsActiveMember — customer’s activeness\n",
    "  - EstimatedSalary — estimated salary\n",
    "  \n",
    " **Target**:\n",
    "  - Exited — сustomer has left"
   ]
  },
  {
   "cell_type": "code",
   "execution_count": 76,
   "metadata": {},
   "outputs": [],
   "source": [
    "#importing all needed libraries\n",
    "from IPython.core.display import display, HTML\n",
    "\n",
    "import matplotlib.pyplot as plt\n",
    "import pandas as pd\n",
    "\n",
    "import plotly.express as px\n",
    "import plotly.graph_objects as go\n",
    "from plotly.subplots import make_subplots\n",
    "import plotly.io as pio\n",
    "pio.templates.default = \"seaborn\"\n",
    "\n",
    "import re\n",
    "import statistics\n",
    "\n",
    "from sklearn.dummy import DummyClassifier\n",
    "from sklearn.ensemble import RandomForestClassifier\n",
    "from sklearn.linear_model import LogisticRegression\n",
    "from sklearn.tree import DecisionTreeClassifier\n",
    "\n",
    "from sklearn.metrics import accuracy_score\n",
    "from sklearn.metrics import f1_score\n",
    "from sklearn.metrics import roc_auc_score\n",
    "from sklearn.metrics import roc_curve, auc\n",
    "\n",
    "from sklearn.model_selection import train_test_split\n",
    "from sklearn.preprocessing import StandardScaler\n",
    "from sklearn.utils import shuffle\n",
    "\n",
    "import warnings\n",
    "warnings.filterwarnings(\"ignore\")\n",
    "\n",
    "pd.set_option('display.max_colwidth', -1)"
   ]
  },
  {
   "cell_type": "markdown",
   "metadata": {},
   "source": [
    "## Download and prepare the data."
   ]
  },
  {
   "cell_type": "code",
   "execution_count": 77,
   "metadata": {},
   "outputs": [
    {
     "data": {
      "text/html": [
       "<div>\n",
       "<style scoped>\n",
       "    .dataframe tbody tr th:only-of-type {\n",
       "        vertical-align: middle;\n",
       "    }\n",
       "\n",
       "    .dataframe tbody tr th {\n",
       "        vertical-align: top;\n",
       "    }\n",
       "\n",
       "    .dataframe thead th {\n",
       "        text-align: right;\n",
       "    }\n",
       "</style>\n",
       "<table border=\"1\" class=\"dataframe\">\n",
       "  <thead>\n",
       "    <tr style=\"text-align: right;\">\n",
       "      <th></th>\n",
       "      <th>RowNumber</th>\n",
       "      <th>CustomerId</th>\n",
       "      <th>Surname</th>\n",
       "      <th>CreditScore</th>\n",
       "      <th>Geography</th>\n",
       "      <th>Gender</th>\n",
       "      <th>Age</th>\n",
       "      <th>Tenure</th>\n",
       "      <th>Balance</th>\n",
       "      <th>NumOfProducts</th>\n",
       "      <th>HasCrCard</th>\n",
       "      <th>IsActiveMember</th>\n",
       "      <th>EstimatedSalary</th>\n",
       "      <th>Exited</th>\n",
       "    </tr>\n",
       "  </thead>\n",
       "  <tbody>\n",
       "    <tr>\n",
       "      <th>5772</th>\n",
       "      <td>5773</td>\n",
       "      <td>15663168</td>\n",
       "      <td>MacDonald</td>\n",
       "      <td>665</td>\n",
       "      <td>France</td>\n",
       "      <td>Male</td>\n",
       "      <td>35</td>\n",
       "      <td>8.0</td>\n",
       "      <td>110934.54</td>\n",
       "      <td>1</td>\n",
       "      <td>1</td>\n",
       "      <td>0</td>\n",
       "      <td>169287.99</td>\n",
       "      <td>0</td>\n",
       "    </tr>\n",
       "    <tr>\n",
       "      <th>5389</th>\n",
       "      <td>5390</td>\n",
       "      <td>15682728</td>\n",
       "      <td>Mathews</td>\n",
       "      <td>774</td>\n",
       "      <td>France</td>\n",
       "      <td>Female</td>\n",
       "      <td>32</td>\n",
       "      <td>4.0</td>\n",
       "      <td>0.00</td>\n",
       "      <td>2</td>\n",
       "      <td>0</td>\n",
       "      <td>0</td>\n",
       "      <td>114899.13</td>\n",
       "      <td>0</td>\n",
       "    </tr>\n",
       "    <tr>\n",
       "      <th>5415</th>\n",
       "      <td>5416</td>\n",
       "      <td>15747014</td>\n",
       "      <td>Pisani</td>\n",
       "      <td>850</td>\n",
       "      <td>France</td>\n",
       "      <td>Female</td>\n",
       "      <td>28</td>\n",
       "      <td>1.0</td>\n",
       "      <td>105245.34</td>\n",
       "      <td>1</td>\n",
       "      <td>0</td>\n",
       "      <td>1</td>\n",
       "      <td>74780.13</td>\n",
       "      <td>0</td>\n",
       "    </tr>\n",
       "    <tr>\n",
       "      <th>4917</th>\n",
       "      <td>4918</td>\n",
       "      <td>15681991</td>\n",
       "      <td>Walsh</td>\n",
       "      <td>542</td>\n",
       "      <td>France</td>\n",
       "      <td>Male</td>\n",
       "      <td>32</td>\n",
       "      <td>7.0</td>\n",
       "      <td>107871.72</td>\n",
       "      <td>1</td>\n",
       "      <td>1</td>\n",
       "      <td>0</td>\n",
       "      <td>125302.64</td>\n",
       "      <td>0</td>\n",
       "    </tr>\n",
       "    <tr>\n",
       "      <th>8032</th>\n",
       "      <td>8033</td>\n",
       "      <td>15755642</td>\n",
       "      <td>Bulgakov</td>\n",
       "      <td>667</td>\n",
       "      <td>France</td>\n",
       "      <td>Male</td>\n",
       "      <td>34</td>\n",
       "      <td>5.0</td>\n",
       "      <td>0.00</td>\n",
       "      <td>2</td>\n",
       "      <td>1</td>\n",
       "      <td>1</td>\n",
       "      <td>102908.63</td>\n",
       "      <td>0</td>\n",
       "    </tr>\n",
       "    <tr>\n",
       "      <th>2654</th>\n",
       "      <td>2655</td>\n",
       "      <td>15759874</td>\n",
       "      <td>Chamberlain</td>\n",
       "      <td>532</td>\n",
       "      <td>France</td>\n",
       "      <td>Male</td>\n",
       "      <td>44</td>\n",
       "      <td>NaN</td>\n",
       "      <td>148595.55</td>\n",
       "      <td>1</td>\n",
       "      <td>1</td>\n",
       "      <td>0</td>\n",
       "      <td>74838.64</td>\n",
       "      <td>1</td>\n",
       "    </tr>\n",
       "    <tr>\n",
       "      <th>2221</th>\n",
       "      <td>2222</td>\n",
       "      <td>15736069</td>\n",
       "      <td>Hsing</td>\n",
       "      <td>767</td>\n",
       "      <td>Germany</td>\n",
       "      <td>Female</td>\n",
       "      <td>35</td>\n",
       "      <td>6.0</td>\n",
       "      <td>132253.22</td>\n",
       "      <td>1</td>\n",
       "      <td>1</td>\n",
       "      <td>0</td>\n",
       "      <td>115566.57</td>\n",
       "      <td>1</td>\n",
       "    </tr>\n",
       "    <tr>\n",
       "      <th>8718</th>\n",
       "      <td>8719</td>\n",
       "      <td>15627298</td>\n",
       "      <td>Vinogradova</td>\n",
       "      <td>589</td>\n",
       "      <td>France</td>\n",
       "      <td>Male</td>\n",
       "      <td>37</td>\n",
       "      <td>7.0</td>\n",
       "      <td>85146.48</td>\n",
       "      <td>2</td>\n",
       "      <td>1</td>\n",
       "      <td>0</td>\n",
       "      <td>86490.09</td>\n",
       "      <td>1</td>\n",
       "    </tr>\n",
       "    <tr>\n",
       "      <th>4695</th>\n",
       "      <td>4696</td>\n",
       "      <td>15786739</td>\n",
       "      <td>Clements</td>\n",
       "      <td>669</td>\n",
       "      <td>France</td>\n",
       "      <td>Male</td>\n",
       "      <td>37</td>\n",
       "      <td>1.0</td>\n",
       "      <td>125529.55</td>\n",
       "      <td>1</td>\n",
       "      <td>1</td>\n",
       "      <td>1</td>\n",
       "      <td>162260.93</td>\n",
       "      <td>0</td>\n",
       "    </tr>\n",
       "    <tr>\n",
       "      <th>2445</th>\n",
       "      <td>2446</td>\n",
       "      <td>15654409</td>\n",
       "      <td>Unwin</td>\n",
       "      <td>665</td>\n",
       "      <td>France</td>\n",
       "      <td>Female</td>\n",
       "      <td>34</td>\n",
       "      <td>5.0</td>\n",
       "      <td>67816.72</td>\n",
       "      <td>1</td>\n",
       "      <td>1</td>\n",
       "      <td>1</td>\n",
       "      <td>29641.58</td>\n",
       "      <td>0</td>\n",
       "    </tr>\n",
       "  </tbody>\n",
       "</table>\n",
       "</div>"
      ],
      "text/plain": [
       "      RowNumber  CustomerId      Surname  CreditScore Geography  Gender  Age  \\\n",
       "5772  5773       15663168    MacDonald    665          France    Male    35    \n",
       "5389  5390       15682728    Mathews      774          France    Female  32    \n",
       "5415  5416       15747014    Pisani       850          France    Female  28    \n",
       "4917  4918       15681991    Walsh        542          France    Male    32    \n",
       "8032  8033       15755642    Bulgakov     667          France    Male    34    \n",
       "2654  2655       15759874    Chamberlain  532          France    Male    44    \n",
       "2221  2222       15736069    Hsing        767          Germany   Female  35    \n",
       "8718  8719       15627298    Vinogradova  589          France    Male    37    \n",
       "4695  4696       15786739    Clements     669          France    Male    37    \n",
       "2445  2446       15654409    Unwin        665          France    Female  34    \n",
       "\n",
       "      Tenure    Balance  NumOfProducts  HasCrCard  IsActiveMember  \\\n",
       "5772  8.0     110934.54  1              1          0                \n",
       "5389  4.0     0.00       2              0          0                \n",
       "5415  1.0     105245.34  1              0          1                \n",
       "4917  7.0     107871.72  1              1          0                \n",
       "8032  5.0     0.00       2              1          1                \n",
       "2654 NaN      148595.55  1              1          0                \n",
       "2221  6.0     132253.22  1              1          0                \n",
       "8718  7.0     85146.48   2              1          0                \n",
       "4695  1.0     125529.55  1              1          1                \n",
       "2445  5.0     67816.72   1              1          1                \n",
       "\n",
       "      EstimatedSalary  Exited  \n",
       "5772  169287.99        0       \n",
       "5389  114899.13        0       \n",
       "5415  74780.13         0       \n",
       "4917  125302.64        0       \n",
       "8032  102908.63        0       \n",
       "2654  74838.64         1       \n",
       "2221  115566.57        1       \n",
       "8718  86490.09         1       \n",
       "4695  162260.93        0       \n",
       "2445  29641.58         0       "
      ]
     },
     "execution_count": 77,
     "metadata": {},
     "output_type": "execute_result"
    }
   ],
   "source": [
    "try:\n",
    "    data = pd.read_csv('/Users/yoheved/Desktop/Study/Churn.csv')\n",
    "except:\n",
    "    data = pd.read_csv('/datasets/Churn.csv')\n",
    "data.sample(10)"
   ]
  },
  {
   "cell_type": "code",
   "execution_count": 78,
   "metadata": {},
   "outputs": [
    {
     "name": "stdout",
     "output_type": "stream",
     "text": [
      "<class 'pandas.core.frame.DataFrame'>\n",
      "RangeIndex: 10000 entries, 0 to 9999\n",
      "Data columns (total 14 columns):\n",
      " #   Column           Non-Null Count  Dtype  \n",
      "---  ------           --------------  -----  \n",
      " 0   RowNumber        10000 non-null  int64  \n",
      " 1   CustomerId       10000 non-null  int64  \n",
      " 2   Surname          10000 non-null  object \n",
      " 3   CreditScore      10000 non-null  int64  \n",
      " 4   Geography        10000 non-null  object \n",
      " 5   Gender           10000 non-null  object \n",
      " 6   Age              10000 non-null  int64  \n",
      " 7   Tenure           9091 non-null   float64\n",
      " 8   Balance          10000 non-null  float64\n",
      " 9   NumOfProducts    10000 non-null  int64  \n",
      " 10  HasCrCard        10000 non-null  int64  \n",
      " 11  IsActiveMember   10000 non-null  int64  \n",
      " 12  EstimatedSalary  10000 non-null  float64\n",
      " 13  Exited           10000 non-null  int64  \n",
      "dtypes: float64(3), int64(8), object(3)\n",
      "memory usage: 1.1+ MB\n"
     ]
    }
   ],
   "source": [
    "data.info()"
   ]
  },
  {
   "cell_type": "markdown",
   "metadata": {},
   "source": [
    "**After first look on the dataset we can see that we have total 14 columns and 10000 rows. 3 columns are the float64 type, 3 columns are the object type and rest columns are the int64 type. Also we can see that Tenure columns has a missing values. Let's look futher what can be done to prepare data for testing**"
   ]
  },
  {
   "cell_type": "code",
   "execution_count": 79,
   "metadata": {},
   "outputs": [
    {
     "data": {
      "text/html": [
       "<div>\n",
       "<style scoped>\n",
       "    .dataframe tbody tr th:only-of-type {\n",
       "        vertical-align: middle;\n",
       "    }\n",
       "\n",
       "    .dataframe tbody tr th {\n",
       "        vertical-align: top;\n",
       "    }\n",
       "\n",
       "    .dataframe thead th {\n",
       "        text-align: right;\n",
       "    }\n",
       "</style>\n",
       "<table border=\"1\" class=\"dataframe\">\n",
       "  <thead>\n",
       "    <tr style=\"text-align: right;\">\n",
       "      <th></th>\n",
       "      <th>RowNumber</th>\n",
       "      <th>CustomerId</th>\n",
       "      <th>CreditScore</th>\n",
       "      <th>Age</th>\n",
       "      <th>Tenure</th>\n",
       "      <th>Balance</th>\n",
       "      <th>NumOfProducts</th>\n",
       "      <th>HasCrCard</th>\n",
       "      <th>IsActiveMember</th>\n",
       "      <th>EstimatedSalary</th>\n",
       "      <th>Exited</th>\n",
       "    </tr>\n",
       "  </thead>\n",
       "  <tbody>\n",
       "    <tr>\n",
       "      <th>count</th>\n",
       "      <td>10000.00000</td>\n",
       "      <td>1.000000e+04</td>\n",
       "      <td>10000.000000</td>\n",
       "      <td>10000.000000</td>\n",
       "      <td>9091.000000</td>\n",
       "      <td>10000.000000</td>\n",
       "      <td>10000.000000</td>\n",
       "      <td>10000.00000</td>\n",
       "      <td>10000.000000</td>\n",
       "      <td>10000.000000</td>\n",
       "      <td>10000.000000</td>\n",
       "    </tr>\n",
       "    <tr>\n",
       "      <th>mean</th>\n",
       "      <td>5000.50000</td>\n",
       "      <td>1.569094e+07</td>\n",
       "      <td>650.528800</td>\n",
       "      <td>38.921800</td>\n",
       "      <td>4.997690</td>\n",
       "      <td>76485.889288</td>\n",
       "      <td>1.530200</td>\n",
       "      <td>0.70550</td>\n",
       "      <td>0.515100</td>\n",
       "      <td>100090.239881</td>\n",
       "      <td>0.203700</td>\n",
       "    </tr>\n",
       "    <tr>\n",
       "      <th>std</th>\n",
       "      <td>2886.89568</td>\n",
       "      <td>7.193619e+04</td>\n",
       "      <td>96.653299</td>\n",
       "      <td>10.487806</td>\n",
       "      <td>2.894723</td>\n",
       "      <td>62397.405202</td>\n",
       "      <td>0.581654</td>\n",
       "      <td>0.45584</td>\n",
       "      <td>0.499797</td>\n",
       "      <td>57510.492818</td>\n",
       "      <td>0.402769</td>\n",
       "    </tr>\n",
       "    <tr>\n",
       "      <th>min</th>\n",
       "      <td>1.00000</td>\n",
       "      <td>1.556570e+07</td>\n",
       "      <td>350.000000</td>\n",
       "      <td>18.000000</td>\n",
       "      <td>0.000000</td>\n",
       "      <td>0.000000</td>\n",
       "      <td>1.000000</td>\n",
       "      <td>0.00000</td>\n",
       "      <td>0.000000</td>\n",
       "      <td>11.580000</td>\n",
       "      <td>0.000000</td>\n",
       "    </tr>\n",
       "    <tr>\n",
       "      <th>25%</th>\n",
       "      <td>2500.75000</td>\n",
       "      <td>1.562853e+07</td>\n",
       "      <td>584.000000</td>\n",
       "      <td>32.000000</td>\n",
       "      <td>2.000000</td>\n",
       "      <td>0.000000</td>\n",
       "      <td>1.000000</td>\n",
       "      <td>0.00000</td>\n",
       "      <td>0.000000</td>\n",
       "      <td>51002.110000</td>\n",
       "      <td>0.000000</td>\n",
       "    </tr>\n",
       "    <tr>\n",
       "      <th>50%</th>\n",
       "      <td>5000.50000</td>\n",
       "      <td>1.569074e+07</td>\n",
       "      <td>652.000000</td>\n",
       "      <td>37.000000</td>\n",
       "      <td>5.000000</td>\n",
       "      <td>97198.540000</td>\n",
       "      <td>1.000000</td>\n",
       "      <td>1.00000</td>\n",
       "      <td>1.000000</td>\n",
       "      <td>100193.915000</td>\n",
       "      <td>0.000000</td>\n",
       "    </tr>\n",
       "    <tr>\n",
       "      <th>75%</th>\n",
       "      <td>7500.25000</td>\n",
       "      <td>1.575323e+07</td>\n",
       "      <td>718.000000</td>\n",
       "      <td>44.000000</td>\n",
       "      <td>7.000000</td>\n",
       "      <td>127644.240000</td>\n",
       "      <td>2.000000</td>\n",
       "      <td>1.00000</td>\n",
       "      <td>1.000000</td>\n",
       "      <td>149388.247500</td>\n",
       "      <td>0.000000</td>\n",
       "    </tr>\n",
       "    <tr>\n",
       "      <th>max</th>\n",
       "      <td>10000.00000</td>\n",
       "      <td>1.581569e+07</td>\n",
       "      <td>850.000000</td>\n",
       "      <td>92.000000</td>\n",
       "      <td>10.000000</td>\n",
       "      <td>250898.090000</td>\n",
       "      <td>4.000000</td>\n",
       "      <td>1.00000</td>\n",
       "      <td>1.000000</td>\n",
       "      <td>199992.480000</td>\n",
       "      <td>1.000000</td>\n",
       "    </tr>\n",
       "  </tbody>\n",
       "</table>\n",
       "</div>"
      ],
      "text/plain": [
       "         RowNumber    CustomerId   CreditScore           Age       Tenure  \\\n",
       "count  10000.00000  1.000000e+04  10000.000000  10000.000000  9091.000000   \n",
       "mean   5000.50000   1.569094e+07  650.528800    38.921800     4.997690      \n",
       "std    2886.89568   7.193619e+04  96.653299     10.487806     2.894723      \n",
       "min    1.00000      1.556570e+07  350.000000    18.000000     0.000000      \n",
       "25%    2500.75000   1.562853e+07  584.000000    32.000000     2.000000      \n",
       "50%    5000.50000   1.569074e+07  652.000000    37.000000     5.000000      \n",
       "75%    7500.25000   1.575323e+07  718.000000    44.000000     7.000000      \n",
       "max    10000.00000  1.581569e+07  850.000000    92.000000     10.000000     \n",
       "\n",
       "             Balance  NumOfProducts    HasCrCard  IsActiveMember  \\\n",
       "count  10000.000000   10000.000000   10000.00000  10000.000000     \n",
       "mean   76485.889288   1.530200       0.70550      0.515100         \n",
       "std    62397.405202   0.581654       0.45584      0.499797         \n",
       "min    0.000000       1.000000       0.00000      0.000000         \n",
       "25%    0.000000       1.000000       0.00000      0.000000         \n",
       "50%    97198.540000   1.000000       1.00000      1.000000         \n",
       "75%    127644.240000  2.000000       1.00000      1.000000         \n",
       "max    250898.090000  4.000000       1.00000      1.000000         \n",
       "\n",
       "       EstimatedSalary        Exited  \n",
       "count  10000.000000     10000.000000  \n",
       "mean   100090.239881    0.203700      \n",
       "std    57510.492818     0.402769      \n",
       "min    11.580000        0.000000      \n",
       "25%    51002.110000     0.000000      \n",
       "50%    100193.915000    0.000000      \n",
       "75%    149388.247500    0.000000      \n",
       "max    199992.480000    1.000000      "
      ]
     },
     "execution_count": 79,
     "metadata": {},
     "output_type": "execute_result"
    }
   ],
   "source": [
    "data.describe()"
   ]
  },
  {
   "cell_type": "markdown",
   "metadata": {},
   "source": [
    "**We can see that features doesn't have any anomaly values like for example min age - 0. The features of CreditScore, Age, Tenure, Balance and EstimatedSalary have a fairly large spread, as evidenced by both relatively high standard deviation rates and a large difference between minimum and maximum values.**"
   ]
  },
  {
   "cell_type": "markdown",
   "metadata": {},
   "source": [
    "### Data preprocessing"
   ]
  },
  {
   "cell_type": "code",
   "execution_count": 80,
   "metadata": {},
   "outputs": [
    {
     "data": {
      "text/html": [
       "<div>\n",
       "<style scoped>\n",
       "    .dataframe tbody tr th:only-of-type {\n",
       "        vertical-align: middle;\n",
       "    }\n",
       "\n",
       "    .dataframe tbody tr th {\n",
       "        vertical-align: top;\n",
       "    }\n",
       "\n",
       "    .dataframe thead th {\n",
       "        text-align: right;\n",
       "    }\n",
       "</style>\n",
       "<table border=\"1\" class=\"dataframe\">\n",
       "  <thead>\n",
       "    <tr style=\"text-align: right;\">\n",
       "      <th></th>\n",
       "      <th>row_number</th>\n",
       "      <th>customer_id</th>\n",
       "      <th>surname</th>\n",
       "      <th>credit_score</th>\n",
       "      <th>geography</th>\n",
       "      <th>gender</th>\n",
       "      <th>age</th>\n",
       "      <th>tenure</th>\n",
       "      <th>balance</th>\n",
       "      <th>num_of_products</th>\n",
       "      <th>has_cr_card</th>\n",
       "      <th>is_active_member</th>\n",
       "      <th>estimated_salary</th>\n",
       "      <th>exited</th>\n",
       "    </tr>\n",
       "  </thead>\n",
       "  <tbody>\n",
       "    <tr>\n",
       "      <th>0</th>\n",
       "      <td>1</td>\n",
       "      <td>15634602</td>\n",
       "      <td>Hargrave</td>\n",
       "      <td>619</td>\n",
       "      <td>France</td>\n",
       "      <td>Female</td>\n",
       "      <td>42</td>\n",
       "      <td>2.0</td>\n",
       "      <td>0.00</td>\n",
       "      <td>1</td>\n",
       "      <td>1</td>\n",
       "      <td>1</td>\n",
       "      <td>101348.88</td>\n",
       "      <td>1</td>\n",
       "    </tr>\n",
       "    <tr>\n",
       "      <th>1</th>\n",
       "      <td>2</td>\n",
       "      <td>15647311</td>\n",
       "      <td>Hill</td>\n",
       "      <td>608</td>\n",
       "      <td>Spain</td>\n",
       "      <td>Female</td>\n",
       "      <td>41</td>\n",
       "      <td>1.0</td>\n",
       "      <td>83807.86</td>\n",
       "      <td>1</td>\n",
       "      <td>0</td>\n",
       "      <td>1</td>\n",
       "      <td>112542.58</td>\n",
       "      <td>0</td>\n",
       "    </tr>\n",
       "    <tr>\n",
       "      <th>2</th>\n",
       "      <td>3</td>\n",
       "      <td>15619304</td>\n",
       "      <td>Onio</td>\n",
       "      <td>502</td>\n",
       "      <td>France</td>\n",
       "      <td>Female</td>\n",
       "      <td>42</td>\n",
       "      <td>8.0</td>\n",
       "      <td>159660.80</td>\n",
       "      <td>3</td>\n",
       "      <td>1</td>\n",
       "      <td>0</td>\n",
       "      <td>113931.57</td>\n",
       "      <td>1</td>\n",
       "    </tr>\n",
       "    <tr>\n",
       "      <th>3</th>\n",
       "      <td>4</td>\n",
       "      <td>15701354</td>\n",
       "      <td>Boni</td>\n",
       "      <td>699</td>\n",
       "      <td>France</td>\n",
       "      <td>Female</td>\n",
       "      <td>39</td>\n",
       "      <td>1.0</td>\n",
       "      <td>0.00</td>\n",
       "      <td>2</td>\n",
       "      <td>0</td>\n",
       "      <td>0</td>\n",
       "      <td>93826.63</td>\n",
       "      <td>0</td>\n",
       "    </tr>\n",
       "    <tr>\n",
       "      <th>4</th>\n",
       "      <td>5</td>\n",
       "      <td>15737888</td>\n",
       "      <td>Mitchell</td>\n",
       "      <td>850</td>\n",
       "      <td>Spain</td>\n",
       "      <td>Female</td>\n",
       "      <td>43</td>\n",
       "      <td>2.0</td>\n",
       "      <td>125510.82</td>\n",
       "      <td>1</td>\n",
       "      <td>1</td>\n",
       "      <td>1</td>\n",
       "      <td>79084.10</td>\n",
       "      <td>0</td>\n",
       "    </tr>\n",
       "  </tbody>\n",
       "</table>\n",
       "</div>"
      ],
      "text/plain": [
       "   row_number  customer_id   surname  credit_score geography  gender  age  \\\n",
       "0  1           15634602     Hargrave  619           France    Female  42    \n",
       "1  2           15647311     Hill      608           Spain     Female  41    \n",
       "2  3           15619304     Onio      502           France    Female  42    \n",
       "3  4           15701354     Boni      699           France    Female  39    \n",
       "4  5           15737888     Mitchell  850           Spain     Female  43    \n",
       "\n",
       "   tenure    balance  num_of_products  has_cr_card  is_active_member  \\\n",
       "0  2.0     0.00       1                1            1                  \n",
       "1  1.0     83807.86   1                0            1                  \n",
       "2  8.0     159660.80  3                1            0                  \n",
       "3  1.0     0.00       2                0            0                  \n",
       "4  2.0     125510.82  1                1            1                  \n",
       "\n",
       "   estimated_salary  exited  \n",
       "0  101348.88         1       \n",
       "1  112542.58         0       \n",
       "2  113931.57         1       \n",
       "3  93826.63          0       \n",
       "4  79084.10          0       "
      ]
     },
     "execution_count": 80,
     "metadata": {},
     "output_type": "execute_result"
    }
   ],
   "source": [
    "data.columns = data.columns.str.replace(r\"([A-Z])\", r\" \\1\").str.lower().str.replace(' ', '_').str[1:]\n",
    "data.head()"
   ]
  },
  {
   "cell_type": "markdown",
   "metadata": {},
   "source": [
    "**I changed all column names to the low register and separated words in the names of columns for convenience. Now let's take a look on the missing values in the tenure column**"
   ]
  },
  {
   "cell_type": "code",
   "execution_count": 81,
   "metadata": {},
   "outputs": [
    {
     "name": "stdout",
     "output_type": "stream",
     "text": [
      "Amount of missing values:  909\n"
     ]
    }
   ],
   "source": [
    "print('Amount of missing values: ', data['tenure'].isnull().sum())"
   ]
  },
  {
   "cell_type": "markdown",
   "metadata": {},
   "source": [
    "**Let's look at the distribution of the tenure feature.**\n",
    "\n"
   ]
  },
  {
   "cell_type": "code",
   "execution_count": 82,
   "metadata": {},
   "outputs": [
    {
     "data": {
      "text/html": [
       "<div>\n",
       "<style scoped>\n",
       "    .dataframe tbody tr th:only-of-type {\n",
       "        vertical-align: middle;\n",
       "    }\n",
       "\n",
       "    .dataframe tbody tr th {\n",
       "        vertical-align: top;\n",
       "    }\n",
       "\n",
       "    .dataframe thead th {\n",
       "        text-align: right;\n",
       "    }\n",
       "</style>\n",
       "<table border=\"1\" class=\"dataframe\">\n",
       "  <thead>\n",
       "    <tr style=\"text-align: right;\">\n",
       "      <th></th>\n",
       "      <th>tenure_cnt</th>\n",
       "      <th>count</th>\n",
       "    </tr>\n",
       "  </thead>\n",
       "  <tbody>\n",
       "    <tr>\n",
       "      <th>0</th>\n",
       "      <td>1.0</td>\n",
       "      <td>952</td>\n",
       "    </tr>\n",
       "    <tr>\n",
       "      <th>1</th>\n",
       "      <td>2.0</td>\n",
       "      <td>950</td>\n",
       "    </tr>\n",
       "    <tr>\n",
       "      <th>2</th>\n",
       "      <td>8.0</td>\n",
       "      <td>933</td>\n",
       "    </tr>\n",
       "    <tr>\n",
       "      <th>3</th>\n",
       "      <td>3.0</td>\n",
       "      <td>928</td>\n",
       "    </tr>\n",
       "    <tr>\n",
       "      <th>4</th>\n",
       "      <td>5.0</td>\n",
       "      <td>927</td>\n",
       "    </tr>\n",
       "    <tr>\n",
       "      <th>5</th>\n",
       "      <td>7.0</td>\n",
       "      <td>925</td>\n",
       "    </tr>\n",
       "    <tr>\n",
       "      <th>6</th>\n",
       "      <td>4.0</td>\n",
       "      <td>885</td>\n",
       "    </tr>\n",
       "    <tr>\n",
       "      <th>7</th>\n",
       "      <td>9.0</td>\n",
       "      <td>882</td>\n",
       "    </tr>\n",
       "    <tr>\n",
       "      <th>8</th>\n",
       "      <td>6.0</td>\n",
       "      <td>881</td>\n",
       "    </tr>\n",
       "    <tr>\n",
       "      <th>9</th>\n",
       "      <td>10.0</td>\n",
       "      <td>446</td>\n",
       "    </tr>\n",
       "    <tr>\n",
       "      <th>10</th>\n",
       "      <td>0.0</td>\n",
       "      <td>382</td>\n",
       "    </tr>\n",
       "  </tbody>\n",
       "</table>\n",
       "</div>"
      ],
      "text/plain": [
       "    tenure_cnt  count\n",
       "0   1.0         952  \n",
       "1   2.0         950  \n",
       "2   8.0         933  \n",
       "3   3.0         928  \n",
       "4   5.0         927  \n",
       "5   7.0         925  \n",
       "6   4.0         885  \n",
       "7   9.0         882  \n",
       "8   6.0         881  \n",
       "9   10.0        446  \n",
       "10  0.0         382  "
      ]
     },
     "execution_count": 82,
     "metadata": {},
     "output_type": "execute_result"
    }
   ],
   "source": [
    "tenure = data['tenure'].value_counts().to_frame()\n",
    "tenure.reset_index(inplace=True)\n",
    "tenure.columns = ['tenure_cnt', 'count']\n",
    "tenure"
   ]
  },
  {
   "cell_type": "code",
   "execution_count": 83,
   "metadata": {},
   "outputs": [
    {
     "data": {
      "application/vnd.plotly.v1+json": {
       "config": {
        "plotlyServerURL": "https://plot.ly"
       },
       "data": [
        {
         "type": "bar",
         "x": [
          1,
          2,
          8,
          3,
          5,
          7,
          4,
          9,
          6,
          10,
          0
         ],
         "y": [
          952,
          950,
          933,
          928,
          927,
          925,
          885,
          882,
          881,
          446,
          382
         ]
        }
       ],
       "layout": {
        "height": 450,
        "showlegend": false,
        "template": {
         "data": {
          "bar": [
           {
            "error_x": {
             "color": "rgb(36,36,36)"
            },
            "error_y": {
             "color": "rgb(36,36,36)"
            },
            "marker": {
             "line": {
              "color": "rgb(234,234,242)",
              "width": 0.5
             },
             "pattern": {
              "fillmode": "overlay",
              "size": 10,
              "solidity": 0.2
             }
            },
            "type": "bar"
           }
          ],
          "barpolar": [
           {
            "marker": {
             "line": {
              "color": "rgb(234,234,242)",
              "width": 0.5
             },
             "pattern": {
              "fillmode": "overlay",
              "size": 10,
              "solidity": 0.2
             }
            },
            "type": "barpolar"
           }
          ],
          "carpet": [
           {
            "aaxis": {
             "endlinecolor": "rgb(36,36,36)",
             "gridcolor": "white",
             "linecolor": "white",
             "minorgridcolor": "white",
             "startlinecolor": "rgb(36,36,36)"
            },
            "baxis": {
             "endlinecolor": "rgb(36,36,36)",
             "gridcolor": "white",
             "linecolor": "white",
             "minorgridcolor": "white",
             "startlinecolor": "rgb(36,36,36)"
            },
            "type": "carpet"
           }
          ],
          "choropleth": [
           {
            "colorbar": {
             "outlinewidth": 0,
             "tickcolor": "rgb(36,36,36)",
             "ticklen": 8,
             "ticks": "outside",
             "tickwidth": 2
            },
            "type": "choropleth"
           }
          ],
          "contour": [
           {
            "colorbar": {
             "outlinewidth": 0,
             "tickcolor": "rgb(36,36,36)",
             "ticklen": 8,
             "ticks": "outside",
             "tickwidth": 2
            },
            "colorscale": [
             [
              0,
              "rgb(2,4,25)"
             ],
             [
              0.06274509803921569,
              "rgb(24,15,41)"
             ],
             [
              0.12549019607843137,
              "rgb(47,23,57)"
             ],
             [
              0.18823529411764706,
              "rgb(71,28,72)"
             ],
             [
              0.25098039215686274,
              "rgb(97,30,82)"
             ],
             [
              0.3137254901960784,
              "rgb(123,30,89)"
             ],
             [
              0.3764705882352941,
              "rgb(150,27,91)"
             ],
             [
              0.4392156862745098,
              "rgb(177,22,88)"
             ],
             [
              0.5019607843137255,
              "rgb(203,26,79)"
             ],
             [
              0.5647058823529412,
              "rgb(223,47,67)"
             ],
             [
              0.6274509803921569,
              "rgb(236,76,61)"
             ],
             [
              0.6901960784313725,
              "rgb(242,107,73)"
             ],
             [
              0.7529411764705882,
              "rgb(244,135,95)"
             ],
             [
              0.8156862745098039,
              "rgb(245,162,122)"
             ],
             [
              0.8784313725490196,
              "rgb(246,188,153)"
             ],
             [
              0.9411764705882353,
              "rgb(247,212,187)"
             ],
             [
              1,
              "rgb(250,234,220)"
             ]
            ],
            "type": "contour"
           }
          ],
          "contourcarpet": [
           {
            "colorbar": {
             "outlinewidth": 0,
             "tickcolor": "rgb(36,36,36)",
             "ticklen": 8,
             "ticks": "outside",
             "tickwidth": 2
            },
            "type": "contourcarpet"
           }
          ],
          "heatmap": [
           {
            "colorbar": {
             "outlinewidth": 0,
             "tickcolor": "rgb(36,36,36)",
             "ticklen": 8,
             "ticks": "outside",
             "tickwidth": 2
            },
            "colorscale": [
             [
              0,
              "rgb(2,4,25)"
             ],
             [
              0.06274509803921569,
              "rgb(24,15,41)"
             ],
             [
              0.12549019607843137,
              "rgb(47,23,57)"
             ],
             [
              0.18823529411764706,
              "rgb(71,28,72)"
             ],
             [
              0.25098039215686274,
              "rgb(97,30,82)"
             ],
             [
              0.3137254901960784,
              "rgb(123,30,89)"
             ],
             [
              0.3764705882352941,
              "rgb(150,27,91)"
             ],
             [
              0.4392156862745098,
              "rgb(177,22,88)"
             ],
             [
              0.5019607843137255,
              "rgb(203,26,79)"
             ],
             [
              0.5647058823529412,
              "rgb(223,47,67)"
             ],
             [
              0.6274509803921569,
              "rgb(236,76,61)"
             ],
             [
              0.6901960784313725,
              "rgb(242,107,73)"
             ],
             [
              0.7529411764705882,
              "rgb(244,135,95)"
             ],
             [
              0.8156862745098039,
              "rgb(245,162,122)"
             ],
             [
              0.8784313725490196,
              "rgb(246,188,153)"
             ],
             [
              0.9411764705882353,
              "rgb(247,212,187)"
             ],
             [
              1,
              "rgb(250,234,220)"
             ]
            ],
            "type": "heatmap"
           }
          ],
          "heatmapgl": [
           {
            "colorbar": {
             "outlinewidth": 0,
             "tickcolor": "rgb(36,36,36)",
             "ticklen": 8,
             "ticks": "outside",
             "tickwidth": 2
            },
            "colorscale": [
             [
              0,
              "rgb(2,4,25)"
             ],
             [
              0.06274509803921569,
              "rgb(24,15,41)"
             ],
             [
              0.12549019607843137,
              "rgb(47,23,57)"
             ],
             [
              0.18823529411764706,
              "rgb(71,28,72)"
             ],
             [
              0.25098039215686274,
              "rgb(97,30,82)"
             ],
             [
              0.3137254901960784,
              "rgb(123,30,89)"
             ],
             [
              0.3764705882352941,
              "rgb(150,27,91)"
             ],
             [
              0.4392156862745098,
              "rgb(177,22,88)"
             ],
             [
              0.5019607843137255,
              "rgb(203,26,79)"
             ],
             [
              0.5647058823529412,
              "rgb(223,47,67)"
             ],
             [
              0.6274509803921569,
              "rgb(236,76,61)"
             ],
             [
              0.6901960784313725,
              "rgb(242,107,73)"
             ],
             [
              0.7529411764705882,
              "rgb(244,135,95)"
             ],
             [
              0.8156862745098039,
              "rgb(245,162,122)"
             ],
             [
              0.8784313725490196,
              "rgb(246,188,153)"
             ],
             [
              0.9411764705882353,
              "rgb(247,212,187)"
             ],
             [
              1,
              "rgb(250,234,220)"
             ]
            ],
            "type": "heatmapgl"
           }
          ],
          "histogram": [
           {
            "marker": {
             "pattern": {
              "fillmode": "overlay",
              "size": 10,
              "solidity": 0.2
             }
            },
            "type": "histogram"
           }
          ],
          "histogram2d": [
           {
            "colorbar": {
             "outlinewidth": 0,
             "tickcolor": "rgb(36,36,36)",
             "ticklen": 8,
             "ticks": "outside",
             "tickwidth": 2
            },
            "colorscale": [
             [
              0,
              "rgb(2,4,25)"
             ],
             [
              0.06274509803921569,
              "rgb(24,15,41)"
             ],
             [
              0.12549019607843137,
              "rgb(47,23,57)"
             ],
             [
              0.18823529411764706,
              "rgb(71,28,72)"
             ],
             [
              0.25098039215686274,
              "rgb(97,30,82)"
             ],
             [
              0.3137254901960784,
              "rgb(123,30,89)"
             ],
             [
              0.3764705882352941,
              "rgb(150,27,91)"
             ],
             [
              0.4392156862745098,
              "rgb(177,22,88)"
             ],
             [
              0.5019607843137255,
              "rgb(203,26,79)"
             ],
             [
              0.5647058823529412,
              "rgb(223,47,67)"
             ],
             [
              0.6274509803921569,
              "rgb(236,76,61)"
             ],
             [
              0.6901960784313725,
              "rgb(242,107,73)"
             ],
             [
              0.7529411764705882,
              "rgb(244,135,95)"
             ],
             [
              0.8156862745098039,
              "rgb(245,162,122)"
             ],
             [
              0.8784313725490196,
              "rgb(246,188,153)"
             ],
             [
              0.9411764705882353,
              "rgb(247,212,187)"
             ],
             [
              1,
              "rgb(250,234,220)"
             ]
            ],
            "type": "histogram2d"
           }
          ],
          "histogram2dcontour": [
           {
            "colorbar": {
             "outlinewidth": 0,
             "tickcolor": "rgb(36,36,36)",
             "ticklen": 8,
             "ticks": "outside",
             "tickwidth": 2
            },
            "colorscale": [
             [
              0,
              "rgb(2,4,25)"
             ],
             [
              0.06274509803921569,
              "rgb(24,15,41)"
             ],
             [
              0.12549019607843137,
              "rgb(47,23,57)"
             ],
             [
              0.18823529411764706,
              "rgb(71,28,72)"
             ],
             [
              0.25098039215686274,
              "rgb(97,30,82)"
             ],
             [
              0.3137254901960784,
              "rgb(123,30,89)"
             ],
             [
              0.3764705882352941,
              "rgb(150,27,91)"
             ],
             [
              0.4392156862745098,
              "rgb(177,22,88)"
             ],
             [
              0.5019607843137255,
              "rgb(203,26,79)"
             ],
             [
              0.5647058823529412,
              "rgb(223,47,67)"
             ],
             [
              0.6274509803921569,
              "rgb(236,76,61)"
             ],
             [
              0.6901960784313725,
              "rgb(242,107,73)"
             ],
             [
              0.7529411764705882,
              "rgb(244,135,95)"
             ],
             [
              0.8156862745098039,
              "rgb(245,162,122)"
             ],
             [
              0.8784313725490196,
              "rgb(246,188,153)"
             ],
             [
              0.9411764705882353,
              "rgb(247,212,187)"
             ],
             [
              1,
              "rgb(250,234,220)"
             ]
            ],
            "type": "histogram2dcontour"
           }
          ],
          "mesh3d": [
           {
            "colorbar": {
             "outlinewidth": 0,
             "tickcolor": "rgb(36,36,36)",
             "ticklen": 8,
             "ticks": "outside",
             "tickwidth": 2
            },
            "type": "mesh3d"
           }
          ],
          "parcoords": [
           {
            "line": {
             "colorbar": {
              "outlinewidth": 0,
              "tickcolor": "rgb(36,36,36)",
              "ticklen": 8,
              "ticks": "outside",
              "tickwidth": 2
             }
            },
            "type": "parcoords"
           }
          ],
          "pie": [
           {
            "automargin": true,
            "type": "pie"
           }
          ],
          "scatter": [
           {
            "marker": {
             "colorbar": {
              "outlinewidth": 0,
              "tickcolor": "rgb(36,36,36)",
              "ticklen": 8,
              "ticks": "outside",
              "tickwidth": 2
             }
            },
            "type": "scatter"
           }
          ],
          "scatter3d": [
           {
            "line": {
             "colorbar": {
              "outlinewidth": 0,
              "tickcolor": "rgb(36,36,36)",
              "ticklen": 8,
              "ticks": "outside",
              "tickwidth": 2
             }
            },
            "marker": {
             "colorbar": {
              "outlinewidth": 0,
              "tickcolor": "rgb(36,36,36)",
              "ticklen": 8,
              "ticks": "outside",
              "tickwidth": 2
             }
            },
            "type": "scatter3d"
           }
          ],
          "scattercarpet": [
           {
            "marker": {
             "colorbar": {
              "outlinewidth": 0,
              "tickcolor": "rgb(36,36,36)",
              "ticklen": 8,
              "ticks": "outside",
              "tickwidth": 2
             }
            },
            "type": "scattercarpet"
           }
          ],
          "scattergeo": [
           {
            "marker": {
             "colorbar": {
              "outlinewidth": 0,
              "tickcolor": "rgb(36,36,36)",
              "ticklen": 8,
              "ticks": "outside",
              "tickwidth": 2
             }
            },
            "type": "scattergeo"
           }
          ],
          "scattergl": [
           {
            "marker": {
             "colorbar": {
              "outlinewidth": 0,
              "tickcolor": "rgb(36,36,36)",
              "ticklen": 8,
              "ticks": "outside",
              "tickwidth": 2
             }
            },
            "type": "scattergl"
           }
          ],
          "scattermapbox": [
           {
            "marker": {
             "colorbar": {
              "outlinewidth": 0,
              "tickcolor": "rgb(36,36,36)",
              "ticklen": 8,
              "ticks": "outside",
              "tickwidth": 2
             }
            },
            "type": "scattermapbox"
           }
          ],
          "scatterpolar": [
           {
            "marker": {
             "colorbar": {
              "outlinewidth": 0,
              "tickcolor": "rgb(36,36,36)",
              "ticklen": 8,
              "ticks": "outside",
              "tickwidth": 2
             }
            },
            "type": "scatterpolar"
           }
          ],
          "scatterpolargl": [
           {
            "marker": {
             "colorbar": {
              "outlinewidth": 0,
              "tickcolor": "rgb(36,36,36)",
              "ticklen": 8,
              "ticks": "outside",
              "tickwidth": 2
             }
            },
            "type": "scatterpolargl"
           }
          ],
          "scatterternary": [
           {
            "marker": {
             "colorbar": {
              "outlinewidth": 0,
              "tickcolor": "rgb(36,36,36)",
              "ticklen": 8,
              "ticks": "outside",
              "tickwidth": 2
             }
            },
            "type": "scatterternary"
           }
          ],
          "surface": [
           {
            "colorbar": {
             "outlinewidth": 0,
             "tickcolor": "rgb(36,36,36)",
             "ticklen": 8,
             "ticks": "outside",
             "tickwidth": 2
            },
            "colorscale": [
             [
              0,
              "rgb(2,4,25)"
             ],
             [
              0.06274509803921569,
              "rgb(24,15,41)"
             ],
             [
              0.12549019607843137,
              "rgb(47,23,57)"
             ],
             [
              0.18823529411764706,
              "rgb(71,28,72)"
             ],
             [
              0.25098039215686274,
              "rgb(97,30,82)"
             ],
             [
              0.3137254901960784,
              "rgb(123,30,89)"
             ],
             [
              0.3764705882352941,
              "rgb(150,27,91)"
             ],
             [
              0.4392156862745098,
              "rgb(177,22,88)"
             ],
             [
              0.5019607843137255,
              "rgb(203,26,79)"
             ],
             [
              0.5647058823529412,
              "rgb(223,47,67)"
             ],
             [
              0.6274509803921569,
              "rgb(236,76,61)"
             ],
             [
              0.6901960784313725,
              "rgb(242,107,73)"
             ],
             [
              0.7529411764705882,
              "rgb(244,135,95)"
             ],
             [
              0.8156862745098039,
              "rgb(245,162,122)"
             ],
             [
              0.8784313725490196,
              "rgb(246,188,153)"
             ],
             [
              0.9411764705882353,
              "rgb(247,212,187)"
             ],
             [
              1,
              "rgb(250,234,220)"
             ]
            ],
            "type": "surface"
           }
          ],
          "table": [
           {
            "cells": {
             "fill": {
              "color": "rgb(231,231,240)"
             },
             "line": {
              "color": "white"
             }
            },
            "header": {
             "fill": {
              "color": "rgb(183,183,191)"
             },
             "line": {
              "color": "white"
             }
            },
            "type": "table"
           }
          ]
         },
         "layout": {
          "annotationdefaults": {
           "arrowcolor": "rgb(67,103,167)"
          },
          "autotypenumbers": "strict",
          "coloraxis": {
           "colorbar": {
            "outlinewidth": 0,
            "tickcolor": "rgb(36,36,36)",
            "ticklen": 8,
            "ticks": "outside",
            "tickwidth": 2
           }
          },
          "colorscale": {
           "sequential": [
            [
             0,
             "rgb(2,4,25)"
            ],
            [
             0.06274509803921569,
             "rgb(24,15,41)"
            ],
            [
             0.12549019607843137,
             "rgb(47,23,57)"
            ],
            [
             0.18823529411764706,
             "rgb(71,28,72)"
            ],
            [
             0.25098039215686274,
             "rgb(97,30,82)"
            ],
            [
             0.3137254901960784,
             "rgb(123,30,89)"
            ],
            [
             0.3764705882352941,
             "rgb(150,27,91)"
            ],
            [
             0.4392156862745098,
             "rgb(177,22,88)"
            ],
            [
             0.5019607843137255,
             "rgb(203,26,79)"
            ],
            [
             0.5647058823529412,
             "rgb(223,47,67)"
            ],
            [
             0.6274509803921569,
             "rgb(236,76,61)"
            ],
            [
             0.6901960784313725,
             "rgb(242,107,73)"
            ],
            [
             0.7529411764705882,
             "rgb(244,135,95)"
            ],
            [
             0.8156862745098039,
             "rgb(245,162,122)"
            ],
            [
             0.8784313725490196,
             "rgb(246,188,153)"
            ],
            [
             0.9411764705882353,
             "rgb(247,212,187)"
            ],
            [
             1,
             "rgb(250,234,220)"
            ]
           ],
           "sequentialminus": [
            [
             0,
             "rgb(2,4,25)"
            ],
            [
             0.06274509803921569,
             "rgb(24,15,41)"
            ],
            [
             0.12549019607843137,
             "rgb(47,23,57)"
            ],
            [
             0.18823529411764706,
             "rgb(71,28,72)"
            ],
            [
             0.25098039215686274,
             "rgb(97,30,82)"
            ],
            [
             0.3137254901960784,
             "rgb(123,30,89)"
            ],
            [
             0.3764705882352941,
             "rgb(150,27,91)"
            ],
            [
             0.4392156862745098,
             "rgb(177,22,88)"
            ],
            [
             0.5019607843137255,
             "rgb(203,26,79)"
            ],
            [
             0.5647058823529412,
             "rgb(223,47,67)"
            ],
            [
             0.6274509803921569,
             "rgb(236,76,61)"
            ],
            [
             0.6901960784313725,
             "rgb(242,107,73)"
            ],
            [
             0.7529411764705882,
             "rgb(244,135,95)"
            ],
            [
             0.8156862745098039,
             "rgb(245,162,122)"
            ],
            [
             0.8784313725490196,
             "rgb(246,188,153)"
            ],
            [
             0.9411764705882353,
             "rgb(247,212,187)"
            ],
            [
             1,
             "rgb(250,234,220)"
            ]
           ]
          },
          "colorway": [
           "rgb(76,114,176)",
           "rgb(221,132,82)",
           "rgb(85,168,104)",
           "rgb(196,78,82)",
           "rgb(129,114,179)",
           "rgb(147,120,96)",
           "rgb(218,139,195)",
           "rgb(140,140,140)",
           "rgb(204,185,116)",
           "rgb(100,181,205)"
          ],
          "font": {
           "color": "rgb(36,36,36)"
          },
          "geo": {
           "bgcolor": "white",
           "lakecolor": "white",
           "landcolor": "rgb(234,234,242)",
           "showlakes": true,
           "showland": true,
           "subunitcolor": "white"
          },
          "hoverlabel": {
           "align": "left"
          },
          "hovermode": "closest",
          "paper_bgcolor": "white",
          "plot_bgcolor": "rgb(234,234,242)",
          "polar": {
           "angularaxis": {
            "gridcolor": "white",
            "linecolor": "white",
            "showgrid": true,
            "ticks": ""
           },
           "bgcolor": "rgb(234,234,242)",
           "radialaxis": {
            "gridcolor": "white",
            "linecolor": "white",
            "showgrid": true,
            "ticks": ""
           }
          },
          "scene": {
           "xaxis": {
            "backgroundcolor": "rgb(234,234,242)",
            "gridcolor": "white",
            "gridwidth": 2,
            "linecolor": "white",
            "showbackground": true,
            "showgrid": true,
            "ticks": "",
            "zerolinecolor": "white"
           },
           "yaxis": {
            "backgroundcolor": "rgb(234,234,242)",
            "gridcolor": "white",
            "gridwidth": 2,
            "linecolor": "white",
            "showbackground": true,
            "showgrid": true,
            "ticks": "",
            "zerolinecolor": "white"
           },
           "zaxis": {
            "backgroundcolor": "rgb(234,234,242)",
            "gridcolor": "white",
            "gridwidth": 2,
            "linecolor": "white",
            "showbackground": true,
            "showgrid": true,
            "ticks": "",
            "zerolinecolor": "white"
           }
          },
          "shapedefaults": {
           "fillcolor": "rgb(67,103,167)",
           "line": {
            "width": 0
           },
           "opacity": 0.5
          },
          "ternary": {
           "aaxis": {
            "gridcolor": "white",
            "linecolor": "white",
            "showgrid": true,
            "ticks": ""
           },
           "baxis": {
            "gridcolor": "white",
            "linecolor": "white",
            "showgrid": true,
            "ticks": ""
           },
           "bgcolor": "rgb(234,234,242)",
           "caxis": {
            "gridcolor": "white",
            "linecolor": "white",
            "showgrid": true,
            "ticks": ""
           }
          },
          "xaxis": {
           "automargin": true,
           "gridcolor": "white",
           "linecolor": "white",
           "showgrid": true,
           "ticks": "",
           "title": {
            "standoff": 15
           },
           "zerolinecolor": "white"
          },
          "yaxis": {
           "automargin": true,
           "gridcolor": "white",
           "linecolor": "white",
           "showgrid": true,
           "ticks": "",
           "title": {
            "standoff": 15
           },
           "zerolinecolor": "white"
          }
         }
        },
        "title": {
         "text": "Distribution of the Tenure feature"
        }
       }
      },
      "text/html": [
       "<div>                            <div id=\"9f8666f9-6fca-4165-92ad-49d428b7807e\" class=\"plotly-graph-div\" style=\"height:450px; width:100%;\"></div>            <script type=\"text/javascript\">                require([\"plotly\"], function(Plotly) {                    window.PLOTLYENV=window.PLOTLYENV || {};                                    if (document.getElementById(\"9f8666f9-6fca-4165-92ad-49d428b7807e\")) {                    Plotly.newPlot(                        \"9f8666f9-6fca-4165-92ad-49d428b7807e\",                        [{\"x\":[1.0,2.0,8.0,3.0,5.0,7.0,4.0,9.0,6.0,10.0,0.0],\"y\":[952,950,933,928,927,925,885,882,881,446,382],\"type\":\"bar\"}],                        {\"template\":{\"data\":{\"bar\":[{\"error_x\":{\"color\":\"rgb(36,36,36)\"},\"error_y\":{\"color\":\"rgb(36,36,36)\"},\"marker\":{\"line\":{\"color\":\"rgb(234,234,242)\",\"width\":0.5},\"pattern\":{\"fillmode\":\"overlay\",\"size\":10,\"solidity\":0.2}},\"type\":\"bar\"}],\"barpolar\":[{\"marker\":{\"line\":{\"color\":\"rgb(234,234,242)\",\"width\":0.5},\"pattern\":{\"fillmode\":\"overlay\",\"size\":10,\"solidity\":0.2}},\"type\":\"barpolar\"}],\"carpet\":[{\"aaxis\":{\"endlinecolor\":\"rgb(36,36,36)\",\"gridcolor\":\"white\",\"linecolor\":\"white\",\"minorgridcolor\":\"white\",\"startlinecolor\":\"rgb(36,36,36)\"},\"baxis\":{\"endlinecolor\":\"rgb(36,36,36)\",\"gridcolor\":\"white\",\"linecolor\":\"white\",\"minorgridcolor\":\"white\",\"startlinecolor\":\"rgb(36,36,36)\"},\"type\":\"carpet\"}],\"choropleth\":[{\"colorbar\":{\"outlinewidth\":0,\"tickcolor\":\"rgb(36,36,36)\",\"ticklen\":8,\"ticks\":\"outside\",\"tickwidth\":2},\"type\":\"choropleth\"}],\"contour\":[{\"colorbar\":{\"outlinewidth\":0,\"tickcolor\":\"rgb(36,36,36)\",\"ticklen\":8,\"ticks\":\"outside\",\"tickwidth\":2},\"colorscale\":[[0.0,\"rgb(2,4,25)\"],[0.06274509803921569,\"rgb(24,15,41)\"],[0.12549019607843137,\"rgb(47,23,57)\"],[0.18823529411764706,\"rgb(71,28,72)\"],[0.25098039215686274,\"rgb(97,30,82)\"],[0.3137254901960784,\"rgb(123,30,89)\"],[0.3764705882352941,\"rgb(150,27,91)\"],[0.4392156862745098,\"rgb(177,22,88)\"],[0.5019607843137255,\"rgb(203,26,79)\"],[0.5647058823529412,\"rgb(223,47,67)\"],[0.6274509803921569,\"rgb(236,76,61)\"],[0.6901960784313725,\"rgb(242,107,73)\"],[0.7529411764705882,\"rgb(244,135,95)\"],[0.8156862745098039,\"rgb(245,162,122)\"],[0.8784313725490196,\"rgb(246,188,153)\"],[0.9411764705882353,\"rgb(247,212,187)\"],[1.0,\"rgb(250,234,220)\"]],\"type\":\"contour\"}],\"contourcarpet\":[{\"colorbar\":{\"outlinewidth\":0,\"tickcolor\":\"rgb(36,36,36)\",\"ticklen\":8,\"ticks\":\"outside\",\"tickwidth\":2},\"type\":\"contourcarpet\"}],\"heatmap\":[{\"colorbar\":{\"outlinewidth\":0,\"tickcolor\":\"rgb(36,36,36)\",\"ticklen\":8,\"ticks\":\"outside\",\"tickwidth\":2},\"colorscale\":[[0.0,\"rgb(2,4,25)\"],[0.06274509803921569,\"rgb(24,15,41)\"],[0.12549019607843137,\"rgb(47,23,57)\"],[0.18823529411764706,\"rgb(71,28,72)\"],[0.25098039215686274,\"rgb(97,30,82)\"],[0.3137254901960784,\"rgb(123,30,89)\"],[0.3764705882352941,\"rgb(150,27,91)\"],[0.4392156862745098,\"rgb(177,22,88)\"],[0.5019607843137255,\"rgb(203,26,79)\"],[0.5647058823529412,\"rgb(223,47,67)\"],[0.6274509803921569,\"rgb(236,76,61)\"],[0.6901960784313725,\"rgb(242,107,73)\"],[0.7529411764705882,\"rgb(244,135,95)\"],[0.8156862745098039,\"rgb(245,162,122)\"],[0.8784313725490196,\"rgb(246,188,153)\"],[0.9411764705882353,\"rgb(247,212,187)\"],[1.0,\"rgb(250,234,220)\"]],\"type\":\"heatmap\"}],\"heatmapgl\":[{\"colorbar\":{\"outlinewidth\":0,\"tickcolor\":\"rgb(36,36,36)\",\"ticklen\":8,\"ticks\":\"outside\",\"tickwidth\":2},\"colorscale\":[[0.0,\"rgb(2,4,25)\"],[0.06274509803921569,\"rgb(24,15,41)\"],[0.12549019607843137,\"rgb(47,23,57)\"],[0.18823529411764706,\"rgb(71,28,72)\"],[0.25098039215686274,\"rgb(97,30,82)\"],[0.3137254901960784,\"rgb(123,30,89)\"],[0.3764705882352941,\"rgb(150,27,91)\"],[0.4392156862745098,\"rgb(177,22,88)\"],[0.5019607843137255,\"rgb(203,26,79)\"],[0.5647058823529412,\"rgb(223,47,67)\"],[0.6274509803921569,\"rgb(236,76,61)\"],[0.6901960784313725,\"rgb(242,107,73)\"],[0.7529411764705882,\"rgb(244,135,95)\"],[0.8156862745098039,\"rgb(245,162,122)\"],[0.8784313725490196,\"rgb(246,188,153)\"],[0.9411764705882353,\"rgb(247,212,187)\"],[1.0,\"rgb(250,234,220)\"]],\"type\":\"heatmapgl\"}],\"histogram\":[{\"marker\":{\"pattern\":{\"fillmode\":\"overlay\",\"size\":10,\"solidity\":0.2}},\"type\":\"histogram\"}],\"histogram2d\":[{\"colorbar\":{\"outlinewidth\":0,\"tickcolor\":\"rgb(36,36,36)\",\"ticklen\":8,\"ticks\":\"outside\",\"tickwidth\":2},\"colorscale\":[[0.0,\"rgb(2,4,25)\"],[0.06274509803921569,\"rgb(24,15,41)\"],[0.12549019607843137,\"rgb(47,23,57)\"],[0.18823529411764706,\"rgb(71,28,72)\"],[0.25098039215686274,\"rgb(97,30,82)\"],[0.3137254901960784,\"rgb(123,30,89)\"],[0.3764705882352941,\"rgb(150,27,91)\"],[0.4392156862745098,\"rgb(177,22,88)\"],[0.5019607843137255,\"rgb(203,26,79)\"],[0.5647058823529412,\"rgb(223,47,67)\"],[0.6274509803921569,\"rgb(236,76,61)\"],[0.6901960784313725,\"rgb(242,107,73)\"],[0.7529411764705882,\"rgb(244,135,95)\"],[0.8156862745098039,\"rgb(245,162,122)\"],[0.8784313725490196,\"rgb(246,188,153)\"],[0.9411764705882353,\"rgb(247,212,187)\"],[1.0,\"rgb(250,234,220)\"]],\"type\":\"histogram2d\"}],\"histogram2dcontour\":[{\"colorbar\":{\"outlinewidth\":0,\"tickcolor\":\"rgb(36,36,36)\",\"ticklen\":8,\"ticks\":\"outside\",\"tickwidth\":2},\"colorscale\":[[0.0,\"rgb(2,4,25)\"],[0.06274509803921569,\"rgb(24,15,41)\"],[0.12549019607843137,\"rgb(47,23,57)\"],[0.18823529411764706,\"rgb(71,28,72)\"],[0.25098039215686274,\"rgb(97,30,82)\"],[0.3137254901960784,\"rgb(123,30,89)\"],[0.3764705882352941,\"rgb(150,27,91)\"],[0.4392156862745098,\"rgb(177,22,88)\"],[0.5019607843137255,\"rgb(203,26,79)\"],[0.5647058823529412,\"rgb(223,47,67)\"],[0.6274509803921569,\"rgb(236,76,61)\"],[0.6901960784313725,\"rgb(242,107,73)\"],[0.7529411764705882,\"rgb(244,135,95)\"],[0.8156862745098039,\"rgb(245,162,122)\"],[0.8784313725490196,\"rgb(246,188,153)\"],[0.9411764705882353,\"rgb(247,212,187)\"],[1.0,\"rgb(250,234,220)\"]],\"type\":\"histogram2dcontour\"}],\"mesh3d\":[{\"colorbar\":{\"outlinewidth\":0,\"tickcolor\":\"rgb(36,36,36)\",\"ticklen\":8,\"ticks\":\"outside\",\"tickwidth\":2},\"type\":\"mesh3d\"}],\"parcoords\":[{\"line\":{\"colorbar\":{\"outlinewidth\":0,\"tickcolor\":\"rgb(36,36,36)\",\"ticklen\":8,\"ticks\":\"outside\",\"tickwidth\":2}},\"type\":\"parcoords\"}],\"pie\":[{\"automargin\":true,\"type\":\"pie\"}],\"scatter\":[{\"marker\":{\"colorbar\":{\"outlinewidth\":0,\"tickcolor\":\"rgb(36,36,36)\",\"ticklen\":8,\"ticks\":\"outside\",\"tickwidth\":2}},\"type\":\"scatter\"}],\"scatter3d\":[{\"line\":{\"colorbar\":{\"outlinewidth\":0,\"tickcolor\":\"rgb(36,36,36)\",\"ticklen\":8,\"ticks\":\"outside\",\"tickwidth\":2}},\"marker\":{\"colorbar\":{\"outlinewidth\":0,\"tickcolor\":\"rgb(36,36,36)\",\"ticklen\":8,\"ticks\":\"outside\",\"tickwidth\":2}},\"type\":\"scatter3d\"}],\"scattercarpet\":[{\"marker\":{\"colorbar\":{\"outlinewidth\":0,\"tickcolor\":\"rgb(36,36,36)\",\"ticklen\":8,\"ticks\":\"outside\",\"tickwidth\":2}},\"type\":\"scattercarpet\"}],\"scattergeo\":[{\"marker\":{\"colorbar\":{\"outlinewidth\":0,\"tickcolor\":\"rgb(36,36,36)\",\"ticklen\":8,\"ticks\":\"outside\",\"tickwidth\":2}},\"type\":\"scattergeo\"}],\"scattergl\":[{\"marker\":{\"colorbar\":{\"outlinewidth\":0,\"tickcolor\":\"rgb(36,36,36)\",\"ticklen\":8,\"ticks\":\"outside\",\"tickwidth\":2}},\"type\":\"scattergl\"}],\"scattermapbox\":[{\"marker\":{\"colorbar\":{\"outlinewidth\":0,\"tickcolor\":\"rgb(36,36,36)\",\"ticklen\":8,\"ticks\":\"outside\",\"tickwidth\":2}},\"type\":\"scattermapbox\"}],\"scatterpolar\":[{\"marker\":{\"colorbar\":{\"outlinewidth\":0,\"tickcolor\":\"rgb(36,36,36)\",\"ticklen\":8,\"ticks\":\"outside\",\"tickwidth\":2}},\"type\":\"scatterpolar\"}],\"scatterpolargl\":[{\"marker\":{\"colorbar\":{\"outlinewidth\":0,\"tickcolor\":\"rgb(36,36,36)\",\"ticklen\":8,\"ticks\":\"outside\",\"tickwidth\":2}},\"type\":\"scatterpolargl\"}],\"scatterternary\":[{\"marker\":{\"colorbar\":{\"outlinewidth\":0,\"tickcolor\":\"rgb(36,36,36)\",\"ticklen\":8,\"ticks\":\"outside\",\"tickwidth\":2}},\"type\":\"scatterternary\"}],\"surface\":[{\"colorbar\":{\"outlinewidth\":0,\"tickcolor\":\"rgb(36,36,36)\",\"ticklen\":8,\"ticks\":\"outside\",\"tickwidth\":2},\"colorscale\":[[0.0,\"rgb(2,4,25)\"],[0.06274509803921569,\"rgb(24,15,41)\"],[0.12549019607843137,\"rgb(47,23,57)\"],[0.18823529411764706,\"rgb(71,28,72)\"],[0.25098039215686274,\"rgb(97,30,82)\"],[0.3137254901960784,\"rgb(123,30,89)\"],[0.3764705882352941,\"rgb(150,27,91)\"],[0.4392156862745098,\"rgb(177,22,88)\"],[0.5019607843137255,\"rgb(203,26,79)\"],[0.5647058823529412,\"rgb(223,47,67)\"],[0.6274509803921569,\"rgb(236,76,61)\"],[0.6901960784313725,\"rgb(242,107,73)\"],[0.7529411764705882,\"rgb(244,135,95)\"],[0.8156862745098039,\"rgb(245,162,122)\"],[0.8784313725490196,\"rgb(246,188,153)\"],[0.9411764705882353,\"rgb(247,212,187)\"],[1.0,\"rgb(250,234,220)\"]],\"type\":\"surface\"}],\"table\":[{\"cells\":{\"fill\":{\"color\":\"rgb(231,231,240)\"},\"line\":{\"color\":\"white\"}},\"header\":{\"fill\":{\"color\":\"rgb(183,183,191)\"},\"line\":{\"color\":\"white\"}},\"type\":\"table\"}]},\"layout\":{\"annotationdefaults\":{\"arrowcolor\":\"rgb(67,103,167)\"},\"autotypenumbers\":\"strict\",\"coloraxis\":{\"colorbar\":{\"outlinewidth\":0,\"tickcolor\":\"rgb(36,36,36)\",\"ticklen\":8,\"ticks\":\"outside\",\"tickwidth\":2}},\"colorscale\":{\"sequential\":[[0.0,\"rgb(2,4,25)\"],[0.06274509803921569,\"rgb(24,15,41)\"],[0.12549019607843137,\"rgb(47,23,57)\"],[0.18823529411764706,\"rgb(71,28,72)\"],[0.25098039215686274,\"rgb(97,30,82)\"],[0.3137254901960784,\"rgb(123,30,89)\"],[0.3764705882352941,\"rgb(150,27,91)\"],[0.4392156862745098,\"rgb(177,22,88)\"],[0.5019607843137255,\"rgb(203,26,79)\"],[0.5647058823529412,\"rgb(223,47,67)\"],[0.6274509803921569,\"rgb(236,76,61)\"],[0.6901960784313725,\"rgb(242,107,73)\"],[0.7529411764705882,\"rgb(244,135,95)\"],[0.8156862745098039,\"rgb(245,162,122)\"],[0.8784313725490196,\"rgb(246,188,153)\"],[0.9411764705882353,\"rgb(247,212,187)\"],[1.0,\"rgb(250,234,220)\"]],\"sequentialminus\":[[0.0,\"rgb(2,4,25)\"],[0.06274509803921569,\"rgb(24,15,41)\"],[0.12549019607843137,\"rgb(47,23,57)\"],[0.18823529411764706,\"rgb(71,28,72)\"],[0.25098039215686274,\"rgb(97,30,82)\"],[0.3137254901960784,\"rgb(123,30,89)\"],[0.3764705882352941,\"rgb(150,27,91)\"],[0.4392156862745098,\"rgb(177,22,88)\"],[0.5019607843137255,\"rgb(203,26,79)\"],[0.5647058823529412,\"rgb(223,47,67)\"],[0.6274509803921569,\"rgb(236,76,61)\"],[0.6901960784313725,\"rgb(242,107,73)\"],[0.7529411764705882,\"rgb(244,135,95)\"],[0.8156862745098039,\"rgb(245,162,122)\"],[0.8784313725490196,\"rgb(246,188,153)\"],[0.9411764705882353,\"rgb(247,212,187)\"],[1.0,\"rgb(250,234,220)\"]]},\"colorway\":[\"rgb(76,114,176)\",\"rgb(221,132,82)\",\"rgb(85,168,104)\",\"rgb(196,78,82)\",\"rgb(129,114,179)\",\"rgb(147,120,96)\",\"rgb(218,139,195)\",\"rgb(140,140,140)\",\"rgb(204,185,116)\",\"rgb(100,181,205)\"],\"font\":{\"color\":\"rgb(36,36,36)\"},\"geo\":{\"bgcolor\":\"white\",\"lakecolor\":\"white\",\"landcolor\":\"rgb(234,234,242)\",\"showlakes\":true,\"showland\":true,\"subunitcolor\":\"white\"},\"hoverlabel\":{\"align\":\"left\"},\"hovermode\":\"closest\",\"paper_bgcolor\":\"white\",\"plot_bgcolor\":\"rgb(234,234,242)\",\"polar\":{\"angularaxis\":{\"gridcolor\":\"white\",\"linecolor\":\"white\",\"showgrid\":true,\"ticks\":\"\"},\"bgcolor\":\"rgb(234,234,242)\",\"radialaxis\":{\"gridcolor\":\"white\",\"linecolor\":\"white\",\"showgrid\":true,\"ticks\":\"\"}},\"scene\":{\"xaxis\":{\"backgroundcolor\":\"rgb(234,234,242)\",\"gridcolor\":\"white\",\"gridwidth\":2,\"linecolor\":\"white\",\"showbackground\":true,\"showgrid\":true,\"ticks\":\"\",\"zerolinecolor\":\"white\"},\"yaxis\":{\"backgroundcolor\":\"rgb(234,234,242)\",\"gridcolor\":\"white\",\"gridwidth\":2,\"linecolor\":\"white\",\"showbackground\":true,\"showgrid\":true,\"ticks\":\"\",\"zerolinecolor\":\"white\"},\"zaxis\":{\"backgroundcolor\":\"rgb(234,234,242)\",\"gridcolor\":\"white\",\"gridwidth\":2,\"linecolor\":\"white\",\"showbackground\":true,\"showgrid\":true,\"ticks\":\"\",\"zerolinecolor\":\"white\"}},\"shapedefaults\":{\"fillcolor\":\"rgb(67,103,167)\",\"line\":{\"width\":0},\"opacity\":0.5},\"ternary\":{\"aaxis\":{\"gridcolor\":\"white\",\"linecolor\":\"white\",\"showgrid\":true,\"ticks\":\"\"},\"baxis\":{\"gridcolor\":\"white\",\"linecolor\":\"white\",\"showgrid\":true,\"ticks\":\"\"},\"bgcolor\":\"rgb(234,234,242)\",\"caxis\":{\"gridcolor\":\"white\",\"linecolor\":\"white\",\"showgrid\":true,\"ticks\":\"\"}},\"xaxis\":{\"automargin\":true,\"gridcolor\":\"white\",\"linecolor\":\"white\",\"showgrid\":true,\"ticks\":\"\",\"title\":{\"standoff\":15},\"zerolinecolor\":\"white\"},\"yaxis\":{\"automargin\":true,\"gridcolor\":\"white\",\"linecolor\":\"white\",\"showgrid\":true,\"ticks\":\"\",\"title\":{\"standoff\":15},\"zerolinecolor\":\"white\"}}},\"title\":{\"text\":\"Distribution of the Tenure feature\"},\"height\":450,\"showlegend\":false},                        {\"responsive\": true}                    ).then(function(){\n",
       "                            \n",
       "var gd = document.getElementById('9f8666f9-6fca-4165-92ad-49d428b7807e');\n",
       "var x = new MutationObserver(function (mutations, observer) {{\n",
       "        var display = window.getComputedStyle(gd).display;\n",
       "        if (!display || display === 'none') {{\n",
       "            console.log([gd, 'removed!']);\n",
       "            Plotly.purge(gd);\n",
       "            observer.disconnect();\n",
       "        }}\n",
       "}});\n",
       "\n",
       "// Listen for the removal of the full notebook cells\n",
       "var notebookContainer = gd.closest('#notebook-container');\n",
       "if (notebookContainer) {{\n",
       "    x.observe(notebookContainer, {childList: true});\n",
       "}}\n",
       "\n",
       "// Listen for the clearing of the current output cell\n",
       "var outputEl = gd.closest('.output');\n",
       "if (outputEl) {{\n",
       "    x.observe(outputEl, {childList: true});\n",
       "}}\n",
       "\n",
       "                        })                };                });            </script>        </div>"
      ]
     },
     "metadata": {},
     "output_type": "display_data"
    }
   ],
   "source": [
    "fig = go.Figure([go.Bar(x = tenure['tenure_cnt'], y=tenure['count'])])\n",
    "fig.update_layout(height = 450, showlegend = False, title_text = \"Distribution of the Tenure feature\")\n",
    "fig.show()"
   ]
  },
  {
   "cell_type": "markdown",
   "metadata": {},
   "source": [
    "**We can see that the smallest part of customers doesn't have deposit or has it for the period of 10 years. Rest customers have plus minus equal distribution of the Tenure feature. So to work with missing values we can assume that customers don't have any deposit in the bank, so we can replace missing values with 0, or we can replace missing values with mean or median. Let's check it out**"
   ]
  },
  {
   "cell_type": "code",
   "execution_count": 84,
   "metadata": {},
   "outputs": [
    {
     "name": "stdout",
     "output_type": "stream",
     "text": [
      "Mean: 4.997690023099769\n",
      "Median: 5.0\n"
     ]
    }
   ],
   "source": [
    "print('Mean:', data['tenure'].mean())\n",
    "print('Median:', data['tenure'].median())"
   ]
  },
  {
   "cell_type": "markdown",
   "metadata": {},
   "source": [
    "**The mean and median are almost equal and pretty high. It could impact on our further calculations. So it is better to assume that customers don't have deposit in the bank and that's why didn't fill this graph. So we will replace missing values with 0**"
   ]
  },
  {
   "cell_type": "code",
   "execution_count": 85,
   "metadata": {},
   "outputs": [
    {
     "data": {
      "text/plain": [
       "0.0     1291\n",
       "1.0     952 \n",
       "2.0     950 \n",
       "8.0     933 \n",
       "3.0     928 \n",
       "5.0     927 \n",
       "7.0     925 \n",
       "4.0     885 \n",
       "9.0     882 \n",
       "6.0     881 \n",
       "10.0    446 \n",
       "Name: tenure, dtype: int64"
      ]
     },
     "execution_count": 85,
     "metadata": {},
     "output_type": "execute_result"
    }
   ],
   "source": [
    "data['tenure'] = data['tenure'].fillna(0)\n",
    "data['tenure'].value_counts()"
   ]
  },
  {
   "cell_type": "code",
   "execution_count": 86,
   "metadata": {},
   "outputs": [
    {
     "name": "stdout",
     "output_type": "stream",
     "text": [
      "<class 'pandas.core.frame.DataFrame'>\n",
      "RangeIndex: 10000 entries, 0 to 9999\n",
      "Data columns (total 14 columns):\n",
      " #   Column            Non-Null Count  Dtype  \n",
      "---  ------            --------------  -----  \n",
      " 0   row_number        10000 non-null  int64  \n",
      " 1   customer_id       10000 non-null  int64  \n",
      " 2   surname           10000 non-null  object \n",
      " 3   credit_score      10000 non-null  int64  \n",
      " 4   geography         10000 non-null  object \n",
      " 5   gender            10000 non-null  object \n",
      " 6   age               10000 non-null  int64  \n",
      " 7   tenure            10000 non-null  float64\n",
      " 8   balance           10000 non-null  float64\n",
      " 9   num_of_products   10000 non-null  int64  \n",
      " 10  has_cr_card       10000 non-null  int64  \n",
      " 11  is_active_member  10000 non-null  int64  \n",
      " 12  estimated_salary  10000 non-null  float64\n",
      " 13  exited            10000 non-null  int64  \n",
      "dtypes: float64(3), int64(8), object(3)\n",
      "memory usage: 1.1+ MB\n"
     ]
    }
   ],
   "source": [
    "data.info()"
   ]
  },
  {
   "cell_type": "markdown",
   "metadata": {},
   "source": [
    "**Let's change the tenure data type to int**"
   ]
  },
  {
   "cell_type": "code",
   "execution_count": 87,
   "metadata": {},
   "outputs": [],
   "source": [
    "data['tenure'] = data['tenure'].astype('int')"
   ]
  },
  {
   "cell_type": "code",
   "execution_count": 88,
   "metadata": {},
   "outputs": [
    {
     "name": "stdout",
     "output_type": "stream",
     "text": [
      "<class 'pandas.core.frame.DataFrame'>\n",
      "RangeIndex: 10000 entries, 0 to 9999\n",
      "Data columns (total 14 columns):\n",
      " #   Column            Non-Null Count  Dtype  \n",
      "---  ------            --------------  -----  \n",
      " 0   row_number        10000 non-null  int64  \n",
      " 1   customer_id       10000 non-null  int64  \n",
      " 2   surname           10000 non-null  object \n",
      " 3   credit_score      10000 non-null  int64  \n",
      " 4   geography         10000 non-null  object \n",
      " 5   gender            10000 non-null  object \n",
      " 6   age               10000 non-null  int64  \n",
      " 7   tenure            10000 non-null  int64  \n",
      " 8   balance           10000 non-null  float64\n",
      " 9   num_of_products   10000 non-null  int64  \n",
      " 10  has_cr_card       10000 non-null  int64  \n",
      " 11  is_active_member  10000 non-null  int64  \n",
      " 12  estimated_salary  10000 non-null  float64\n",
      " 13  exited            10000 non-null  int64  \n",
      "dtypes: float64(2), int64(9), object(3)\n",
      "memory usage: 1.1+ MB\n"
     ]
    }
   ],
   "source": [
    "data.info()"
   ]
  },
  {
   "cell_type": "markdown",
   "metadata": {},
   "source": [
    "**Let's remove columns row_number, customer_id and surname since we don't need them for any calculations or testing**"
   ]
  },
  {
   "cell_type": "code",
   "execution_count": 89,
   "metadata": {},
   "outputs": [
    {
     "data": {
      "text/html": [
       "<div>\n",
       "<style scoped>\n",
       "    .dataframe tbody tr th:only-of-type {\n",
       "        vertical-align: middle;\n",
       "    }\n",
       "\n",
       "    .dataframe tbody tr th {\n",
       "        vertical-align: top;\n",
       "    }\n",
       "\n",
       "    .dataframe thead th {\n",
       "        text-align: right;\n",
       "    }\n",
       "</style>\n",
       "<table border=\"1\" class=\"dataframe\">\n",
       "  <thead>\n",
       "    <tr style=\"text-align: right;\">\n",
       "      <th></th>\n",
       "      <th>credit_score</th>\n",
       "      <th>geography</th>\n",
       "      <th>gender</th>\n",
       "      <th>age</th>\n",
       "      <th>tenure</th>\n",
       "      <th>balance</th>\n",
       "      <th>num_of_products</th>\n",
       "      <th>has_cr_card</th>\n",
       "      <th>is_active_member</th>\n",
       "      <th>estimated_salary</th>\n",
       "      <th>exited</th>\n",
       "    </tr>\n",
       "  </thead>\n",
       "  <tbody>\n",
       "    <tr>\n",
       "      <th>0</th>\n",
       "      <td>619</td>\n",
       "      <td>France</td>\n",
       "      <td>Female</td>\n",
       "      <td>42</td>\n",
       "      <td>2</td>\n",
       "      <td>0.00</td>\n",
       "      <td>1</td>\n",
       "      <td>1</td>\n",
       "      <td>1</td>\n",
       "      <td>101348.88</td>\n",
       "      <td>1</td>\n",
       "    </tr>\n",
       "    <tr>\n",
       "      <th>1</th>\n",
       "      <td>608</td>\n",
       "      <td>Spain</td>\n",
       "      <td>Female</td>\n",
       "      <td>41</td>\n",
       "      <td>1</td>\n",
       "      <td>83807.86</td>\n",
       "      <td>1</td>\n",
       "      <td>0</td>\n",
       "      <td>1</td>\n",
       "      <td>112542.58</td>\n",
       "      <td>0</td>\n",
       "    </tr>\n",
       "    <tr>\n",
       "      <th>2</th>\n",
       "      <td>502</td>\n",
       "      <td>France</td>\n",
       "      <td>Female</td>\n",
       "      <td>42</td>\n",
       "      <td>8</td>\n",
       "      <td>159660.80</td>\n",
       "      <td>3</td>\n",
       "      <td>1</td>\n",
       "      <td>0</td>\n",
       "      <td>113931.57</td>\n",
       "      <td>1</td>\n",
       "    </tr>\n",
       "    <tr>\n",
       "      <th>3</th>\n",
       "      <td>699</td>\n",
       "      <td>France</td>\n",
       "      <td>Female</td>\n",
       "      <td>39</td>\n",
       "      <td>1</td>\n",
       "      <td>0.00</td>\n",
       "      <td>2</td>\n",
       "      <td>0</td>\n",
       "      <td>0</td>\n",
       "      <td>93826.63</td>\n",
       "      <td>0</td>\n",
       "    </tr>\n",
       "    <tr>\n",
       "      <th>4</th>\n",
       "      <td>850</td>\n",
       "      <td>Spain</td>\n",
       "      <td>Female</td>\n",
       "      <td>43</td>\n",
       "      <td>2</td>\n",
       "      <td>125510.82</td>\n",
       "      <td>1</td>\n",
       "      <td>1</td>\n",
       "      <td>1</td>\n",
       "      <td>79084.10</td>\n",
       "      <td>0</td>\n",
       "    </tr>\n",
       "  </tbody>\n",
       "</table>\n",
       "</div>"
      ],
      "text/plain": [
       "   credit_score geography  gender  age  tenure    balance  num_of_products  \\\n",
       "0  619           France    Female  42   2       0.00       1                 \n",
       "1  608           Spain     Female  41   1       83807.86   1                 \n",
       "2  502           France    Female  42   8       159660.80  3                 \n",
       "3  699           France    Female  39   1       0.00       2                 \n",
       "4  850           Spain     Female  43   2       125510.82  1                 \n",
       "\n",
       "   has_cr_card  is_active_member  estimated_salary  exited  \n",
       "0  1            1                 101348.88         1       \n",
       "1  0            1                 112542.58         0       \n",
       "2  1            0                 113931.57         1       \n",
       "3  0            0                 93826.63          0       \n",
       "4  1            1                 79084.10          0       "
      ]
     },
     "execution_count": 89,
     "metadata": {},
     "output_type": "execute_result"
    }
   ],
   "source": [
    "df = data.drop(['row_number', 'customer_id', 'surname'], axis=1)\n",
    "df.head()"
   ]
  },
  {
   "cell_type": "code",
   "execution_count": 90,
   "metadata": {},
   "outputs": [
    {
     "name": "stdout",
     "output_type": "stream",
     "text": [
      "Duplicates amount: 0\n"
     ]
    }
   ],
   "source": [
    "print('Duplicates amount:', df.duplicated().sum())"
   ]
  },
  {
   "cell_type": "markdown",
   "metadata": {},
   "source": [
    "### Data transormation"
   ]
  },
  {
   "cell_type": "code",
   "execution_count": 91,
   "metadata": {},
   "outputs": [
    {
     "data": {
      "text/html": [
       "<div>\n",
       "<style scoped>\n",
       "    .dataframe tbody tr th:only-of-type {\n",
       "        vertical-align: middle;\n",
       "    }\n",
       "\n",
       "    .dataframe tbody tr th {\n",
       "        vertical-align: top;\n",
       "    }\n",
       "\n",
       "    .dataframe thead th {\n",
       "        text-align: right;\n",
       "    }\n",
       "</style>\n",
       "<table border=\"1\" class=\"dataframe\">\n",
       "  <thead>\n",
       "    <tr style=\"text-align: right;\">\n",
       "      <th></th>\n",
       "      <th>credit_score</th>\n",
       "      <th>age</th>\n",
       "      <th>tenure</th>\n",
       "      <th>balance</th>\n",
       "      <th>num_of_products</th>\n",
       "      <th>has_cr_card</th>\n",
       "      <th>is_active_member</th>\n",
       "      <th>estimated_salary</th>\n",
       "      <th>exited</th>\n",
       "      <th>geography_Germany</th>\n",
       "      <th>geography_Spain</th>\n",
       "      <th>gender_Male</th>\n",
       "    </tr>\n",
       "  </thead>\n",
       "  <tbody>\n",
       "    <tr>\n",
       "      <th>9658</th>\n",
       "      <td>713</td>\n",
       "      <td>39</td>\n",
       "      <td>10</td>\n",
       "      <td>0.00</td>\n",
       "      <td>2</td>\n",
       "      <td>1</td>\n",
       "      <td>1</td>\n",
       "      <td>126263.97</td>\n",
       "      <td>0</td>\n",
       "      <td>0</td>\n",
       "      <td>0</td>\n",
       "      <td>0</td>\n",
       "    </tr>\n",
       "    <tr>\n",
       "      <th>4599</th>\n",
       "      <td>641</td>\n",
       "      <td>38</td>\n",
       "      <td>3</td>\n",
       "      <td>0.00</td>\n",
       "      <td>2</td>\n",
       "      <td>1</td>\n",
       "      <td>0</td>\n",
       "      <td>116466.19</td>\n",
       "      <td>0</td>\n",
       "      <td>0</td>\n",
       "      <td>0</td>\n",
       "      <td>0</td>\n",
       "    </tr>\n",
       "    <tr>\n",
       "      <th>2305</th>\n",
       "      <td>582</td>\n",
       "      <td>29</td>\n",
       "      <td>0</td>\n",
       "      <td>0.00</td>\n",
       "      <td>1</td>\n",
       "      <td>1</td>\n",
       "      <td>0</td>\n",
       "      <td>142516.35</td>\n",
       "      <td>0</td>\n",
       "      <td>0</td>\n",
       "      <td>0</td>\n",
       "      <td>1</td>\n",
       "    </tr>\n",
       "    <tr>\n",
       "      <th>793</th>\n",
       "      <td>743</td>\n",
       "      <td>34</td>\n",
       "      <td>1</td>\n",
       "      <td>131736.88</td>\n",
       "      <td>1</td>\n",
       "      <td>1</td>\n",
       "      <td>1</td>\n",
       "      <td>108543.21</td>\n",
       "      <td>0</td>\n",
       "      <td>1</td>\n",
       "      <td>0</td>\n",
       "      <td>0</td>\n",
       "    </tr>\n",
       "    <tr>\n",
       "      <th>6688</th>\n",
       "      <td>550</td>\n",
       "      <td>22</td>\n",
       "      <td>6</td>\n",
       "      <td>154377.30</td>\n",
       "      <td>1</td>\n",
       "      <td>1</td>\n",
       "      <td>1</td>\n",
       "      <td>51721.52</td>\n",
       "      <td>0</td>\n",
       "      <td>0</td>\n",
       "      <td>0</td>\n",
       "      <td>1</td>\n",
       "    </tr>\n",
       "    <tr>\n",
       "      <th>7027</th>\n",
       "      <td>464</td>\n",
       "      <td>37</td>\n",
       "      <td>4</td>\n",
       "      <td>155994.15</td>\n",
       "      <td>1</td>\n",
       "      <td>0</td>\n",
       "      <td>0</td>\n",
       "      <td>143665.44</td>\n",
       "      <td>0</td>\n",
       "      <td>1</td>\n",
       "      <td>0</td>\n",
       "      <td>1</td>\n",
       "    </tr>\n",
       "    <tr>\n",
       "      <th>7637</th>\n",
       "      <td>766</td>\n",
       "      <td>32</td>\n",
       "      <td>6</td>\n",
       "      <td>185714.28</td>\n",
       "      <td>1</td>\n",
       "      <td>1</td>\n",
       "      <td>1</td>\n",
       "      <td>102502.50</td>\n",
       "      <td>0</td>\n",
       "      <td>0</td>\n",
       "      <td>0</td>\n",
       "      <td>1</td>\n",
       "    </tr>\n",
       "    <tr>\n",
       "      <th>5061</th>\n",
       "      <td>633</td>\n",
       "      <td>42</td>\n",
       "      <td>1</td>\n",
       "      <td>0.00</td>\n",
       "      <td>2</td>\n",
       "      <td>1</td>\n",
       "      <td>0</td>\n",
       "      <td>56865.62</td>\n",
       "      <td>0</td>\n",
       "      <td>0</td>\n",
       "      <td>0</td>\n",
       "      <td>0</td>\n",
       "    </tr>\n",
       "    <tr>\n",
       "      <th>4232</th>\n",
       "      <td>745</td>\n",
       "      <td>47</td>\n",
       "      <td>5</td>\n",
       "      <td>0.00</td>\n",
       "      <td>2</td>\n",
       "      <td>0</td>\n",
       "      <td>0</td>\n",
       "      <td>145789.71</td>\n",
       "      <td>0</td>\n",
       "      <td>0</td>\n",
       "      <td>0</td>\n",
       "      <td>1</td>\n",
       "    </tr>\n",
       "    <tr>\n",
       "      <th>394</th>\n",
       "      <td>594</td>\n",
       "      <td>24</td>\n",
       "      <td>0</td>\n",
       "      <td>97378.54</td>\n",
       "      <td>1</td>\n",
       "      <td>1</td>\n",
       "      <td>1</td>\n",
       "      <td>71405.17</td>\n",
       "      <td>0</td>\n",
       "      <td>0</td>\n",
       "      <td>1</td>\n",
       "      <td>0</td>\n",
       "    </tr>\n",
       "  </tbody>\n",
       "</table>\n",
       "</div>"
      ],
      "text/plain": [
       "      credit_score  age  tenure    balance  num_of_products  has_cr_card  \\\n",
       "9658  713           39   10      0.00       2                1             \n",
       "4599  641           38   3       0.00       2                1             \n",
       "2305  582           29   0       0.00       1                1             \n",
       "793   743           34   1       131736.88  1                1             \n",
       "6688  550           22   6       154377.30  1                1             \n",
       "7027  464           37   4       155994.15  1                0             \n",
       "7637  766           32   6       185714.28  1                1             \n",
       "5061  633           42   1       0.00       2                1             \n",
       "4232  745           47   5       0.00       2                0             \n",
       "394   594           24   0       97378.54   1                1             \n",
       "\n",
       "      is_active_member  estimated_salary  exited  geography_Germany  \\\n",
       "9658  1                 126263.97         0       0                   \n",
       "4599  0                 116466.19         0       0                   \n",
       "2305  0                 142516.35         0       0                   \n",
       "793   1                 108543.21         0       1                   \n",
       "6688  1                 51721.52          0       0                   \n",
       "7027  0                 143665.44         0       1                   \n",
       "7637  1                 102502.50         0       0                   \n",
       "5061  0                 56865.62          0       0                   \n",
       "4232  0                 145789.71         0       0                   \n",
       "394   1                 71405.17          0       0                   \n",
       "\n",
       "      geography_Spain  gender_Male  \n",
       "9658  0                0            \n",
       "4599  0                0            \n",
       "2305  0                1            \n",
       "793   0                0            \n",
       "6688  0                1            \n",
       "7027  0                1            \n",
       "7637  0                1            \n",
       "5061  0                0            \n",
       "4232  0                1            \n",
       "394   1                0            "
      ]
     },
     "execution_count": 91,
     "metadata": {},
     "output_type": "execute_result"
    }
   ],
   "source": [
    "df = pd.get_dummies(df, drop_first=True)\n",
    "df. sample(10)"
   ]
  },
  {
   "cell_type": "code",
   "execution_count": 92,
   "metadata": {},
   "outputs": [
    {
     "data": {
      "text/html": [
       "<div>\n",
       "<style scoped>\n",
       "    .dataframe tbody tr th:only-of-type {\n",
       "        vertical-align: middle;\n",
       "    }\n",
       "\n",
       "    .dataframe tbody tr th {\n",
       "        vertical-align: top;\n",
       "    }\n",
       "\n",
       "    .dataframe thead th {\n",
       "        text-align: right;\n",
       "    }\n",
       "</style>\n",
       "<table border=\"1\" class=\"dataframe\">\n",
       "  <thead>\n",
       "    <tr style=\"text-align: right;\">\n",
       "      <th></th>\n",
       "      <th>credit_score</th>\n",
       "      <th>age</th>\n",
       "      <th>tenure</th>\n",
       "      <th>balance</th>\n",
       "      <th>num_of_products</th>\n",
       "      <th>has_cr_card</th>\n",
       "      <th>is_active_member</th>\n",
       "      <th>estimated_salary</th>\n",
       "      <th>exited</th>\n",
       "      <th>geography_germany</th>\n",
       "      <th>geography_spain</th>\n",
       "      <th>gender_male</th>\n",
       "    </tr>\n",
       "  </thead>\n",
       "  <tbody>\n",
       "    <tr>\n",
       "      <th>0</th>\n",
       "      <td>619</td>\n",
       "      <td>42</td>\n",
       "      <td>2</td>\n",
       "      <td>0.00</td>\n",
       "      <td>1</td>\n",
       "      <td>1</td>\n",
       "      <td>1</td>\n",
       "      <td>101348.88</td>\n",
       "      <td>1</td>\n",
       "      <td>0</td>\n",
       "      <td>0</td>\n",
       "      <td>0</td>\n",
       "    </tr>\n",
       "    <tr>\n",
       "      <th>1</th>\n",
       "      <td>608</td>\n",
       "      <td>41</td>\n",
       "      <td>1</td>\n",
       "      <td>83807.86</td>\n",
       "      <td>1</td>\n",
       "      <td>0</td>\n",
       "      <td>1</td>\n",
       "      <td>112542.58</td>\n",
       "      <td>0</td>\n",
       "      <td>0</td>\n",
       "      <td>1</td>\n",
       "      <td>0</td>\n",
       "    </tr>\n",
       "    <tr>\n",
       "      <th>2</th>\n",
       "      <td>502</td>\n",
       "      <td>42</td>\n",
       "      <td>8</td>\n",
       "      <td>159660.80</td>\n",
       "      <td>3</td>\n",
       "      <td>1</td>\n",
       "      <td>0</td>\n",
       "      <td>113931.57</td>\n",
       "      <td>1</td>\n",
       "      <td>0</td>\n",
       "      <td>0</td>\n",
       "      <td>0</td>\n",
       "    </tr>\n",
       "    <tr>\n",
       "      <th>3</th>\n",
       "      <td>699</td>\n",
       "      <td>39</td>\n",
       "      <td>1</td>\n",
       "      <td>0.00</td>\n",
       "      <td>2</td>\n",
       "      <td>0</td>\n",
       "      <td>0</td>\n",
       "      <td>93826.63</td>\n",
       "      <td>0</td>\n",
       "      <td>0</td>\n",
       "      <td>0</td>\n",
       "      <td>0</td>\n",
       "    </tr>\n",
       "    <tr>\n",
       "      <th>4</th>\n",
       "      <td>850</td>\n",
       "      <td>43</td>\n",
       "      <td>2</td>\n",
       "      <td>125510.82</td>\n",
       "      <td>1</td>\n",
       "      <td>1</td>\n",
       "      <td>1</td>\n",
       "      <td>79084.10</td>\n",
       "      <td>0</td>\n",
       "      <td>0</td>\n",
       "      <td>1</td>\n",
       "      <td>0</td>\n",
       "    </tr>\n",
       "  </tbody>\n",
       "</table>\n",
       "</div>"
      ],
      "text/plain": [
       "   credit_score  age  tenure    balance  num_of_products  has_cr_card  \\\n",
       "0  619           42   2       0.00       1                1             \n",
       "1  608           41   1       83807.86   1                0             \n",
       "2  502           42   8       159660.80  3                1             \n",
       "3  699           39   1       0.00       2                0             \n",
       "4  850           43   2       125510.82  1                1             \n",
       "\n",
       "   is_active_member  estimated_salary  exited  geography_germany  \\\n",
       "0  1                 101348.88         1       0                   \n",
       "1  1                 112542.58         0       0                   \n",
       "2  0                 113931.57         1       0                   \n",
       "3  0                 93826.63          0       0                   \n",
       "4  1                 79084.10          0       0                   \n",
       "\n",
       "   geography_spain  gender_male  \n",
       "0  0                0            \n",
       "1  1                0            \n",
       "2  0                0            \n",
       "3  0                0            \n",
       "4  1                0            "
      ]
     },
     "execution_count": 92,
     "metadata": {},
     "output_type": "execute_result"
    }
   ],
   "source": [
    "df = df.rename(columns = {'geography_Germany': 'geography_germany', \n",
    "                                  'geography_Spain': 'geography_spain', \n",
    "                                  'gender_Male': 'gender_male'}, inplace = False)\n",
    "df.head()"
   ]
  },
  {
   "cell_type": "markdown",
   "metadata": {},
   "source": [
    "**Let's check correlation between columns**"
   ]
  },
  {
   "cell_type": "code",
   "execution_count": 93,
   "metadata": {},
   "outputs": [
    {
     "data": {
      "text/html": [
       "<div>\n",
       "<style scoped>\n",
       "    .dataframe tbody tr th:only-of-type {\n",
       "        vertical-align: middle;\n",
       "    }\n",
       "\n",
       "    .dataframe tbody tr th {\n",
       "        vertical-align: top;\n",
       "    }\n",
       "\n",
       "    .dataframe thead th {\n",
       "        text-align: right;\n",
       "    }\n",
       "</style>\n",
       "<table border=\"1\" class=\"dataframe\">\n",
       "  <thead>\n",
       "    <tr style=\"text-align: right;\">\n",
       "      <th></th>\n",
       "      <th>credit_score</th>\n",
       "      <th>age</th>\n",
       "      <th>tenure</th>\n",
       "      <th>balance</th>\n",
       "      <th>num_of_products</th>\n",
       "      <th>has_cr_card</th>\n",
       "      <th>is_active_member</th>\n",
       "      <th>estimated_salary</th>\n",
       "      <th>exited</th>\n",
       "      <th>geography_germany</th>\n",
       "      <th>geography_spain</th>\n",
       "      <th>gender_male</th>\n",
       "    </tr>\n",
       "  </thead>\n",
       "  <tbody>\n",
       "    <tr>\n",
       "      <th>credit_score</th>\n",
       "      <td>1.000000</td>\n",
       "      <td>-0.003965</td>\n",
       "      <td>0.003087</td>\n",
       "      <td>0.006268</td>\n",
       "      <td>0.012238</td>\n",
       "      <td>-0.005458</td>\n",
       "      <td>0.025651</td>\n",
       "      <td>-0.001384</td>\n",
       "      <td>-0.027094</td>\n",
       "      <td>0.005538</td>\n",
       "      <td>0.004780</td>\n",
       "      <td>-0.002857</td>\n",
       "    </tr>\n",
       "    <tr>\n",
       "      <th>age</th>\n",
       "      <td>-0.003965</td>\n",
       "      <td>1.000000</td>\n",
       "      <td>-0.007368</td>\n",
       "      <td>0.028308</td>\n",
       "      <td>-0.030680</td>\n",
       "      <td>-0.011721</td>\n",
       "      <td>0.085472</td>\n",
       "      <td>-0.007201</td>\n",
       "      <td>0.285323</td>\n",
       "      <td>0.046897</td>\n",
       "      <td>-0.001685</td>\n",
       "      <td>-0.027544</td>\n",
       "    </tr>\n",
       "    <tr>\n",
       "      <th>tenure</th>\n",
       "      <td>0.003087</td>\n",
       "      <td>-0.007368</td>\n",
       "      <td>1.000000</td>\n",
       "      <td>-0.005821</td>\n",
       "      <td>0.010106</td>\n",
       "      <td>0.021387</td>\n",
       "      <td>-0.025856</td>\n",
       "      <td>0.011225</td>\n",
       "      <td>-0.013319</td>\n",
       "      <td>0.001676</td>\n",
       "      <td>-0.000745</td>\n",
       "      <td>0.014889</td>\n",
       "    </tr>\n",
       "    <tr>\n",
       "      <th>balance</th>\n",
       "      <td>0.006268</td>\n",
       "      <td>0.028308</td>\n",
       "      <td>-0.005821</td>\n",
       "      <td>1.000000</td>\n",
       "      <td>-0.304180</td>\n",
       "      <td>-0.014858</td>\n",
       "      <td>-0.010084</td>\n",
       "      <td>0.012797</td>\n",
       "      <td>0.118533</td>\n",
       "      <td>0.401110</td>\n",
       "      <td>-0.134892</td>\n",
       "      <td>0.012087</td>\n",
       "    </tr>\n",
       "    <tr>\n",
       "      <th>num_of_products</th>\n",
       "      <td>0.012238</td>\n",
       "      <td>-0.030680</td>\n",
       "      <td>0.010106</td>\n",
       "      <td>-0.304180</td>\n",
       "      <td>1.000000</td>\n",
       "      <td>0.003183</td>\n",
       "      <td>0.009612</td>\n",
       "      <td>0.014204</td>\n",
       "      <td>-0.047820</td>\n",
       "      <td>-0.010419</td>\n",
       "      <td>0.009039</td>\n",
       "      <td>-0.021859</td>\n",
       "    </tr>\n",
       "    <tr>\n",
       "      <th>has_cr_card</th>\n",
       "      <td>-0.005458</td>\n",
       "      <td>-0.011721</td>\n",
       "      <td>0.021387</td>\n",
       "      <td>-0.014858</td>\n",
       "      <td>0.003183</td>\n",
       "      <td>1.000000</td>\n",
       "      <td>-0.011866</td>\n",
       "      <td>-0.009933</td>\n",
       "      <td>-0.007138</td>\n",
       "      <td>0.010577</td>\n",
       "      <td>-0.013480</td>\n",
       "      <td>0.005766</td>\n",
       "    </tr>\n",
       "    <tr>\n",
       "      <th>is_active_member</th>\n",
       "      <td>0.025651</td>\n",
       "      <td>0.085472</td>\n",
       "      <td>-0.025856</td>\n",
       "      <td>-0.010084</td>\n",
       "      <td>0.009612</td>\n",
       "      <td>-0.011866</td>\n",
       "      <td>1.000000</td>\n",
       "      <td>-0.011421</td>\n",
       "      <td>-0.156128</td>\n",
       "      <td>-0.020486</td>\n",
       "      <td>0.016732</td>\n",
       "      <td>0.022544</td>\n",
       "    </tr>\n",
       "    <tr>\n",
       "      <th>estimated_salary</th>\n",
       "      <td>-0.001384</td>\n",
       "      <td>-0.007201</td>\n",
       "      <td>0.011225</td>\n",
       "      <td>0.012797</td>\n",
       "      <td>0.014204</td>\n",
       "      <td>-0.009933</td>\n",
       "      <td>-0.011421</td>\n",
       "      <td>1.000000</td>\n",
       "      <td>0.012097</td>\n",
       "      <td>0.010297</td>\n",
       "      <td>-0.006482</td>\n",
       "      <td>-0.008112</td>\n",
       "    </tr>\n",
       "    <tr>\n",
       "      <th>exited</th>\n",
       "      <td>-0.027094</td>\n",
       "      <td>0.285323</td>\n",
       "      <td>-0.013319</td>\n",
       "      <td>0.118533</td>\n",
       "      <td>-0.047820</td>\n",
       "      <td>-0.007138</td>\n",
       "      <td>-0.156128</td>\n",
       "      <td>0.012097</td>\n",
       "      <td>1.000000</td>\n",
       "      <td>0.173488</td>\n",
       "      <td>-0.052667</td>\n",
       "      <td>-0.106512</td>\n",
       "    </tr>\n",
       "    <tr>\n",
       "      <th>geography_germany</th>\n",
       "      <td>0.005538</td>\n",
       "      <td>0.046897</td>\n",
       "      <td>0.001676</td>\n",
       "      <td>0.401110</td>\n",
       "      <td>-0.010419</td>\n",
       "      <td>0.010577</td>\n",
       "      <td>-0.020486</td>\n",
       "      <td>0.010297</td>\n",
       "      <td>0.173488</td>\n",
       "      <td>1.000000</td>\n",
       "      <td>-0.332084</td>\n",
       "      <td>-0.024628</td>\n",
       "    </tr>\n",
       "    <tr>\n",
       "      <th>geography_spain</th>\n",
       "      <td>0.004780</td>\n",
       "      <td>-0.001685</td>\n",
       "      <td>-0.000745</td>\n",
       "      <td>-0.134892</td>\n",
       "      <td>0.009039</td>\n",
       "      <td>-0.013480</td>\n",
       "      <td>0.016732</td>\n",
       "      <td>-0.006482</td>\n",
       "      <td>-0.052667</td>\n",
       "      <td>-0.332084</td>\n",
       "      <td>1.000000</td>\n",
       "      <td>0.016889</td>\n",
       "    </tr>\n",
       "    <tr>\n",
       "      <th>gender_male</th>\n",
       "      <td>-0.002857</td>\n",
       "      <td>-0.027544</td>\n",
       "      <td>0.014889</td>\n",
       "      <td>0.012087</td>\n",
       "      <td>-0.021859</td>\n",
       "      <td>0.005766</td>\n",
       "      <td>0.022544</td>\n",
       "      <td>-0.008112</td>\n",
       "      <td>-0.106512</td>\n",
       "      <td>-0.024628</td>\n",
       "      <td>0.016889</td>\n",
       "      <td>1.000000</td>\n",
       "    </tr>\n",
       "  </tbody>\n",
       "</table>\n",
       "</div>"
      ],
      "text/plain": [
       "                   credit_score       age    tenure   balance  \\\n",
       "credit_score       1.000000     -0.003965  0.003087  0.006268   \n",
       "age               -0.003965      1.000000 -0.007368  0.028308   \n",
       "tenure             0.003087     -0.007368  1.000000 -0.005821   \n",
       "balance            0.006268      0.028308 -0.005821  1.000000   \n",
       "num_of_products    0.012238     -0.030680  0.010106 -0.304180   \n",
       "has_cr_card       -0.005458     -0.011721  0.021387 -0.014858   \n",
       "is_active_member   0.025651      0.085472 -0.025856 -0.010084   \n",
       "estimated_salary  -0.001384     -0.007201  0.011225  0.012797   \n",
       "exited            -0.027094      0.285323 -0.013319  0.118533   \n",
       "geography_germany  0.005538      0.046897  0.001676  0.401110   \n",
       "geography_spain    0.004780     -0.001685 -0.000745 -0.134892   \n",
       "gender_male       -0.002857     -0.027544  0.014889  0.012087   \n",
       "\n",
       "                   num_of_products  has_cr_card  is_active_member  \\\n",
       "credit_score       0.012238        -0.005458     0.025651           \n",
       "age               -0.030680        -0.011721     0.085472           \n",
       "tenure             0.010106         0.021387    -0.025856           \n",
       "balance           -0.304180        -0.014858    -0.010084           \n",
       "num_of_products    1.000000         0.003183     0.009612           \n",
       "has_cr_card        0.003183         1.000000    -0.011866           \n",
       "is_active_member   0.009612        -0.011866     1.000000           \n",
       "estimated_salary   0.014204        -0.009933    -0.011421           \n",
       "exited            -0.047820        -0.007138    -0.156128           \n",
       "geography_germany -0.010419         0.010577    -0.020486           \n",
       "geography_spain    0.009039        -0.013480     0.016732           \n",
       "gender_male       -0.021859         0.005766     0.022544           \n",
       "\n",
       "                   estimated_salary    exited  geography_germany  \\\n",
       "credit_score      -0.001384         -0.027094  0.005538            \n",
       "age               -0.007201          0.285323  0.046897            \n",
       "tenure             0.011225         -0.013319  0.001676            \n",
       "balance            0.012797          0.118533  0.401110            \n",
       "num_of_products    0.014204         -0.047820 -0.010419            \n",
       "has_cr_card       -0.009933         -0.007138  0.010577            \n",
       "is_active_member  -0.011421         -0.156128 -0.020486            \n",
       "estimated_salary   1.000000          0.012097  0.010297            \n",
       "exited             0.012097          1.000000  0.173488            \n",
       "geography_germany  0.010297          0.173488  1.000000            \n",
       "geography_spain   -0.006482         -0.052667 -0.332084            \n",
       "gender_male       -0.008112         -0.106512 -0.024628            \n",
       "\n",
       "                   geography_spain  gender_male  \n",
       "credit_score       0.004780        -0.002857     \n",
       "age               -0.001685        -0.027544     \n",
       "tenure            -0.000745         0.014889     \n",
       "balance           -0.134892         0.012087     \n",
       "num_of_products    0.009039        -0.021859     \n",
       "has_cr_card       -0.013480         0.005766     \n",
       "is_active_member   0.016732         0.022544     \n",
       "estimated_salary  -0.006482        -0.008112     \n",
       "exited            -0.052667        -0.106512     \n",
       "geography_germany -0.332084        -0.024628     \n",
       "geography_spain    1.000000         0.016889     \n",
       "gender_male        0.016889         1.000000     "
      ]
     },
     "execution_count": 93,
     "metadata": {},
     "output_type": "execute_result"
    }
   ],
   "source": [
    "df.corr()"
   ]
  },
  {
   "cell_type": "markdown",
   "metadata": {},
   "source": [
    "**We don't have any columns with high correlation**"
   ]
  },
  {
   "cell_type": "markdown",
   "metadata": {},
   "source": [
    "### Splitting the data"
   ]
  },
  {
   "cell_type": "markdown",
   "metadata": {},
   "source": [
    "**Since we don't have test set we will split the data to the three sets: training, validation and test sets on the proportion 60:20:20.**"
   ]
  },
  {
   "cell_type": "code",
   "execution_count": 94,
   "metadata": {},
   "outputs": [],
   "source": [
    "target = df['exited']\n",
    "features = df.drop('exited', axis=1)"
   ]
  },
  {
   "cell_type": "code",
   "execution_count": 95,
   "metadata": {},
   "outputs": [],
   "source": [
    "features_train, features_valid, target_train, target_valid = train_test_split(features, \n",
    "                                                                              target, \n",
    "                                                                              train_size=0.60, \n",
    "                                                                              test_size=0.40, \n",
    "                                                                              random_state=123, \n",
    "                                                                              stratify=target)"
   ]
  },
  {
   "cell_type": "code",
   "execution_count": 96,
   "metadata": {},
   "outputs": [],
   "source": [
    "features_valid, features_test, target_valid, target_test = train_test_split(features_valid, \n",
    "                                                                            target_valid, \n",
    "                                                                            train_size=0.50, \n",
    "                                                                            test_size=0.50, \n",
    "                                                                            random_state=123, \n",
    "                                                                            stratify=target_valid)"
   ]
  },
  {
   "cell_type": "code",
   "execution_count": 97,
   "metadata": {},
   "outputs": [
    {
     "name": "stdout",
     "output_type": "stream",
     "text": [
      "Training set: (6000, 11)\n",
      "Validation set: (2000, 11)\n",
      "Test set: (2000, 11)\n"
     ]
    }
   ],
   "source": [
    "samples = {'Training set' : features_train, \n",
    "          'Validation set': features_valid, \n",
    "          'Test set': features_test}\n",
    "\n",
    "for key, value in samples.items():\n",
    "    print(key + ':', value.shape)"
   ]
  },
  {
   "cell_type": "markdown",
   "metadata": {},
   "source": [
    "### Feature scaling"
   ]
  },
  {
   "cell_type": "markdown",
   "metadata": {},
   "source": [
    "**Let's scale the features so that the models during training are not tied to features with large values and scatter**\n",
    "\n"
   ]
  },
  {
   "cell_type": "code",
   "execution_count": 98,
   "metadata": {},
   "outputs": [
    {
     "data": {
      "text/plain": [
       "StandardScaler()"
      ]
     },
     "execution_count": 98,
     "metadata": {},
     "output_type": "execute_result"
    }
   ],
   "source": [
    "numeric = ['credit_score', 'age', 'tenure', 'balance', 'num_of_products', 'estimated_salary']\n",
    "scaler = StandardScaler()\n",
    "scaler.fit(features_train[numeric])"
   ]
  },
  {
   "cell_type": "code",
   "execution_count": 99,
   "metadata": {},
   "outputs": [],
   "source": [
    "features_train[numeric] = scaler.transform(features_train[numeric])\n",
    "features_valid[numeric] = scaler.transform(features_valid[numeric])\n",
    "features_test[numeric] = scaler.transform(features_test[numeric])"
   ]
  },
  {
   "cell_type": "code",
   "execution_count": 100,
   "metadata": {},
   "outputs": [
    {
     "data": {
      "text/html": [
       "<div>\n",
       "<style scoped>\n",
       "    .dataframe tbody tr th:only-of-type {\n",
       "        vertical-align: middle;\n",
       "    }\n",
       "\n",
       "    .dataframe tbody tr th {\n",
       "        vertical-align: top;\n",
       "    }\n",
       "\n",
       "    .dataframe thead th {\n",
       "        text-align: right;\n",
       "    }\n",
       "</style>\n",
       "<table border=\"1\" class=\"dataframe\">\n",
       "  <thead>\n",
       "    <tr style=\"text-align: right;\">\n",
       "      <th></th>\n",
       "      <th>credit_score</th>\n",
       "      <th>age</th>\n",
       "      <th>tenure</th>\n",
       "      <th>balance</th>\n",
       "      <th>num_of_products</th>\n",
       "      <th>has_cr_card</th>\n",
       "      <th>is_active_member</th>\n",
       "      <th>estimated_salary</th>\n",
       "      <th>geography_germany</th>\n",
       "      <th>geography_spain</th>\n",
       "      <th>gender_male</th>\n",
       "    </tr>\n",
       "  </thead>\n",
       "  <tbody>\n",
       "    <tr>\n",
       "      <th>6255</th>\n",
       "      <td>-1.081763</td>\n",
       "      <td>1.561078</td>\n",
       "      <td>-1.463231</td>\n",
       "      <td>0.567612</td>\n",
       "      <td>2.552230</td>\n",
       "      <td>1</td>\n",
       "      <td>0</td>\n",
       "      <td>-1.444757</td>\n",
       "      <td>1</td>\n",
       "      <td>0</td>\n",
       "      <td>1</td>\n",
       "    </tr>\n",
       "    <tr>\n",
       "      <th>7141</th>\n",
       "      <td>1.083241</td>\n",
       "      <td>-0.091611</td>\n",
       "      <td>-1.140673</td>\n",
       "      <td>0.097622</td>\n",
       "      <td>-0.926107</td>\n",
       "      <td>0</td>\n",
       "      <td>1</td>\n",
       "      <td>-1.559126</td>\n",
       "      <td>1</td>\n",
       "      <td>0</td>\n",
       "      <td>0</td>\n",
       "    </tr>\n",
       "    <tr>\n",
       "      <th>3824</th>\n",
       "      <td>0.167278</td>\n",
       "      <td>0.491691</td>\n",
       "      <td>-1.463231</td>\n",
       "      <td>0.751314</td>\n",
       "      <td>-0.926107</td>\n",
       "      <td>0</td>\n",
       "      <td>0</td>\n",
       "      <td>-1.476028</td>\n",
       "      <td>0</td>\n",
       "      <td>0</td>\n",
       "      <td>1</td>\n",
       "    </tr>\n",
       "    <tr>\n",
       "      <th>1901</th>\n",
       "      <td>1.509997</td>\n",
       "      <td>2.727681</td>\n",
       "      <td>0.149559</td>\n",
       "      <td>-1.219982</td>\n",
       "      <td>0.813061</td>\n",
       "      <td>0</td>\n",
       "      <td>1</td>\n",
       "      <td>-0.786010</td>\n",
       "      <td>0</td>\n",
       "      <td>1</td>\n",
       "      <td>1</td>\n",
       "    </tr>\n",
       "    <tr>\n",
       "      <th>2886</th>\n",
       "      <td>-2.101813</td>\n",
       "      <td>-0.188828</td>\n",
       "      <td>0.472117</td>\n",
       "      <td>-1.219982</td>\n",
       "      <td>0.813061</td>\n",
       "      <td>1</td>\n",
       "      <td>0</td>\n",
       "      <td>-0.312019</td>\n",
       "      <td>0</td>\n",
       "      <td>0</td>\n",
       "      <td>0</td>\n",
       "    </tr>\n",
       "  </tbody>\n",
       "</table>\n",
       "</div>"
      ],
      "text/plain": [
       "      credit_score       age    tenure   balance  num_of_products  \\\n",
       "6255 -1.081763      1.561078 -1.463231  0.567612  2.552230          \n",
       "7141  1.083241     -0.091611 -1.140673  0.097622 -0.926107          \n",
       "3824  0.167278      0.491691 -1.463231  0.751314 -0.926107          \n",
       "1901  1.509997      2.727681  0.149559 -1.219982  0.813061          \n",
       "2886 -2.101813     -0.188828  0.472117 -1.219982  0.813061          \n",
       "\n",
       "      has_cr_card  is_active_member  estimated_salary  geography_germany  \\\n",
       "6255  1            0                -1.444757          1                   \n",
       "7141  0            1                -1.559126          1                   \n",
       "3824  0            0                -1.476028          0                   \n",
       "1901  0            1                -0.786010          0                   \n",
       "2886  1            0                -0.312019          0                   \n",
       "\n",
       "      geography_spain  gender_male  \n",
       "6255  0                1            \n",
       "7141  0                0            \n",
       "3824  0                1            \n",
       "1901  1                1            \n",
       "2886  0                0            "
      ]
     },
     "execution_count": 100,
     "metadata": {},
     "output_type": "execute_result"
    }
   ],
   "source": [
    "features_train.head()"
   ]
  },
  {
   "cell_type": "markdown",
   "metadata": {},
   "source": [
    "**Now we have all done for the further steps**"
   ]
  },
  {
   "cell_type": "markdown",
   "metadata": {},
   "source": [
    "### Conclusion"
   ]
  },
  {
   "cell_type": "markdown",
   "metadata": {},
   "source": [
    "After first look on the dataset we can see that we have total 14 columns and 10000 rows. 3 columns are the float64 type, 3 columns are the object type and rest columns are the int64 type. Also we can see that Tenure columns has a missing values. Let's look futher what can be done to prepare data for testing. We can see that features doesn't have any anomaly values like for example min age - 0. The features of CreditScore, Age, Tenure, Balance and EstimatedSalary have a fairly large spread, as evidenced by both relatively high standard deviation rates and a large difference between minimum and maximum values. I changed all column names to the low register and separated words in the names of columns for convenience. Now let's take a look on the missing values in the tenure column. The mean and median are almost equal and pretty high. It could impact on our further calculations. So it is better to assume that customers don't have deposit in the bank and that's why didn't fill this graph. So we will replace missing values with 0. We don't have any columns with high correlation. I've splitted the data to the three sets and made scaling for data, so now it is ready."
   ]
  },
  {
   "cell_type": "markdown",
   "metadata": {},
   "source": [
    "## Examine the balance of classes. Train the model without taking into account the imbalance. Briefly describe your findings."
   ]
  },
  {
   "cell_type": "markdown",
   "metadata": {},
   "source": [
    "**Checking the balance of classes**"
   ]
  },
  {
   "cell_type": "code",
   "execution_count": 101,
   "metadata": {},
   "outputs": [
    {
     "data": {
      "image/png": "[encoded data removed]",
      "text/plain": [
       "<Figure size 432x288 with 1 Axes>"
      ]
     },
     "metadata": {
      "needs_background": "light"
     },
     "output_type": "display_data"
    }
   ],
   "source": [
    "target_train.plot(kind='hist', bins=3, title='Classes balance')\n",
    "plt.show()"
   ]
  },
  {
   "cell_type": "code",
   "execution_count": 102,
   "metadata": {},
   "outputs": [
    {
     "data": {
      "text/plain": [
       "0    4778\n",
       "1    1222\n",
       "Name: exited, dtype: int64"
      ]
     },
     "execution_count": 102,
     "metadata": {},
     "output_type": "execute_result"
    }
   ],
   "source": [
    "target_train.value_counts()"
   ]
  },
  {
   "cell_type": "markdown",
   "metadata": {},
   "source": [
    "**We see imbalanced classes what is not good. But let's try to train the models with what we have first**"
   ]
  },
  {
   "cell_type": "code",
   "execution_count": 103,
   "metadata": {},
   "outputs": [
    {
     "data": {
      "text/html": [
       "<style  type=\"text/css\" >\n",
       "#T_2dff9_row0_col2,#T_2dff9_row0_col3,#T_2dff9_row0_col4,#T_2dff9_row1_col2,#T_2dff9_row1_col3{\n",
       "            background-color:  lightgreen;\n",
       "        }</style><table id=\"T_2dff9_\" ><thead>    <tr>        <th class=\"blank level0\" ></th>        <th class=\"col_heading level0 col0\" >Model</th>        <th class=\"col_heading level0 col1\" >Hyperparameters</th>        <th class=\"col_heading level0 col2\" >Accuracy</th>        <th class=\"col_heading level0 col3\" >F1 score</th>        <th class=\"col_heading level0 col4\" >ROC AUC score</th>    </tr></thead><tbody>\n",
       "                <tr>\n",
       "                        <th id=\"T_2dff9_level0_row0\" class=\"row_heading level0 row0\" >0</th>\n",
       "                        <td id=\"T_2dff9_row0_col0\" class=\"data row0 col0\" >LogisticRegression_l1</td>\n",
       "                        <td id=\"T_2dff9_row0_col1\" class=\"data row0 col1\" >{'random_state': 123, 'class_weight': 'balanced', 'solver': 'liblinear', 'penalty': 'l1'}</td>\n",
       "                        <td id=\"T_2dff9_row0_col2\" class=\"data row0 col2\" >0.691500</td>\n",
       "                        <td id=\"T_2dff9_row0_col3\" class=\"data row0 col3\" >0.460192</td>\n",
       "                        <td id=\"T_2dff9_row0_col4\" class=\"data row0 col4\" >0.734554</td>\n",
       "            </tr>\n",
       "            <tr>\n",
       "                        <th id=\"T_2dff9_level0_row1\" class=\"row_heading level0 row1\" >1</th>\n",
       "                        <td id=\"T_2dff9_row1_col0\" class=\"data row1 col0\" >LogisticRegression_l2</td>\n",
       "                        <td id=\"T_2dff9_row1_col1\" class=\"data row1 col1\" >{'random_state': 123, 'class_weight': 'balanced', 'solver': 'lbfgs', 'penalty': 'l2'}</td>\n",
       "                        <td id=\"T_2dff9_row1_col2\" class=\"data row1 col2\" >0.691500</td>\n",
       "                        <td id=\"T_2dff9_row1_col3\" class=\"data row1 col3\" >0.460192</td>\n",
       "                        <td id=\"T_2dff9_row1_col4\" class=\"data row1 col4\" >0.734507</td>\n",
       "            </tr>\n",
       "    </tbody></table>"
      ],
      "text/plain": [
       "<pandas.io.formats.style.Styler at 0x7f3a5c1fef40>"
      ]
     },
     "execution_count": 103,
     "metadata": {},
     "output_type": "execute_result"
    }
   ],
   "source": [
    "results_imb_lr = []\n",
    "\n",
    "penalty_l1 = LogisticRegression(random_state=123, class_weight='balanced', solver='liblinear', penalty='l1') \n",
    "penalty_l2 = LogisticRegression(random_state=123, class_weight='balanced', solver='lbfgs', penalty='l2') \n",
    "\n",
    "models_lr = [penalty_l1, penalty_l2]\n",
    "\n",
    "for model in models_lr:\n",
    "    model.fit(features_train, target_train)\n",
    "    predictions_valid = model.predict(features_valid)\n",
    "    probabilities_valid = model.predict_proba(features_valid)\n",
    "\n",
    "    accuracy = accuracy_score(target_valid, predictions_valid)\n",
    "    f1 = f1_score(target_valid, predictions_valid)\n",
    "    roc_auc = roc_auc_score(target_valid, probabilities_valid[:,1])\n",
    "    \n",
    "    results_imb_lr.append({'Model': model.__class__.__name__ + '_' + model.penalty , \n",
    "                       'Hyperparameters': {'random_state': 123, \n",
    "                                          'class_weight': model.class_weight, \n",
    "                                          'solver': model.solver, \n",
    "                                          'penalty': model.penalty},\n",
    "                       'Accuracy': accuracy, \n",
    "                       'F1 score': f1, \n",
    "                       'ROC AUC score': roc_auc})\n",
    "    \n",
    "pd.DataFrame(results_imb_lr).style.highlight_max(color = 'lightgreen', axis = 0)"
   ]
  },
  {
   "cell_type": "code",
   "execution_count": 104,
   "metadata": {},
   "outputs": [
    {
     "data": {
      "text/html": [
       "<style  type=\"text/css\" >\n",
       "#T_01c93_row4_col4,#T_01c93_row5_col2,#T_01c93_row6_col3{\n",
       "            background-color:  lightgreen;\n",
       "        }</style><table id=\"T_01c93_\" ><thead>    <tr>        <th class=\"blank level0\" ></th>        <th class=\"col_heading level0 col0\" >Model</th>        <th class=\"col_heading level0 col1\" >Hyperparameters</th>        <th class=\"col_heading level0 col2\" >Accuracy</th>        <th class=\"col_heading level0 col3\" >F1 score</th>        <th class=\"col_heading level0 col4\" >ROC AUC score</th>    </tr></thead><tbody>\n",
       "                <tr>\n",
       "                        <th id=\"T_01c93_level0_row0\" class=\"row_heading level0 row0\" >0</th>\n",
       "                        <td id=\"T_01c93_row0_col0\" class=\"data row0 col0\" >DecisionTreeClassifier</td>\n",
       "                        <td id=\"T_01c93_row0_col1\" class=\"data row0 col1\" >{'random_state': 123, 'max_depth': 1}</td>\n",
       "                        <td id=\"T_01c93_row0_col2\" class=\"data row0 col2\" >0.796000</td>\n",
       "                        <td id=\"T_01c93_row0_col3\" class=\"data row0 col3\" >0.000000</td>\n",
       "                        <td id=\"T_01c93_row0_col4\" class=\"data row0 col4\" >0.670245</td>\n",
       "            </tr>\n",
       "            <tr>\n",
       "                        <th id=\"T_01c93_level0_row1\" class=\"row_heading level0 row1\" >1</th>\n",
       "                        <td id=\"T_01c93_row1_col0\" class=\"data row1 col0\" >DecisionTreeClassifier</td>\n",
       "                        <td id=\"T_01c93_row1_col1\" class=\"data row1 col1\" >{'random_state': 123, 'max_depth': 2}</td>\n",
       "                        <td id=\"T_01c93_row1_col2\" class=\"data row1 col2\" >0.824500</td>\n",
       "                        <td id=\"T_01c93_row1_col3\" class=\"data row1 col3\" >0.499287</td>\n",
       "                        <td id=\"T_01c93_row1_col4\" class=\"data row1 col4\" >0.731397</td>\n",
       "            </tr>\n",
       "            <tr>\n",
       "                        <th id=\"T_01c93_level0_row2\" class=\"row_heading level0 row2\" >2</th>\n",
       "                        <td id=\"T_01c93_row2_col0\" class=\"data row2 col0\" >DecisionTreeClassifier</td>\n",
       "                        <td id=\"T_01c93_row2_col1\" class=\"data row2 col1\" >{'random_state': 123, 'max_depth': 3}</td>\n",
       "                        <td id=\"T_01c93_row2_col2\" class=\"data row2 col2\" >0.833000</td>\n",
       "                        <td id=\"T_01c93_row2_col3\" class=\"data row2 col3\" >0.352713</td>\n",
       "                        <td id=\"T_01c93_row2_col4\" class=\"data row2 col4\" >0.786404</td>\n",
       "            </tr>\n",
       "            <tr>\n",
       "                        <th id=\"T_01c93_level0_row3\" class=\"row_heading level0 row3\" >3</th>\n",
       "                        <td id=\"T_01c93_row3_col0\" class=\"data row3 col0\" >DecisionTreeClassifier</td>\n",
       "                        <td id=\"T_01c93_row3_col1\" class=\"data row3 col1\" >{'random_state': 123, 'max_depth': 4}</td>\n",
       "                        <td id=\"T_01c93_row3_col2\" class=\"data row3 col2\" >0.845000</td>\n",
       "                        <td id=\"T_01c93_row3_col3\" class=\"data row3 col3\" >0.504792</td>\n",
       "                        <td id=\"T_01c93_row3_col4\" class=\"data row3 col4\" >0.814274</td>\n",
       "            </tr>\n",
       "            <tr>\n",
       "                        <th id=\"T_01c93_level0_row4\" class=\"row_heading level0 row4\" >4</th>\n",
       "                        <td id=\"T_01c93_row4_col0\" class=\"data row4 col0\" >DecisionTreeClassifier</td>\n",
       "                        <td id=\"T_01c93_row4_col1\" class=\"data row4 col1\" >{'random_state': 123, 'max_depth': 5}</td>\n",
       "                        <td id=\"T_01c93_row4_col2\" class=\"data row4 col2\" >0.851500</td>\n",
       "                        <td id=\"T_01c93_row4_col3\" class=\"data row4 col3\" >0.562592</td>\n",
       "                        <td id=\"T_01c93_row4_col4\" class=\"data row4 col4\" >0.826084</td>\n",
       "            </tr>\n",
       "            <tr>\n",
       "                        <th id=\"T_01c93_level0_row5\" class=\"row_heading level0 row5\" >5</th>\n",
       "                        <td id=\"T_01c93_row5_col0\" class=\"data row5 col0\" >DecisionTreeClassifier</td>\n",
       "                        <td id=\"T_01c93_row5_col1\" class=\"data row5 col1\" >{'random_state': 123, 'max_depth': 6}</td>\n",
       "                        <td id=\"T_01c93_row5_col2\" class=\"data row5 col2\" >0.852500</td>\n",
       "                        <td id=\"T_01c93_row5_col3\" class=\"data row5 col3\" >0.531002</td>\n",
       "                        <td id=\"T_01c93_row5_col4\" class=\"data row5 col4\" >0.824193</td>\n",
       "            </tr>\n",
       "            <tr>\n",
       "                        <th id=\"T_01c93_level0_row6\" class=\"row_heading level0 row6\" >6</th>\n",
       "                        <td id=\"T_01c93_row6_col0\" class=\"data row6 col0\" >DecisionTreeClassifier</td>\n",
       "                        <td id=\"T_01c93_row6_col1\" class=\"data row6 col1\" >{'random_state': 123, 'max_depth': 7}</td>\n",
       "                        <td id=\"T_01c93_row6_col2\" class=\"data row6 col2\" >0.851000</td>\n",
       "                        <td id=\"T_01c93_row6_col3\" class=\"data row6 col3\" >0.565598</td>\n",
       "                        <td id=\"T_01c93_row6_col4\" class=\"data row6 col4\" >0.821399</td>\n",
       "            </tr>\n",
       "            <tr>\n",
       "                        <th id=\"T_01c93_level0_row7\" class=\"row_heading level0 row7\" >7</th>\n",
       "                        <td id=\"T_01c93_row7_col0\" class=\"data row7 col0\" >DecisionTreeClassifier</td>\n",
       "                        <td id=\"T_01c93_row7_col1\" class=\"data row7 col1\" >{'random_state': 123, 'max_depth': 8}</td>\n",
       "                        <td id=\"T_01c93_row7_col2\" class=\"data row7 col2\" >0.828500</td>\n",
       "                        <td id=\"T_01c93_row7_col3\" class=\"data row7 col3\" >0.506475</td>\n",
       "                        <td id=\"T_01c93_row7_col4\" class=\"data row7 col4\" >0.789364</td>\n",
       "            </tr>\n",
       "            <tr>\n",
       "                        <th id=\"T_01c93_level0_row8\" class=\"row_heading level0 row8\" >8</th>\n",
       "                        <td id=\"T_01c93_row8_col0\" class=\"data row8 col0\" >DecisionTreeClassifier</td>\n",
       "                        <td id=\"T_01c93_row8_col1\" class=\"data row8 col1\" >{'random_state': 123, 'max_depth': 9}</td>\n",
       "                        <td id=\"T_01c93_row8_col2\" class=\"data row8 col2\" >0.838500</td>\n",
       "                        <td id=\"T_01c93_row8_col3\" class=\"data row8 col3\" >0.532562</td>\n",
       "                        <td id=\"T_01c93_row8_col4\" class=\"data row8 col4\" >0.762288</td>\n",
       "            </tr>\n",
       "            <tr>\n",
       "                        <th id=\"T_01c93_level0_row9\" class=\"row_heading level0 row9\" >9</th>\n",
       "                        <td id=\"T_01c93_row9_col0\" class=\"data row9 col0\" >DecisionTreeClassifier</td>\n",
       "                        <td id=\"T_01c93_row9_col1\" class=\"data row9 col1\" >{'random_state': 123, 'max_depth': 10}</td>\n",
       "                        <td id=\"T_01c93_row9_col2\" class=\"data row9 col2\" >0.825000</td>\n",
       "                        <td id=\"T_01c93_row9_col3\" class=\"data row9 col3\" >0.524457</td>\n",
       "                        <td id=\"T_01c93_row9_col4\" class=\"data row9 col4\" >0.740916</td>\n",
       "            </tr>\n",
       "    </tbody></table>"
      ],
      "text/plain": [
       "<pandas.io.formats.style.Styler at 0x7f3a4f701f70>"
      ]
     },
     "execution_count": 104,
     "metadata": {},
     "output_type": "execute_result"
    }
   ],
   "source": [
    "results_imb_dtc = []\n",
    "\n",
    "for depth in range(1,11):\n",
    "    model = DecisionTreeClassifier(random_state=123, max_depth=depth)\n",
    "    \n",
    "    model.fit(features_train, target_train)\n",
    "    predictions_valid = model.predict(features_valid)\n",
    "    probabilities_valid = model.predict_proba(features_valid)\n",
    " \n",
    "    accuracy = accuracy_score(target_valid, predictions_valid)        \n",
    "    f1 = f1_score(target_valid, predictions_valid)\n",
    "    roc_auc = roc_auc_score(target_valid, probabilities_valid[:,1])        \n",
    "\n",
    "    results_imb_dtc.append({'Model': 'DecisionTreeClassifier', \n",
    "                        'Hyperparameters': {'random_state': 123, 'max_depth':depth},\n",
    "                        'Accuracy': accuracy, \n",
    "                        'F1 score': f1, \n",
    "                        'ROC AUC score': roc_auc})\n",
    "\n",
    "pd.DataFrame(results_imb_dtc).style.highlight_max(color = 'lightgreen', axis = 0)"
   ]
  },
  {
   "cell_type": "code",
   "execution_count": 105,
   "metadata": {},
   "outputs": [
    {
     "name": "stdout",
     "output_type": "stream",
     "text": [
      "CPU times: user 42.8 s, sys: 146 ms, total: 43 s\n",
      "Wall time: 43 s\n"
     ]
    }
   ],
   "source": [
    "%%time\n",
    "results_imb_rfc = []\n",
    "\n",
    "for depth in range(1,15):\n",
    "    \n",
    "    for estimator in range(10, 101, 10):\n",
    "        \n",
    "        model = RandomForestClassifier(random_state=123, \n",
    "                                       n_estimators=estimator, \n",
    "                                       max_depth=depth) \n",
    "        \n",
    "        model.fit(features_train, target_train)\n",
    "        predictions_valid = model.predict(features_valid)\n",
    "        probabilities_valid = model.predict_proba(features_valid)\n",
    "        \n",
    "        accuracy = accuracy_score(target_valid, predictions_valid)        \n",
    "        f1 = f1_score(target_valid, predictions_valid)\n",
    "        roc_auc = roc_auc_score(target_valid, probabilities_valid[:,1])       \n",
    "    \n",
    "        results_imb_rfc.append({'Model': 'RandomForestClassifier', \n",
    "                               'Hyperparameters': {'random_state': 123, \n",
    "                                                   'n_estimators': estimator, \n",
    "                                                   'max_depth':depth}, \n",
    "                               'Accuracy': accuracy,\n",
    "                               'F1 score': f1, \n",
    "                               'ROC AUC score': roc_auc})"
   ]
  },
  {
   "cell_type": "code",
   "execution_count": 106,
   "metadata": {},
   "outputs": [
    {
     "data": {
      "text/html": [
       "<style  type=\"text/css\" >\n",
       "#T_453de_row87_col2,#T_453de_row88_col4,#T_453de_row126_col3{\n",
       "            background-color:  lightgreen;\n",
       "        }</style><table id=\"T_453de_\" ><thead>    <tr>        <th class=\"blank level0\" ></th>        <th class=\"col_heading level0 col0\" >Model</th>        <th class=\"col_heading level0 col1\" >Hyperparameters</th>        <th class=\"col_heading level0 col2\" >Accuracy</th>        <th class=\"col_heading level0 col3\" >F1 score</th>        <th class=\"col_heading level0 col4\" >ROC AUC score</th>    </tr></thead><tbody>\n",
       "                <tr>\n",
       "                        <th id=\"T_453de_level0_row0\" class=\"row_heading level0 row0\" >0</th>\n",
       "                        <td id=\"T_453de_row0_col0\" class=\"data row0 col0\" >RandomForestClassifier</td>\n",
       "                        <td id=\"T_453de_row0_col1\" class=\"data row0 col1\" >{'random_state': 123, 'n_estimators': 10, 'max_depth': 1}</td>\n",
       "                        <td id=\"T_453de_row0_col2\" class=\"data row0 col2\" >0.796000</td>\n",
       "                        <td id=\"T_453de_row0_col3\" class=\"data row0 col3\" >0.000000</td>\n",
       "                        <td id=\"T_453de_row0_col4\" class=\"data row0 col4\" >0.760711</td>\n",
       "            </tr>\n",
       "            <tr>\n",
       "                        <th id=\"T_453de_level0_row1\" class=\"row_heading level0 row1\" >1</th>\n",
       "                        <td id=\"T_453de_row1_col0\" class=\"data row1 col0\" >RandomForestClassifier</td>\n",
       "                        <td id=\"T_453de_row1_col1\" class=\"data row1 col1\" >{'random_state': 123, 'n_estimators': 20, 'max_depth': 1}</td>\n",
       "                        <td id=\"T_453de_row1_col2\" class=\"data row1 col2\" >0.796000</td>\n",
       "                        <td id=\"T_453de_row1_col3\" class=\"data row1 col3\" >0.000000</td>\n",
       "                        <td id=\"T_453de_row1_col4\" class=\"data row1 col4\" >0.764102</td>\n",
       "            </tr>\n",
       "            <tr>\n",
       "                        <th id=\"T_453de_level0_row2\" class=\"row_heading level0 row2\" >2</th>\n",
       "                        <td id=\"T_453de_row2_col0\" class=\"data row2 col0\" >RandomForestClassifier</td>\n",
       "                        <td id=\"T_453de_row2_col1\" class=\"data row2 col1\" >{'random_state': 123, 'n_estimators': 30, 'max_depth': 1}</td>\n",
       "                        <td id=\"T_453de_row2_col2\" class=\"data row2 col2\" >0.796000</td>\n",
       "                        <td id=\"T_453de_row2_col3\" class=\"data row2 col3\" >0.000000</td>\n",
       "                        <td id=\"T_453de_row2_col4\" class=\"data row2 col4\" >0.770405</td>\n",
       "            </tr>\n",
       "            <tr>\n",
       "                        <th id=\"T_453de_level0_row3\" class=\"row_heading level0 row3\" >3</th>\n",
       "                        <td id=\"T_453de_row3_col0\" class=\"data row3 col0\" >RandomForestClassifier</td>\n",
       "                        <td id=\"T_453de_row3_col1\" class=\"data row3 col1\" >{'random_state': 123, 'n_estimators': 40, 'max_depth': 1}</td>\n",
       "                        <td id=\"T_453de_row3_col2\" class=\"data row3 col2\" >0.796000</td>\n",
       "                        <td id=\"T_453de_row3_col3\" class=\"data row3 col3\" >0.000000</td>\n",
       "                        <td id=\"T_453de_row3_col4\" class=\"data row3 col4\" >0.777828</td>\n",
       "            </tr>\n",
       "            <tr>\n",
       "                        <th id=\"T_453de_level0_row4\" class=\"row_heading level0 row4\" >4</th>\n",
       "                        <td id=\"T_453de_row4_col0\" class=\"data row4 col0\" >RandomForestClassifier</td>\n",
       "                        <td id=\"T_453de_row4_col1\" class=\"data row4 col1\" >{'random_state': 123, 'n_estimators': 50, 'max_depth': 1}</td>\n",
       "                        <td id=\"T_453de_row4_col2\" class=\"data row4 col2\" >0.796000</td>\n",
       "                        <td id=\"T_453de_row4_col3\" class=\"data row4 col3\" >0.000000</td>\n",
       "                        <td id=\"T_453de_row4_col4\" class=\"data row4 col4\" >0.776742</td>\n",
       "            </tr>\n",
       "            <tr>\n",
       "                        <th id=\"T_453de_level0_row5\" class=\"row_heading level0 row5\" >5</th>\n",
       "                        <td id=\"T_453de_row5_col0\" class=\"data row5 col0\" >RandomForestClassifier</td>\n",
       "                        <td id=\"T_453de_row5_col1\" class=\"data row5 col1\" >{'random_state': 123, 'n_estimators': 60, 'max_depth': 1}</td>\n",
       "                        <td id=\"T_453de_row5_col2\" class=\"data row5 col2\" >0.796000</td>\n",
       "                        <td id=\"T_453de_row5_col3\" class=\"data row5 col3\" >0.000000</td>\n",
       "                        <td id=\"T_453de_row5_col4\" class=\"data row5 col4\" >0.779916</td>\n",
       "            </tr>\n",
       "            <tr>\n",
       "                        <th id=\"T_453de_level0_row6\" class=\"row_heading level0 row6\" >6</th>\n",
       "                        <td id=\"T_453de_row6_col0\" class=\"data row6 col0\" >RandomForestClassifier</td>\n",
       "                        <td id=\"T_453de_row6_col1\" class=\"data row6 col1\" >{'random_state': 123, 'n_estimators': 70, 'max_depth': 1}</td>\n",
       "                        <td id=\"T_453de_row6_col2\" class=\"data row6 col2\" >0.796000</td>\n",
       "                        <td id=\"T_453de_row6_col3\" class=\"data row6 col3\" >0.000000</td>\n",
       "                        <td id=\"T_453de_row6_col4\" class=\"data row6 col4\" >0.780427</td>\n",
       "            </tr>\n",
       "            <tr>\n",
       "                        <th id=\"T_453de_level0_row7\" class=\"row_heading level0 row7\" >7</th>\n",
       "                        <td id=\"T_453de_row7_col0\" class=\"data row7 col0\" >RandomForestClassifier</td>\n",
       "                        <td id=\"T_453de_row7_col1\" class=\"data row7 col1\" >{'random_state': 123, 'n_estimators': 80, 'max_depth': 1}</td>\n",
       "                        <td id=\"T_453de_row7_col2\" class=\"data row7 col2\" >0.796000</td>\n",
       "                        <td id=\"T_453de_row7_col3\" class=\"data row7 col3\" >0.000000</td>\n",
       "                        <td id=\"T_453de_row7_col4\" class=\"data row7 col4\" >0.779963</td>\n",
       "            </tr>\n",
       "            <tr>\n",
       "                        <th id=\"T_453de_level0_row8\" class=\"row_heading level0 row8\" >8</th>\n",
       "                        <td id=\"T_453de_row8_col0\" class=\"data row8 col0\" >RandomForestClassifier</td>\n",
       "                        <td id=\"T_453de_row8_col1\" class=\"data row8 col1\" >{'random_state': 123, 'n_estimators': 90, 'max_depth': 1}</td>\n",
       "                        <td id=\"T_453de_row8_col2\" class=\"data row8 col2\" >0.796000</td>\n",
       "                        <td id=\"T_453de_row8_col3\" class=\"data row8 col3\" >0.000000</td>\n",
       "                        <td id=\"T_453de_row8_col4\" class=\"data row8 col4\" >0.780529</td>\n",
       "            </tr>\n",
       "            <tr>\n",
       "                        <th id=\"T_453de_level0_row9\" class=\"row_heading level0 row9\" >9</th>\n",
       "                        <td id=\"T_453de_row9_col0\" class=\"data row9 col0\" >RandomForestClassifier</td>\n",
       "                        <td id=\"T_453de_row9_col1\" class=\"data row9 col1\" >{'random_state': 123, 'n_estimators': 100, 'max_depth': 1}</td>\n",
       "                        <td id=\"T_453de_row9_col2\" class=\"data row9 col2\" >0.796000</td>\n",
       "                        <td id=\"T_453de_row9_col3\" class=\"data row9 col3\" >0.000000</td>\n",
       "                        <td id=\"T_453de_row9_col4\" class=\"data row9 col4\" >0.782885</td>\n",
       "            </tr>\n",
       "            <tr>\n",
       "                        <th id=\"T_453de_level0_row10\" class=\"row_heading level0 row10\" >10</th>\n",
       "                        <td id=\"T_453de_row10_col0\" class=\"data row10 col0\" >RandomForestClassifier</td>\n",
       "                        <td id=\"T_453de_row10_col1\" class=\"data row10 col1\" >{'random_state': 123, 'n_estimators': 10, 'max_depth': 2}</td>\n",
       "                        <td id=\"T_453de_row10_col2\" class=\"data row10 col2\" >0.806500</td>\n",
       "                        <td id=\"T_453de_row10_col3\" class=\"data row10 col3\" >0.102088</td>\n",
       "                        <td id=\"T_453de_row10_col4\" class=\"data row10 col4\" >0.772255</td>\n",
       "            </tr>\n",
       "            <tr>\n",
       "                        <th id=\"T_453de_level0_row11\" class=\"row_heading level0 row11\" >11</th>\n",
       "                        <td id=\"T_453de_row11_col0\" class=\"data row11 col0\" >RandomForestClassifier</td>\n",
       "                        <td id=\"T_453de_row11_col1\" class=\"data row11 col1\" >{'random_state': 123, 'n_estimators': 20, 'max_depth': 2}</td>\n",
       "                        <td id=\"T_453de_row11_col2\" class=\"data row11 col2\" >0.806000</td>\n",
       "                        <td id=\"T_453de_row11_col3\" class=\"data row11 col3\" >0.097674</td>\n",
       "                        <td id=\"T_453de_row11_col4\" class=\"data row11 col4\" >0.787930</td>\n",
       "            </tr>\n",
       "            <tr>\n",
       "                        <th id=\"T_453de_level0_row12\" class=\"row_heading level0 row12\" >12</th>\n",
       "                        <td id=\"T_453de_row12_col0\" class=\"data row12 col0\" >RandomForestClassifier</td>\n",
       "                        <td id=\"T_453de_row12_col1\" class=\"data row12 col1\" >{'random_state': 123, 'n_estimators': 30, 'max_depth': 2}</td>\n",
       "                        <td id=\"T_453de_row12_col2\" class=\"data row12 col2\" >0.805500</td>\n",
       "                        <td id=\"T_453de_row12_col3\" class=\"data row12 col3\" >0.088993</td>\n",
       "                        <td id=\"T_453de_row12_col4\" class=\"data row12 col4\" >0.788441</td>\n",
       "            </tr>\n",
       "            <tr>\n",
       "                        <th id=\"T_453de_level0_row13\" class=\"row_heading level0 row13\" >13</th>\n",
       "                        <td id=\"T_453de_row13_col0\" class=\"data row13 col0\" >RandomForestClassifier</td>\n",
       "                        <td id=\"T_453de_row13_col1\" class=\"data row13 col1\" >{'random_state': 123, 'n_estimators': 40, 'max_depth': 2}</td>\n",
       "                        <td id=\"T_453de_row13_col2\" class=\"data row13 col2\" >0.803500</td>\n",
       "                        <td id=\"T_453de_row13_col3\" class=\"data row13 col3\" >0.070922</td>\n",
       "                        <td id=\"T_453de_row13_col4\" class=\"data row13 col4\" >0.787688</td>\n",
       "            </tr>\n",
       "            <tr>\n",
       "                        <th id=\"T_453de_level0_row14\" class=\"row_heading level0 row14\" >14</th>\n",
       "                        <td id=\"T_453de_row14_col0\" class=\"data row14 col0\" >RandomForestClassifier</td>\n",
       "                        <td id=\"T_453de_row14_col1\" class=\"data row14 col1\" >{'random_state': 123, 'n_estimators': 50, 'max_depth': 2}</td>\n",
       "                        <td id=\"T_453de_row14_col2\" class=\"data row14 col2\" >0.804000</td>\n",
       "                        <td id=\"T_453de_row14_col3\" class=\"data row14 col3\" >0.075472</td>\n",
       "                        <td id=\"T_453de_row14_col4\" class=\"data row14 col4\" >0.792906</td>\n",
       "            </tr>\n",
       "            <tr>\n",
       "                        <th id=\"T_453de_level0_row15\" class=\"row_heading level0 row15\" >15</th>\n",
       "                        <td id=\"T_453de_row15_col0\" class=\"data row15 col0\" >RandomForestClassifier</td>\n",
       "                        <td id=\"T_453de_row15_col1\" class=\"data row15 col1\" >{'random_state': 123, 'n_estimators': 60, 'max_depth': 2}</td>\n",
       "                        <td id=\"T_453de_row15_col2\" class=\"data row15 col2\" >0.803500</td>\n",
       "                        <td id=\"T_453de_row15_col3\" class=\"data row15 col3\" >0.070922</td>\n",
       "                        <td id=\"T_453de_row15_col4\" class=\"data row15 col4\" >0.793048</td>\n",
       "            </tr>\n",
       "            <tr>\n",
       "                        <th id=\"T_453de_level0_row16\" class=\"row_heading level0 row16\" >16</th>\n",
       "                        <td id=\"T_453de_row16_col0\" class=\"data row16 col0\" >RandomForestClassifier</td>\n",
       "                        <td id=\"T_453de_row16_col1\" class=\"data row16 col1\" >{'random_state': 123, 'n_estimators': 70, 'max_depth': 2}</td>\n",
       "                        <td id=\"T_453de_row16_col2\" class=\"data row16 col2\" >0.804000</td>\n",
       "                        <td id=\"T_453de_row16_col3\" class=\"data row16 col3\" >0.075472</td>\n",
       "                        <td id=\"T_453de_row16_col4\" class=\"data row16 col4\" >0.794160</td>\n",
       "            </tr>\n",
       "            <tr>\n",
       "                        <th id=\"T_453de_level0_row17\" class=\"row_heading level0 row17\" >17</th>\n",
       "                        <td id=\"T_453de_row17_col0\" class=\"data row17 col0\" >RandomForestClassifier</td>\n",
       "                        <td id=\"T_453de_row17_col1\" class=\"data row17 col1\" >{'random_state': 123, 'n_estimators': 80, 'max_depth': 2}</td>\n",
       "                        <td id=\"T_453de_row17_col2\" class=\"data row17 col2\" >0.805000</td>\n",
       "                        <td id=\"T_453de_row17_col3\" class=\"data row17 col3\" >0.084507</td>\n",
       "                        <td id=\"T_453de_row17_col4\" class=\"data row17 col4\" >0.796149</td>\n",
       "            </tr>\n",
       "            <tr>\n",
       "                        <th id=\"T_453de_level0_row18\" class=\"row_heading level0 row18\" >18</th>\n",
       "                        <td id=\"T_453de_row18_col0\" class=\"data row18 col0\" >RandomForestClassifier</td>\n",
       "                        <td id=\"T_453de_row18_col1\" class=\"data row18 col1\" >{'random_state': 123, 'n_estimators': 90, 'max_depth': 2}</td>\n",
       "                        <td id=\"T_453de_row18_col2\" class=\"data row18 col2\" >0.804500</td>\n",
       "                        <td id=\"T_453de_row18_col3\" class=\"data row18 col3\" >0.080000</td>\n",
       "                        <td id=\"T_453de_row18_col4\" class=\"data row18 col4\" >0.796091</td>\n",
       "            </tr>\n",
       "            <tr>\n",
       "                        <th id=\"T_453de_level0_row19\" class=\"row_heading level0 row19\" >19</th>\n",
       "                        <td id=\"T_453de_row19_col0\" class=\"data row19 col0\" >RandomForestClassifier</td>\n",
       "                        <td id=\"T_453de_row19_col1\" class=\"data row19 col1\" >{'random_state': 123, 'n_estimators': 100, 'max_depth': 2}</td>\n",
       "                        <td id=\"T_453de_row19_col2\" class=\"data row19 col2\" >0.804000</td>\n",
       "                        <td id=\"T_453de_row19_col3\" class=\"data row19 col3\" >0.075472</td>\n",
       "                        <td id=\"T_453de_row19_col4\" class=\"data row19 col4\" >0.795219</td>\n",
       "            </tr>\n",
       "            <tr>\n",
       "                        <th id=\"T_453de_level0_row20\" class=\"row_heading level0 row20\" >20</th>\n",
       "                        <td id=\"T_453de_row20_col0\" class=\"data row20 col0\" >RandomForestClassifier</td>\n",
       "                        <td id=\"T_453de_row20_col1\" class=\"data row20 col1\" >{'random_state': 123, 'n_estimators': 10, 'max_depth': 3}</td>\n",
       "                        <td id=\"T_453de_row20_col2\" class=\"data row20 col2\" >0.817500</td>\n",
       "                        <td id=\"T_453de_row20_col3\" class=\"data row20 col3\" >0.211663</td>\n",
       "                        <td id=\"T_453de_row20_col4\" class=\"data row20 col4\" >0.782375</td>\n",
       "            </tr>\n",
       "            <tr>\n",
       "                        <th id=\"T_453de_level0_row21\" class=\"row_heading level0 row21\" >21</th>\n",
       "                        <td id=\"T_453de_row21_col0\" class=\"data row21 col0\" >RandomForestClassifier</td>\n",
       "                        <td id=\"T_453de_row21_col1\" class=\"data row21 col1\" >{'random_state': 123, 'n_estimators': 20, 'max_depth': 3}</td>\n",
       "                        <td id=\"T_453de_row21_col2\" class=\"data row21 col2\" >0.836000</td>\n",
       "                        <td id=\"T_453de_row21_col3\" class=\"data row21 col3\" >0.351779</td>\n",
       "                        <td id=\"T_453de_row21_col4\" class=\"data row21 col4\" >0.802989</td>\n",
       "            </tr>\n",
       "            <tr>\n",
       "                        <th id=\"T_453de_level0_row22\" class=\"row_heading level0 row22\" >22</th>\n",
       "                        <td id=\"T_453de_row22_col0\" class=\"data row22 col0\" >RandomForestClassifier</td>\n",
       "                        <td id=\"T_453de_row22_col1\" class=\"data row22 col1\" >{'random_state': 123, 'n_estimators': 30, 'max_depth': 3}</td>\n",
       "                        <td id=\"T_453de_row22_col2\" class=\"data row22 col2\" >0.820000</td>\n",
       "                        <td id=\"T_453de_row22_col3\" class=\"data row22 col3\" >0.230769</td>\n",
       "                        <td id=\"T_453de_row22_col4\" class=\"data row22 col4\" >0.810997</td>\n",
       "            </tr>\n",
       "            <tr>\n",
       "                        <th id=\"T_453de_level0_row23\" class=\"row_heading level0 row23\" >23</th>\n",
       "                        <td id=\"T_453de_row23_col0\" class=\"data row23 col0\" >RandomForestClassifier</td>\n",
       "                        <td id=\"T_453de_row23_col1\" class=\"data row23 col1\" >{'random_state': 123, 'n_estimators': 40, 'max_depth': 3}</td>\n",
       "                        <td id=\"T_453de_row23_col2\" class=\"data row23 col2\" >0.818500</td>\n",
       "                        <td id=\"T_453de_row23_col3\" class=\"data row23 col3\" >0.226013</td>\n",
       "                        <td id=\"T_453de_row23_col4\" class=\"data row23 col4\" >0.809485</td>\n",
       "            </tr>\n",
       "            <tr>\n",
       "                        <th id=\"T_453de_level0_row24\" class=\"row_heading level0 row24\" >24</th>\n",
       "                        <td id=\"T_453de_row24_col0\" class=\"data row24 col0\" >RandomForestClassifier</td>\n",
       "                        <td id=\"T_453de_row24_col1\" class=\"data row24 col1\" >{'random_state': 123, 'n_estimators': 50, 'max_depth': 3}</td>\n",
       "                        <td id=\"T_453de_row24_col2\" class=\"data row24 col2\" >0.825000</td>\n",
       "                        <td id=\"T_453de_row24_col3\" class=\"data row24 col3\" >0.279835</td>\n",
       "                        <td id=\"T_453de_row24_col4\" class=\"data row24 col4\" >0.811960</td>\n",
       "            </tr>\n",
       "            <tr>\n",
       "                        <th id=\"T_453de_level0_row25\" class=\"row_heading level0 row25\" >25</th>\n",
       "                        <td id=\"T_453de_row25_col0\" class=\"data row25 col0\" >RandomForestClassifier</td>\n",
       "                        <td id=\"T_453de_row25_col1\" class=\"data row25 col1\" >{'random_state': 123, 'n_estimators': 60, 'max_depth': 3}</td>\n",
       "                        <td id=\"T_453de_row25_col2\" class=\"data row25 col2\" >0.820000</td>\n",
       "                        <td id=\"T_453de_row25_col3\" class=\"data row25 col3\" >0.234043</td>\n",
       "                        <td id=\"T_453de_row25_col4\" class=\"data row25 col4\" >0.812337</td>\n",
       "            </tr>\n",
       "            <tr>\n",
       "                        <th id=\"T_453de_level0_row26\" class=\"row_heading level0 row26\" >26</th>\n",
       "                        <td id=\"T_453de_row26_col0\" class=\"data row26 col0\" >RandomForestClassifier</td>\n",
       "                        <td id=\"T_453de_row26_col1\" class=\"data row26 col1\" >{'random_state': 123, 'n_estimators': 70, 'max_depth': 3}</td>\n",
       "                        <td id=\"T_453de_row26_col2\" class=\"data row26 col2\" >0.818000</td>\n",
       "                        <td id=\"T_453de_row26_col3\" class=\"data row26 col3\" >0.212121</td>\n",
       "                        <td id=\"T_453de_row26_col4\" class=\"data row26 col4\" >0.812950</td>\n",
       "            </tr>\n",
       "            <tr>\n",
       "                        <th id=\"T_453de_level0_row27\" class=\"row_heading level0 row27\" >27</th>\n",
       "                        <td id=\"T_453de_row27_col0\" class=\"data row27 col0\" >RandomForestClassifier</td>\n",
       "                        <td id=\"T_453de_row27_col1\" class=\"data row27 col1\" >{'random_state': 123, 'n_estimators': 80, 'max_depth': 3}</td>\n",
       "                        <td id=\"T_453de_row27_col2\" class=\"data row27 col2\" >0.813000</td>\n",
       "                        <td id=\"T_453de_row27_col3\" class=\"data row27 col3\" >0.172566</td>\n",
       "                        <td id=\"T_453de_row27_col4\" class=\"data row27 col4\" >0.813328</td>\n",
       "            </tr>\n",
       "            <tr>\n",
       "                        <th id=\"T_453de_level0_row28\" class=\"row_heading level0 row28\" >28</th>\n",
       "                        <td id=\"T_453de_row28_col0\" class=\"data row28 col0\" >RandomForestClassifier</td>\n",
       "                        <td id=\"T_453de_row28_col1\" class=\"data row28 col1\" >{'random_state': 123, 'n_estimators': 90, 'max_depth': 3}</td>\n",
       "                        <td id=\"T_453de_row28_col2\" class=\"data row28 col2\" >0.811500</td>\n",
       "                        <td id=\"T_453de_row28_col3\" class=\"data row28 col3\" >0.156600</td>\n",
       "                        <td id=\"T_453de_row28_col4\" class=\"data row28 col4\" >0.815863</td>\n",
       "            </tr>\n",
       "            <tr>\n",
       "                        <th id=\"T_453de_level0_row29\" class=\"row_heading level0 row29\" >29</th>\n",
       "                        <td id=\"T_453de_row29_col0\" class=\"data row29 col0\" >RandomForestClassifier</td>\n",
       "                        <td id=\"T_453de_row29_col1\" class=\"data row29 col1\" >{'random_state': 123, 'n_estimators': 100, 'max_depth': 3}</td>\n",
       "                        <td id=\"T_453de_row29_col2\" class=\"data row29 col2\" >0.811500</td>\n",
       "                        <td id=\"T_453de_row29_col3\" class=\"data row29 col3\" >0.152809</td>\n",
       "                        <td id=\"T_453de_row29_col4\" class=\"data row29 col4\" >0.814167</td>\n",
       "            </tr>\n",
       "            <tr>\n",
       "                        <th id=\"T_453de_level0_row30\" class=\"row_heading level0 row30\" >30</th>\n",
       "                        <td id=\"T_453de_row30_col0\" class=\"data row30 col0\" >RandomForestClassifier</td>\n",
       "                        <td id=\"T_453de_row30_col1\" class=\"data row30 col1\" >{'random_state': 123, 'n_estimators': 10, 'max_depth': 4}</td>\n",
       "                        <td id=\"T_453de_row30_col2\" class=\"data row30 col2\" >0.842000</td>\n",
       "                        <td id=\"T_453de_row30_col3\" class=\"data row30 col3\" >0.439716</td>\n",
       "                        <td id=\"T_453de_row30_col4\" class=\"data row30 col4\" >0.807190</td>\n",
       "            </tr>\n",
       "            <tr>\n",
       "                        <th id=\"T_453de_level0_row31\" class=\"row_heading level0 row31\" >31</th>\n",
       "                        <td id=\"T_453de_row31_col0\" class=\"data row31 col0\" >RandomForestClassifier</td>\n",
       "                        <td id=\"T_453de_row31_col1\" class=\"data row31 col1\" >{'random_state': 123, 'n_estimators': 20, 'max_depth': 4}</td>\n",
       "                        <td id=\"T_453de_row31_col2\" class=\"data row31 col2\" >0.843500</td>\n",
       "                        <td id=\"T_453de_row31_col3\" class=\"data row31 col3\" >0.427788</td>\n",
       "                        <td id=\"T_453de_row31_col4\" class=\"data row31 col4\" >0.825309</td>\n",
       "            </tr>\n",
       "            <tr>\n",
       "                        <th id=\"T_453de_level0_row32\" class=\"row_heading level0 row32\" >32</th>\n",
       "                        <td id=\"T_453de_row32_col0\" class=\"data row32 col0\" >RandomForestClassifier</td>\n",
       "                        <td id=\"T_453de_row32_col1\" class=\"data row32 col1\" >{'random_state': 123, 'n_estimators': 30, 'max_depth': 4}</td>\n",
       "                        <td id=\"T_453de_row32_col2\" class=\"data row32 col2\" >0.839500</td>\n",
       "                        <td id=\"T_453de_row32_col3\" class=\"data row32 col3\" >0.395480</td>\n",
       "                        <td id=\"T_453de_row32_col4\" class=\"data row32 col4\" >0.828050</td>\n",
       "            </tr>\n",
       "            <tr>\n",
       "                        <th id=\"T_453de_level0_row33\" class=\"row_heading level0 row33\" >33</th>\n",
       "                        <td id=\"T_453de_row33_col0\" class=\"data row33 col0\" >RandomForestClassifier</td>\n",
       "                        <td id=\"T_453de_row33_col1\" class=\"data row33 col1\" >{'random_state': 123, 'n_estimators': 40, 'max_depth': 4}</td>\n",
       "                        <td id=\"T_453de_row33_col2\" class=\"data row33 col2\" >0.838500</td>\n",
       "                        <td id=\"T_453de_row33_col3\" class=\"data row33 col3\" >0.387097</td>\n",
       "                        <td id=\"T_453de_row33_col4\" class=\"data row33 col4\" >0.828066</td>\n",
       "            </tr>\n",
       "            <tr>\n",
       "                        <th id=\"T_453de_level0_row34\" class=\"row_heading level0 row34\" >34</th>\n",
       "                        <td id=\"T_453de_row34_col0\" class=\"data row34 col0\" >RandomForestClassifier</td>\n",
       "                        <td id=\"T_453de_row34_col1\" class=\"data row34 col1\" >{'random_state': 123, 'n_estimators': 50, 'max_depth': 4}</td>\n",
       "                        <td id=\"T_453de_row34_col2\" class=\"data row34 col2\" >0.840000</td>\n",
       "                        <td id=\"T_453de_row34_col3\" class=\"data row34 col3\" >0.389313</td>\n",
       "                        <td id=\"T_453de_row34_col4\" class=\"data row34 col4\" >0.828924</td>\n",
       "            </tr>\n",
       "            <tr>\n",
       "                        <th id=\"T_453de_level0_row35\" class=\"row_heading level0 row35\" >35</th>\n",
       "                        <td id=\"T_453de_row35_col0\" class=\"data row35 col0\" >RandomForestClassifier</td>\n",
       "                        <td id=\"T_453de_row35_col1\" class=\"data row35 col1\" >{'random_state': 123, 'n_estimators': 60, 'max_depth': 4}</td>\n",
       "                        <td id=\"T_453de_row35_col2\" class=\"data row35 col2\" >0.836500</td>\n",
       "                        <td id=\"T_453de_row35_col3\" class=\"data row35 col3\" >0.367505</td>\n",
       "                        <td id=\"T_453de_row35_col4\" class=\"data row35 col4\" >0.829567</td>\n",
       "            </tr>\n",
       "            <tr>\n",
       "                        <th id=\"T_453de_level0_row36\" class=\"row_heading level0 row36\" >36</th>\n",
       "                        <td id=\"T_453de_row36_col0\" class=\"data row36 col0\" >RandomForestClassifier</td>\n",
       "                        <td id=\"T_453de_row36_col1\" class=\"data row36 col1\" >{'random_state': 123, 'n_estimators': 70, 'max_depth': 4}</td>\n",
       "                        <td id=\"T_453de_row36_col2\" class=\"data row36 col2\" >0.836000</td>\n",
       "                        <td id=\"T_453de_row36_col3\" class=\"data row36 col3\" >0.364341</td>\n",
       "                        <td id=\"T_453de_row36_col4\" class=\"data row36 col4\" >0.828772</td>\n",
       "            </tr>\n",
       "            <tr>\n",
       "                        <th id=\"T_453de_level0_row37\" class=\"row_heading level0 row37\" >37</th>\n",
       "                        <td id=\"T_453de_row37_col0\" class=\"data row37 col0\" >RandomForestClassifier</td>\n",
       "                        <td id=\"T_453de_row37_col1\" class=\"data row37 col1\" >{'random_state': 123, 'n_estimators': 80, 'max_depth': 4}</td>\n",
       "                        <td id=\"T_453de_row37_col2\" class=\"data row37 col2\" >0.835000</td>\n",
       "                        <td id=\"T_453de_row37_col3\" class=\"data row37 col3\" >0.357977</td>\n",
       "                        <td id=\"T_453de_row37_col4\" class=\"data row37 col4\" >0.829096</td>\n",
       "            </tr>\n",
       "            <tr>\n",
       "                        <th id=\"T_453de_level0_row38\" class=\"row_heading level0 row38\" >38</th>\n",
       "                        <td id=\"T_453de_row38_col0\" class=\"data row38 col0\" >RandomForestClassifier</td>\n",
       "                        <td id=\"T_453de_row38_col1\" class=\"data row38 col1\" >{'random_state': 123, 'n_estimators': 90, 'max_depth': 4}</td>\n",
       "                        <td id=\"T_453de_row38_col2\" class=\"data row38 col2\" >0.834000</td>\n",
       "                        <td id=\"T_453de_row38_col3\" class=\"data row38 col3\" >0.351562</td>\n",
       "                        <td id=\"T_453de_row38_col4\" class=\"data row38 col4\" >0.829099</td>\n",
       "            </tr>\n",
       "            <tr>\n",
       "                        <th id=\"T_453de_level0_row39\" class=\"row_heading level0 row39\" >39</th>\n",
       "                        <td id=\"T_453de_row39_col0\" class=\"data row39 col0\" >RandomForestClassifier</td>\n",
       "                        <td id=\"T_453de_row39_col1\" class=\"data row39 col1\" >{'random_state': 123, 'n_estimators': 100, 'max_depth': 4}</td>\n",
       "                        <td id=\"T_453de_row39_col2\" class=\"data row39 col2\" >0.833500</td>\n",
       "                        <td id=\"T_453de_row39_col3\" class=\"data row39 col3\" >0.348337</td>\n",
       "                        <td id=\"T_453de_row39_col4\" class=\"data row39 col4\" >0.828299</td>\n",
       "            </tr>\n",
       "            <tr>\n",
       "                        <th id=\"T_453de_level0_row40\" class=\"row_heading level0 row40\" >40</th>\n",
       "                        <td id=\"T_453de_row40_col0\" class=\"data row40 col0\" >RandomForestClassifier</td>\n",
       "                        <td id=\"T_453de_row40_col1\" class=\"data row40 col1\" >{'random_state': 123, 'n_estimators': 10, 'max_depth': 5}</td>\n",
       "                        <td id=\"T_453de_row40_col2\" class=\"data row40 col2\" >0.852500</td>\n",
       "                        <td id=\"T_453de_row40_col3\" class=\"data row40 col3\" >0.505863</td>\n",
       "                        <td id=\"T_453de_row40_col4\" class=\"data row40 col4\" >0.825105</td>\n",
       "            </tr>\n",
       "            <tr>\n",
       "                        <th id=\"T_453de_level0_row41\" class=\"row_heading level0 row41\" >41</th>\n",
       "                        <td id=\"T_453de_row41_col0\" class=\"data row41 col0\" >RandomForestClassifier</td>\n",
       "                        <td id=\"T_453de_row41_col1\" class=\"data row41 col1\" >{'random_state': 123, 'n_estimators': 20, 'max_depth': 5}</td>\n",
       "                        <td id=\"T_453de_row41_col2\" class=\"data row41 col2\" >0.854000</td>\n",
       "                        <td id=\"T_453de_row41_col3\" class=\"data row41 col3\" >0.503401</td>\n",
       "                        <td id=\"T_453de_row41_col4\" class=\"data row41 col4\" >0.827865</td>\n",
       "            </tr>\n",
       "            <tr>\n",
       "                        <th id=\"T_453de_level0_row42\" class=\"row_heading level0 row42\" >42</th>\n",
       "                        <td id=\"T_453de_row42_col0\" class=\"data row42 col0\" >RandomForestClassifier</td>\n",
       "                        <td id=\"T_453de_row42_col1\" class=\"data row42 col1\" >{'random_state': 123, 'n_estimators': 30, 'max_depth': 5}</td>\n",
       "                        <td id=\"T_453de_row42_col2\" class=\"data row42 col2\" >0.851500</td>\n",
       "                        <td id=\"T_453de_row42_col3\" class=\"data row42 col3\" >0.481675</td>\n",
       "                        <td id=\"T_453de_row42_col4\" class=\"data row42 col4\" >0.832460</td>\n",
       "            </tr>\n",
       "            <tr>\n",
       "                        <th id=\"T_453de_level0_row43\" class=\"row_heading level0 row43\" >43</th>\n",
       "                        <td id=\"T_453de_row43_col0\" class=\"data row43 col0\" >RandomForestClassifier</td>\n",
       "                        <td id=\"T_453de_row43_col1\" class=\"data row43 col1\" >{'random_state': 123, 'n_estimators': 40, 'max_depth': 5}</td>\n",
       "                        <td id=\"T_453de_row43_col2\" class=\"data row43 col2\" >0.851500</td>\n",
       "                        <td id=\"T_453de_row43_col3\" class=\"data row43 col3\" >0.481675</td>\n",
       "                        <td id=\"T_453de_row43_col4\" class=\"data row43 col4\" >0.834845</td>\n",
       "            </tr>\n",
       "            <tr>\n",
       "                        <th id=\"T_453de_level0_row44\" class=\"row_heading level0 row44\" >44</th>\n",
       "                        <td id=\"T_453de_row44_col0\" class=\"data row44 col0\" >RandomForestClassifier</td>\n",
       "                        <td id=\"T_453de_row44_col1\" class=\"data row44 col1\" >{'random_state': 123, 'n_estimators': 50, 'max_depth': 5}</td>\n",
       "                        <td id=\"T_453de_row44_col2\" class=\"data row44 col2\" >0.854500</td>\n",
       "                        <td id=\"T_453de_row44_col3\" class=\"data row44 col3\" >0.495667</td>\n",
       "                        <td id=\"T_453de_row44_col4\" class=\"data row44 col4\" >0.833866</td>\n",
       "            </tr>\n",
       "            <tr>\n",
       "                        <th id=\"T_453de_level0_row45\" class=\"row_heading level0 row45\" >45</th>\n",
       "                        <td id=\"T_453de_row45_col0\" class=\"data row45 col0\" >RandomForestClassifier</td>\n",
       "                        <td id=\"T_453de_row45_col1\" class=\"data row45 col1\" >{'random_state': 123, 'n_estimators': 60, 'max_depth': 5}</td>\n",
       "                        <td id=\"T_453de_row45_col2\" class=\"data row45 col2\" >0.852500</td>\n",
       "                        <td id=\"T_453de_row45_col3\" class=\"data row45 col3\" >0.485166</td>\n",
       "                        <td id=\"T_453de_row45_col4\" class=\"data row45 col4\" >0.833602</td>\n",
       "            </tr>\n",
       "            <tr>\n",
       "                        <th id=\"T_453de_level0_row46\" class=\"row_heading level0 row46\" >46</th>\n",
       "                        <td id=\"T_453de_row46_col0\" class=\"data row46 col0\" >RandomForestClassifier</td>\n",
       "                        <td id=\"T_453de_row46_col1\" class=\"data row46 col1\" >{'random_state': 123, 'n_estimators': 70, 'max_depth': 5}</td>\n",
       "                        <td id=\"T_453de_row46_col2\" class=\"data row46 col2\" >0.853000</td>\n",
       "                        <td id=\"T_453de_row46_col3\" class=\"data row46 col3\" >0.487805</td>\n",
       "                        <td id=\"T_453de_row46_col4\" class=\"data row46 col4\" >0.833764</td>\n",
       "            </tr>\n",
       "            <tr>\n",
       "                        <th id=\"T_453de_level0_row47\" class=\"row_heading level0 row47\" >47</th>\n",
       "                        <td id=\"T_453de_row47_col0\" class=\"data row47 col0\" >RandomForestClassifier</td>\n",
       "                        <td id=\"T_453de_row47_col1\" class=\"data row47 col1\" >{'random_state': 123, 'n_estimators': 80, 'max_depth': 5}</td>\n",
       "                        <td id=\"T_453de_row47_col2\" class=\"data row47 col2\" >0.853000</td>\n",
       "                        <td id=\"T_453de_row47_col3\" class=\"data row47 col3\" >0.480565</td>\n",
       "                        <td id=\"T_453de_row47_col4\" class=\"data row47 col4\" >0.835516</td>\n",
       "            </tr>\n",
       "            <tr>\n",
       "                        <th id=\"T_453de_level0_row48\" class=\"row_heading level0 row48\" >48</th>\n",
       "                        <td id=\"T_453de_row48_col0\" class=\"data row48 col0\" >RandomForestClassifier</td>\n",
       "                        <td id=\"T_453de_row48_col1\" class=\"data row48 col1\" >{'random_state': 123, 'n_estimators': 90, 'max_depth': 5}</td>\n",
       "                        <td id=\"T_453de_row48_col2\" class=\"data row48 col2\" >0.850000</td>\n",
       "                        <td id=\"T_453de_row48_col3\" class=\"data row48 col3\" >0.454545</td>\n",
       "                        <td id=\"T_453de_row48_col4\" class=\"data row48 col4\" >0.836084</td>\n",
       "            </tr>\n",
       "            <tr>\n",
       "                        <th id=\"T_453de_level0_row49\" class=\"row_heading level0 row49\" >49</th>\n",
       "                        <td id=\"T_453de_row49_col0\" class=\"data row49 col0\" >RandomForestClassifier</td>\n",
       "                        <td id=\"T_453de_row49_col1\" class=\"data row49 col1\" >{'random_state': 123, 'n_estimators': 100, 'max_depth': 5}</td>\n",
       "                        <td id=\"T_453de_row49_col2\" class=\"data row49 col2\" >0.849500</td>\n",
       "                        <td id=\"T_453de_row49_col3\" class=\"data row49 col3\" >0.447706</td>\n",
       "                        <td id=\"T_453de_row49_col4\" class=\"data row49 col4\" >0.836250</td>\n",
       "            </tr>\n",
       "            <tr>\n",
       "                        <th id=\"T_453de_level0_row50\" class=\"row_heading level0 row50\" >50</th>\n",
       "                        <td id=\"T_453de_row50_col0\" class=\"data row50 col0\" >RandomForestClassifier</td>\n",
       "                        <td id=\"T_453de_row50_col1\" class=\"data row50 col1\" >{'random_state': 123, 'n_estimators': 10, 'max_depth': 6}</td>\n",
       "                        <td id=\"T_453de_row50_col2\" class=\"data row50 col2\" >0.856000</td>\n",
       "                        <td id=\"T_453de_row50_col3\" class=\"data row50 col3\" >0.511864</td>\n",
       "                        <td id=\"T_453de_row50_col4\" class=\"data row50 col4\" >0.833854</td>\n",
       "            </tr>\n",
       "            <tr>\n",
       "                        <th id=\"T_453de_level0_row51\" class=\"row_heading level0 row51\" >51</th>\n",
       "                        <td id=\"T_453de_row51_col0\" class=\"data row51 col0\" >RandomForestClassifier</td>\n",
       "                        <td id=\"T_453de_row51_col1\" class=\"data row51 col1\" >{'random_state': 123, 'n_estimators': 20, 'max_depth': 6}</td>\n",
       "                        <td id=\"T_453de_row51_col2\" class=\"data row51 col2\" >0.858500</td>\n",
       "                        <td id=\"T_453de_row51_col3\" class=\"data row51 col3\" >0.524370</td>\n",
       "                        <td id=\"T_453de_row51_col4\" class=\"data row51 col4\" >0.844009</td>\n",
       "            </tr>\n",
       "            <tr>\n",
       "                        <th id=\"T_453de_level0_row52\" class=\"row_heading level0 row52\" >52</th>\n",
       "                        <td id=\"T_453de_row52_col0\" class=\"data row52 col0\" >RandomForestClassifier</td>\n",
       "                        <td id=\"T_453de_row52_col1\" class=\"data row52 col1\" >{'random_state': 123, 'n_estimators': 30, 'max_depth': 6}</td>\n",
       "                        <td id=\"T_453de_row52_col2\" class=\"data row52 col2\" >0.858500</td>\n",
       "                        <td id=\"T_453de_row52_col3\" class=\"data row52 col3\" >0.521151</td>\n",
       "                        <td id=\"T_453de_row52_col4\" class=\"data row52 col4\" >0.845269</td>\n",
       "            </tr>\n",
       "            <tr>\n",
       "                        <th id=\"T_453de_level0_row53\" class=\"row_heading level0 row53\" >53</th>\n",
       "                        <td id=\"T_453de_row53_col0\" class=\"data row53 col0\" >RandomForestClassifier</td>\n",
       "                        <td id=\"T_453de_row53_col1\" class=\"data row53 col1\" >{'random_state': 123, 'n_estimators': 40, 'max_depth': 6}</td>\n",
       "                        <td id=\"T_453de_row53_col2\" class=\"data row53 col2\" >0.857500</td>\n",
       "                        <td id=\"T_453de_row53_col3\" class=\"data row53 col3\" >0.516129</td>\n",
       "                        <td id=\"T_453de_row53_col4\" class=\"data row53 col4\" >0.845527</td>\n",
       "            </tr>\n",
       "            <tr>\n",
       "                        <th id=\"T_453de_level0_row54\" class=\"row_heading level0 row54\" >54</th>\n",
       "                        <td id=\"T_453de_row54_col0\" class=\"data row54 col0\" >RandomForestClassifier</td>\n",
       "                        <td id=\"T_453de_row54_col1\" class=\"data row54 col1\" >{'random_state': 123, 'n_estimators': 50, 'max_depth': 6}</td>\n",
       "                        <td id=\"T_453de_row54_col2\" class=\"data row54 col2\" >0.857500</td>\n",
       "                        <td id=\"T_453de_row54_col3\" class=\"data row54 col3\" >0.519393</td>\n",
       "                        <td id=\"T_453de_row54_col4\" class=\"data row54 col4\" >0.845936</td>\n",
       "            </tr>\n",
       "            <tr>\n",
       "                        <th id=\"T_453de_level0_row55\" class=\"row_heading level0 row55\" >55</th>\n",
       "                        <td id=\"T_453de_row55_col0\" class=\"data row55 col0\" >RandomForestClassifier</td>\n",
       "                        <td id=\"T_453de_row55_col1\" class=\"data row55 col1\" >{'random_state': 123, 'n_estimators': 60, 'max_depth': 6}</td>\n",
       "                        <td id=\"T_453de_row55_col2\" class=\"data row55 col2\" >0.856500</td>\n",
       "                        <td id=\"T_453de_row55_col3\" class=\"data row55 col3\" >0.512733</td>\n",
       "                        <td id=\"T_453de_row55_col4\" class=\"data row55 col4\" >0.844980</td>\n",
       "            </tr>\n",
       "            <tr>\n",
       "                        <th id=\"T_453de_level0_row56\" class=\"row_heading level0 row56\" >56</th>\n",
       "                        <td id=\"T_453de_row56_col0\" class=\"data row56 col0\" >RandomForestClassifier</td>\n",
       "                        <td id=\"T_453de_row56_col1\" class=\"data row56 col1\" >{'random_state': 123, 'n_estimators': 70, 'max_depth': 6}</td>\n",
       "                        <td id=\"T_453de_row56_col2\" class=\"data row56 col2\" >0.857500</td>\n",
       "                        <td id=\"T_453de_row56_col3\" class=\"data row56 col3\" >0.516129</td>\n",
       "                        <td id=\"T_453de_row56_col4\" class=\"data row56 col4\" >0.845554</td>\n",
       "            </tr>\n",
       "            <tr>\n",
       "                        <th id=\"T_453de_level0_row57\" class=\"row_heading level0 row57\" >57</th>\n",
       "                        <td id=\"T_453de_row57_col0\" class=\"data row57 col0\" >RandomForestClassifier</td>\n",
       "                        <td id=\"T_453de_row57_col1\" class=\"data row57 col1\" >{'random_state': 123, 'n_estimators': 80, 'max_depth': 6}</td>\n",
       "                        <td id=\"T_453de_row57_col2\" class=\"data row57 col2\" >0.858000</td>\n",
       "                        <td id=\"T_453de_row57_col3\" class=\"data row57 col3\" >0.517007</td>\n",
       "                        <td id=\"T_453de_row57_col4\" class=\"data row57 col4\" >0.845410</td>\n",
       "            </tr>\n",
       "            <tr>\n",
       "                        <th id=\"T_453de_level0_row58\" class=\"row_heading level0 row58\" >58</th>\n",
       "                        <td id=\"T_453de_row58_col0\" class=\"data row58 col0\" >RandomForestClassifier</td>\n",
       "                        <td id=\"T_453de_row58_col1\" class=\"data row58 col1\" >{'random_state': 123, 'n_estimators': 90, 'max_depth': 6}</td>\n",
       "                        <td id=\"T_453de_row58_col2\" class=\"data row58 col2\" >0.858500</td>\n",
       "                        <td id=\"T_453de_row58_col3\" class=\"data row58 col3\" >0.519525</td>\n",
       "                        <td id=\"T_453de_row58_col4\" class=\"data row58 col4\" >0.845271</td>\n",
       "            </tr>\n",
       "            <tr>\n",
       "                        <th id=\"T_453de_level0_row59\" class=\"row_heading level0 row59\" >59</th>\n",
       "                        <td id=\"T_453de_row59_col0\" class=\"data row59 col0\" >RandomForestClassifier</td>\n",
       "                        <td id=\"T_453de_row59_col1\" class=\"data row59 col1\" >{'random_state': 123, 'n_estimators': 100, 'max_depth': 6}</td>\n",
       "                        <td id=\"T_453de_row59_col2\" class=\"data row59 col2\" >0.859500</td>\n",
       "                        <td id=\"T_453de_row59_col3\" class=\"data row59 col3\" >0.524535</td>\n",
       "                        <td id=\"T_453de_row59_col4\" class=\"data row59 col4\" >0.844072</td>\n",
       "            </tr>\n",
       "            <tr>\n",
       "                        <th id=\"T_453de_level0_row60\" class=\"row_heading level0 row60\" >60</th>\n",
       "                        <td id=\"T_453de_row60_col0\" class=\"data row60 col0\" >RandomForestClassifier</td>\n",
       "                        <td id=\"T_453de_row60_col1\" class=\"data row60 col1\" >{'random_state': 123, 'n_estimators': 10, 'max_depth': 7}</td>\n",
       "                        <td id=\"T_453de_row60_col2\" class=\"data row60 col2\" >0.857000</td>\n",
       "                        <td id=\"T_453de_row60_col3\" class=\"data row60 col3\" >0.529605</td>\n",
       "                        <td id=\"T_453de_row60_col4\" class=\"data row60 col4\" >0.831954</td>\n",
       "            </tr>\n",
       "            <tr>\n",
       "                        <th id=\"T_453de_level0_row61\" class=\"row_heading level0 row61\" >61</th>\n",
       "                        <td id=\"T_453de_row61_col0\" class=\"data row61 col0\" >RandomForestClassifier</td>\n",
       "                        <td id=\"T_453de_row61_col1\" class=\"data row61 col1\" >{'random_state': 123, 'n_estimators': 20, 'max_depth': 7}</td>\n",
       "                        <td id=\"T_453de_row61_col2\" class=\"data row61 col2\" >0.860500</td>\n",
       "                        <td id=\"T_453de_row61_col3\" class=\"data row61 col3\" >0.546341</td>\n",
       "                        <td id=\"T_453de_row61_col4\" class=\"data row61 col4\" >0.843476</td>\n",
       "            </tr>\n",
       "            <tr>\n",
       "                        <th id=\"T_453de_level0_row62\" class=\"row_heading level0 row62\" >62</th>\n",
       "                        <td id=\"T_453de_row62_col0\" class=\"data row62 col0\" >RandomForestClassifier</td>\n",
       "                        <td id=\"T_453de_row62_col1\" class=\"data row62 col1\" >{'random_state': 123, 'n_estimators': 30, 'max_depth': 7}</td>\n",
       "                        <td id=\"T_453de_row62_col2\" class=\"data row62 col2\" >0.858500</td>\n",
       "                        <td id=\"T_453de_row62_col3\" class=\"data row62 col3\" >0.541329</td>\n",
       "                        <td id=\"T_453de_row62_col4\" class=\"data row62 col4\" >0.845309</td>\n",
       "            </tr>\n",
       "            <tr>\n",
       "                        <th id=\"T_453de_level0_row63\" class=\"row_heading level0 row63\" >63</th>\n",
       "                        <td id=\"T_453de_row63_col0\" class=\"data row63 col0\" >RandomForestClassifier</td>\n",
       "                        <td id=\"T_453de_row63_col1\" class=\"data row63 col1\" >{'random_state': 123, 'n_estimators': 40, 'max_depth': 7}</td>\n",
       "                        <td id=\"T_453de_row63_col2\" class=\"data row63 col2\" >0.859500</td>\n",
       "                        <td id=\"T_453de_row63_col3\" class=\"data row63 col3\" >0.543089</td>\n",
       "                        <td id=\"T_453de_row63_col4\" class=\"data row63 col4\" >0.846621</td>\n",
       "            </tr>\n",
       "            <tr>\n",
       "                        <th id=\"T_453de_level0_row64\" class=\"row_heading level0 row64\" >64</th>\n",
       "                        <td id=\"T_453de_row64_col0\" class=\"data row64 col0\" >RandomForestClassifier</td>\n",
       "                        <td id=\"T_453de_row64_col1\" class=\"data row64 col1\" >{'random_state': 123, 'n_estimators': 50, 'max_depth': 7}</td>\n",
       "                        <td id=\"T_453de_row64_col2\" class=\"data row64 col2\" >0.858500</td>\n",
       "                        <td id=\"T_453de_row64_col3\" class=\"data row64 col3\" >0.544283</td>\n",
       "                        <td id=\"T_453de_row64_col4\" class=\"data row64 col4\" >0.847243</td>\n",
       "            </tr>\n",
       "            <tr>\n",
       "                        <th id=\"T_453de_level0_row65\" class=\"row_heading level0 row65\" >65</th>\n",
       "                        <td id=\"T_453de_row65_col0\" class=\"data row65 col0\" >RandomForestClassifier</td>\n",
       "                        <td id=\"T_453de_row65_col1\" class=\"data row65 col1\" >{'random_state': 123, 'n_estimators': 60, 'max_depth': 7}</td>\n",
       "                        <td id=\"T_453de_row65_col2\" class=\"data row65 col2\" >0.860000</td>\n",
       "                        <td id=\"T_453de_row65_col3\" class=\"data row65 col3\" >0.545455</td>\n",
       "                        <td id=\"T_453de_row65_col4\" class=\"data row65 col4\" >0.848601</td>\n",
       "            </tr>\n",
       "            <tr>\n",
       "                        <th id=\"T_453de_level0_row66\" class=\"row_heading level0 row66\" >66</th>\n",
       "                        <td id=\"T_453de_row66_col0\" class=\"data row66 col0\" >RandomForestClassifier</td>\n",
       "                        <td id=\"T_453de_row66_col1\" class=\"data row66 col1\" >{'random_state': 123, 'n_estimators': 70, 'max_depth': 7}</td>\n",
       "                        <td id=\"T_453de_row66_col2\" class=\"data row66 col2\" >0.860000</td>\n",
       "                        <td id=\"T_453de_row66_col3\" class=\"data row66 col3\" >0.545455</td>\n",
       "                        <td id=\"T_453de_row66_col4\" class=\"data row66 col4\" >0.849035</td>\n",
       "            </tr>\n",
       "            <tr>\n",
       "                        <th id=\"T_453de_level0_row67\" class=\"row_heading level0 row67\" >67</th>\n",
       "                        <td id=\"T_453de_row67_col0\" class=\"data row67 col0\" >RandomForestClassifier</td>\n",
       "                        <td id=\"T_453de_row67_col1\" class=\"data row67 col1\" >{'random_state': 123, 'n_estimators': 80, 'max_depth': 7}</td>\n",
       "                        <td id=\"T_453de_row67_col2\" class=\"data row67 col2\" >0.861000</td>\n",
       "                        <td id=\"T_453de_row67_col3\" class=\"data row67 col3\" >0.547231</td>\n",
       "                        <td id=\"T_453de_row67_col4\" class=\"data row67 col4\" >0.848458</td>\n",
       "            </tr>\n",
       "            <tr>\n",
       "                        <th id=\"T_453de_level0_row68\" class=\"row_heading level0 row68\" >68</th>\n",
       "                        <td id=\"T_453de_row68_col0\" class=\"data row68 col0\" >RandomForestClassifier</td>\n",
       "                        <td id=\"T_453de_row68_col1\" class=\"data row68 col1\" >{'random_state': 123, 'n_estimators': 90, 'max_depth': 7}</td>\n",
       "                        <td id=\"T_453de_row68_col2\" class=\"data row68 col2\" >0.860500</td>\n",
       "                        <td id=\"T_453de_row68_col3\" class=\"data row68 col3\" >0.543372</td>\n",
       "                        <td id=\"T_453de_row68_col4\" class=\"data row68 col4\" >0.848490</td>\n",
       "            </tr>\n",
       "            <tr>\n",
       "                        <th id=\"T_453de_level0_row69\" class=\"row_heading level0 row69\" >69</th>\n",
       "                        <td id=\"T_453de_row69_col0\" class=\"data row69 col0\" >RandomForestClassifier</td>\n",
       "                        <td id=\"T_453de_row69_col1\" class=\"data row69 col1\" >{'random_state': 123, 'n_estimators': 100, 'max_depth': 7}</td>\n",
       "                        <td id=\"T_453de_row69_col2\" class=\"data row69 col2\" >0.862000</td>\n",
       "                        <td id=\"T_453de_row69_col3\" class=\"data row69 col3\" >0.547541</td>\n",
       "                        <td id=\"T_453de_row69_col4\" class=\"data row69 col4\" >0.847874</td>\n",
       "            </tr>\n",
       "            <tr>\n",
       "                        <th id=\"T_453de_level0_row70\" class=\"row_heading level0 row70\" >70</th>\n",
       "                        <td id=\"T_453de_row70_col0\" class=\"data row70 col0\" >RandomForestClassifier</td>\n",
       "                        <td id=\"T_453de_row70_col1\" class=\"data row70 col1\" >{'random_state': 123, 'n_estimators': 10, 'max_depth': 8}</td>\n",
       "                        <td id=\"T_453de_row70_col2\" class=\"data row70 col2\" >0.857500</td>\n",
       "                        <td id=\"T_453de_row70_col3\" class=\"data row70 col3\" >0.532020</td>\n",
       "                        <td id=\"T_453de_row70_col4\" class=\"data row70 col4\" >0.843421</td>\n",
       "            </tr>\n",
       "            <tr>\n",
       "                        <th id=\"T_453de_level0_row71\" class=\"row_heading level0 row71\" >71</th>\n",
       "                        <td id=\"T_453de_row71_col0\" class=\"data row71 col0\" >RandomForestClassifier</td>\n",
       "                        <td id=\"T_453de_row71_col1\" class=\"data row71 col1\" >{'random_state': 123, 'n_estimators': 20, 'max_depth': 8}</td>\n",
       "                        <td id=\"T_453de_row71_col2\" class=\"data row71 col2\" >0.856500</td>\n",
       "                        <td id=\"T_453de_row71_col3\" class=\"data row71 col3\" >0.533333</td>\n",
       "                        <td id=\"T_453de_row71_col4\" class=\"data row71 col4\" >0.850222</td>\n",
       "            </tr>\n",
       "            <tr>\n",
       "                        <th id=\"T_453de_level0_row72\" class=\"row_heading level0 row72\" >72</th>\n",
       "                        <td id=\"T_453de_row72_col0\" class=\"data row72 col0\" >RandomForestClassifier</td>\n",
       "                        <td id=\"T_453de_row72_col1\" class=\"data row72 col1\" >{'random_state': 123, 'n_estimators': 30, 'max_depth': 8}</td>\n",
       "                        <td id=\"T_453de_row72_col2\" class=\"data row72 col2\" >0.855500</td>\n",
       "                        <td id=\"T_453de_row72_col3\" class=\"data row72 col3\" >0.530081</td>\n",
       "                        <td id=\"T_453de_row72_col4\" class=\"data row72 col4\" >0.852025</td>\n",
       "            </tr>\n",
       "            <tr>\n",
       "                        <th id=\"T_453de_level0_row73\" class=\"row_heading level0 row73\" >73</th>\n",
       "                        <td id=\"T_453de_row73_col0\" class=\"data row73 col0\" >RandomForestClassifier</td>\n",
       "                        <td id=\"T_453de_row73_col1\" class=\"data row73 col1\" >{'random_state': 123, 'n_estimators': 40, 'max_depth': 8}</td>\n",
       "                        <td id=\"T_453de_row73_col2\" class=\"data row73 col2\" >0.857500</td>\n",
       "                        <td id=\"T_453de_row73_col3\" class=\"data row73 col3\" >0.542536</td>\n",
       "                        <td id=\"T_453de_row73_col4\" class=\"data row73 col4\" >0.853394</td>\n",
       "            </tr>\n",
       "            <tr>\n",
       "                        <th id=\"T_453de_level0_row74\" class=\"row_heading level0 row74\" >74</th>\n",
       "                        <td id=\"T_453de_row74_col0\" class=\"data row74 col0\" >RandomForestClassifier</td>\n",
       "                        <td id=\"T_453de_row74_col1\" class=\"data row74 col1\" >{'random_state': 123, 'n_estimators': 50, 'max_depth': 8}</td>\n",
       "                        <td id=\"T_453de_row74_col2\" class=\"data row74 col2\" >0.855500</td>\n",
       "                        <td id=\"T_453de_row74_col3\" class=\"data row74 col3\" >0.536116</td>\n",
       "                        <td id=\"T_453de_row74_col4\" class=\"data row74 col4\" >0.853440</td>\n",
       "            </tr>\n",
       "            <tr>\n",
       "                        <th id=\"T_453de_level0_row75\" class=\"row_heading level0 row75\" >75</th>\n",
       "                        <td id=\"T_453de_row75_col0\" class=\"data row75 col0\" >RandomForestClassifier</td>\n",
       "                        <td id=\"T_453de_row75_col1\" class=\"data row75 col1\" >{'random_state': 123, 'n_estimators': 60, 'max_depth': 8}</td>\n",
       "                        <td id=\"T_453de_row75_col2\" class=\"data row75 col2\" >0.856000</td>\n",
       "                        <td id=\"T_453de_row75_col3\" class=\"data row75 col3\" >0.536977</td>\n",
       "                        <td id=\"T_453de_row75_col4\" class=\"data row75 col4\" >0.853714</td>\n",
       "            </tr>\n",
       "            <tr>\n",
       "                        <th id=\"T_453de_level0_row76\" class=\"row_heading level0 row76\" >76</th>\n",
       "                        <td id=\"T_453de_row76_col0\" class=\"data row76 col0\" >RandomForestClassifier</td>\n",
       "                        <td id=\"T_453de_row76_col1\" class=\"data row76 col1\" >{'random_state': 123, 'n_estimators': 70, 'max_depth': 8}</td>\n",
       "                        <td id=\"T_453de_row76_col2\" class=\"data row76 col2\" >0.857500</td>\n",
       "                        <td id=\"T_453de_row76_col3\" class=\"data row76 col3\" >0.541063</td>\n",
       "                        <td id=\"T_453de_row76_col4\" class=\"data row76 col4\" >0.853629</td>\n",
       "            </tr>\n",
       "            <tr>\n",
       "                        <th id=\"T_453de_level0_row77\" class=\"row_heading level0 row77\" >77</th>\n",
       "                        <td id=\"T_453de_row77_col0\" class=\"data row77 col0\" >RandomForestClassifier</td>\n",
       "                        <td id=\"T_453de_row77_col1\" class=\"data row77 col1\" >{'random_state': 123, 'n_estimators': 80, 'max_depth': 8}</td>\n",
       "                        <td id=\"T_453de_row77_col2\" class=\"data row77 col2\" >0.857500</td>\n",
       "                        <td id=\"T_453de_row77_col3\" class=\"data row77 col3\" >0.541063</td>\n",
       "                        <td id=\"T_453de_row77_col4\" class=\"data row77 col4\" >0.852784</td>\n",
       "            </tr>\n",
       "            <tr>\n",
       "                        <th id=\"T_453de_level0_row78\" class=\"row_heading level0 row78\" >78</th>\n",
       "                        <td id=\"T_453de_row78_col0\" class=\"data row78 col0\" >RandomForestClassifier</td>\n",
       "                        <td id=\"T_453de_row78_col1\" class=\"data row78 col1\" >{'random_state': 123, 'n_estimators': 90, 'max_depth': 8}</td>\n",
       "                        <td id=\"T_453de_row78_col2\" class=\"data row78 col2\" >0.857500</td>\n",
       "                        <td id=\"T_453de_row78_col3\" class=\"data row78 col3\" >0.541063</td>\n",
       "                        <td id=\"T_453de_row78_col4\" class=\"data row78 col4\" >0.853455</td>\n",
       "            </tr>\n",
       "            <tr>\n",
       "                        <th id=\"T_453de_level0_row79\" class=\"row_heading level0 row79\" >79</th>\n",
       "                        <td id=\"T_453de_row79_col0\" class=\"data row79 col0\" >RandomForestClassifier</td>\n",
       "                        <td id=\"T_453de_row79_col1\" class=\"data row79 col1\" >{'random_state': 123, 'n_estimators': 100, 'max_depth': 8}</td>\n",
       "                        <td id=\"T_453de_row79_col2\" class=\"data row79 col2\" >0.858000</td>\n",
       "                        <td id=\"T_453de_row79_col3\" class=\"data row79 col3\" >0.544872</td>\n",
       "                        <td id=\"T_453de_row79_col4\" class=\"data row79 col4\" >0.853146</td>\n",
       "            </tr>\n",
       "            <tr>\n",
       "                        <th id=\"T_453de_level0_row80\" class=\"row_heading level0 row80\" >80</th>\n",
       "                        <td id=\"T_453de_row80_col0\" class=\"data row80 col0\" >RandomForestClassifier</td>\n",
       "                        <td id=\"T_453de_row80_col1\" class=\"data row80 col1\" >{'random_state': 123, 'n_estimators': 10, 'max_depth': 9}</td>\n",
       "                        <td id=\"T_453de_row80_col2\" class=\"data row80 col2\" >0.855500</td>\n",
       "                        <td id=\"T_453de_row80_col3\" class=\"data row80 col3\" >0.537600</td>\n",
       "                        <td id=\"T_453de_row80_col4\" class=\"data row80 col4\" >0.839725</td>\n",
       "            </tr>\n",
       "            <tr>\n",
       "                        <th id=\"T_453de_level0_row81\" class=\"row_heading level0 row81\" >81</th>\n",
       "                        <td id=\"T_453de_row81_col0\" class=\"data row81 col0\" >RandomForestClassifier</td>\n",
       "                        <td id=\"T_453de_row81_col1\" class=\"data row81 col1\" >{'random_state': 123, 'n_estimators': 20, 'max_depth': 9}</td>\n",
       "                        <td id=\"T_453de_row81_col2\" class=\"data row81 col2\" >0.858500</td>\n",
       "                        <td id=\"T_453de_row81_col3\" class=\"data row81 col3\" >0.544283</td>\n",
       "                        <td id=\"T_453de_row81_col4\" class=\"data row81 col4\" >0.847346</td>\n",
       "            </tr>\n",
       "            <tr>\n",
       "                        <th id=\"T_453de_level0_row82\" class=\"row_heading level0 row82\" >82</th>\n",
       "                        <td id=\"T_453de_row82_col0\" class=\"data row82 col0\" >RandomForestClassifier</td>\n",
       "                        <td id=\"T_453de_row82_col1\" class=\"data row82 col1\" >{'random_state': 123, 'n_estimators': 30, 'max_depth': 9}</td>\n",
       "                        <td id=\"T_453de_row82_col2\" class=\"data row82 col2\" >0.860000</td>\n",
       "                        <td id=\"T_453de_row82_col3\" class=\"data row82 col3\" >0.554140</td>\n",
       "                        <td id=\"T_453de_row82_col4\" class=\"data row82 col4\" >0.850616</td>\n",
       "            </tr>\n",
       "            <tr>\n",
       "                        <th id=\"T_453de_level0_row83\" class=\"row_heading level0 row83\" >83</th>\n",
       "                        <td id=\"T_453de_row83_col0\" class=\"data row83 col0\" >RandomForestClassifier</td>\n",
       "                        <td id=\"T_453de_row83_col1\" class=\"data row83 col1\" >{'random_state': 123, 'n_estimators': 40, 'max_depth': 9}</td>\n",
       "                        <td id=\"T_453de_row83_col2\" class=\"data row83 col2\" >0.861000</td>\n",
       "                        <td id=\"T_453de_row83_col3\" class=\"data row83 col3\" >0.555911</td>\n",
       "                        <td id=\"T_453de_row83_col4\" class=\"data row83 col4\" >0.851790</td>\n",
       "            </tr>\n",
       "            <tr>\n",
       "                        <th id=\"T_453de_level0_row84\" class=\"row_heading level0 row84\" >84</th>\n",
       "                        <td id=\"T_453de_row84_col0\" class=\"data row84 col0\" >RandomForestClassifier</td>\n",
       "                        <td id=\"T_453de_row84_col1\" class=\"data row84 col1\" >{'random_state': 123, 'n_estimators': 50, 'max_depth': 9}</td>\n",
       "                        <td id=\"T_453de_row84_col2\" class=\"data row84 col2\" >0.859500</td>\n",
       "                        <td id=\"T_453de_row84_col3\" class=\"data row84 col3\" >0.551834</td>\n",
       "                        <td id=\"T_453de_row84_col4\" class=\"data row84 col4\" >0.852755</td>\n",
       "            </tr>\n",
       "            <tr>\n",
       "                        <th id=\"T_453de_level0_row85\" class=\"row_heading level0 row85\" >85</th>\n",
       "                        <td id=\"T_453de_row85_col0\" class=\"data row85 col0\" >RandomForestClassifier</td>\n",
       "                        <td id=\"T_453de_row85_col1\" class=\"data row85 col1\" >{'random_state': 123, 'n_estimators': 60, 'max_depth': 9}</td>\n",
       "                        <td id=\"T_453de_row85_col2\" class=\"data row85 col2\" >0.859000</td>\n",
       "                        <td id=\"T_453de_row85_col3\" class=\"data row85 col3\" >0.549521</td>\n",
       "                        <td id=\"T_453de_row85_col4\" class=\"data row85 col4\" >0.853365</td>\n",
       "            </tr>\n",
       "            <tr>\n",
       "                        <th id=\"T_453de_level0_row86\" class=\"row_heading level0 row86\" >86</th>\n",
       "                        <td id=\"T_453de_row86_col0\" class=\"data row86 col0\" >RandomForestClassifier</td>\n",
       "                        <td id=\"T_453de_row86_col1\" class=\"data row86 col1\" >{'random_state': 123, 'n_estimators': 70, 'max_depth': 9}</td>\n",
       "                        <td id=\"T_453de_row86_col2\" class=\"data row86 col2\" >0.861500</td>\n",
       "                        <td id=\"T_453de_row86_col3\" class=\"data row86 col3\" >0.558214</td>\n",
       "                        <td id=\"T_453de_row86_col4\" class=\"data row86 col4\" >0.853700</td>\n",
       "            </tr>\n",
       "            <tr>\n",
       "                        <th id=\"T_453de_level0_row87\" class=\"row_heading level0 row87\" >87</th>\n",
       "                        <td id=\"T_453de_row87_col0\" class=\"data row87 col0\" >RandomForestClassifier</td>\n",
       "                        <td id=\"T_453de_row87_col1\" class=\"data row87 col1\" >{'random_state': 123, 'n_estimators': 80, 'max_depth': 9}</td>\n",
       "                        <td id=\"T_453de_row87_col2\" class=\"data row87 col2\" >0.862500</td>\n",
       "                        <td id=\"T_453de_row87_col3\" class=\"data row87 col3\" >0.560000</td>\n",
       "                        <td id=\"T_453de_row87_col4\" class=\"data row87 col4\" >0.854752</td>\n",
       "            </tr>\n",
       "            <tr>\n",
       "                        <th id=\"T_453de_level0_row88\" class=\"row_heading level0 row88\" >88</th>\n",
       "                        <td id=\"T_453de_row88_col0\" class=\"data row88 col0\" >RandomForestClassifier</td>\n",
       "                        <td id=\"T_453de_row88_col1\" class=\"data row88 col1\" >{'random_state': 123, 'n_estimators': 90, 'max_depth': 9}</td>\n",
       "                        <td id=\"T_453de_row88_col2\" class=\"data row88 col2\" >0.860000</td>\n",
       "                        <td id=\"T_453de_row88_col3\" class=\"data row88 col3\" >0.552716</td>\n",
       "                        <td id=\"T_453de_row88_col4\" class=\"data row88 col4\" >0.855086</td>\n",
       "            </tr>\n",
       "            <tr>\n",
       "                        <th id=\"T_453de_level0_row89\" class=\"row_heading level0 row89\" >89</th>\n",
       "                        <td id=\"T_453de_row89_col0\" class=\"data row89 col0\" >RandomForestClassifier</td>\n",
       "                        <td id=\"T_453de_row89_col1\" class=\"data row89 col1\" >{'random_state': 123, 'n_estimators': 100, 'max_depth': 9}</td>\n",
       "                        <td id=\"T_453de_row89_col2\" class=\"data row89 col2\" >0.860500</td>\n",
       "                        <td id=\"T_453de_row89_col3\" class=\"data row89 col3\" >0.553600</td>\n",
       "                        <td id=\"T_453de_row89_col4\" class=\"data row89 col4\" >0.854903</td>\n",
       "            </tr>\n",
       "            <tr>\n",
       "                        <th id=\"T_453de_level0_row90\" class=\"row_heading level0 row90\" >90</th>\n",
       "                        <td id=\"T_453de_row90_col0\" class=\"data row90 col0\" >RandomForestClassifier</td>\n",
       "                        <td id=\"T_453de_row90_col1\" class=\"data row90 col1\" >{'random_state': 123, 'n_estimators': 10, 'max_depth': 10}</td>\n",
       "                        <td id=\"T_453de_row90_col2\" class=\"data row90 col2\" >0.856000</td>\n",
       "                        <td id=\"T_453de_row90_col3\" class=\"data row90 col3\" >0.552795</td>\n",
       "                        <td id=\"T_453de_row90_col4\" class=\"data row90 col4\" >0.843336</td>\n",
       "            </tr>\n",
       "            <tr>\n",
       "                        <th id=\"T_453de_level0_row91\" class=\"row_heading level0 row91\" >91</th>\n",
       "                        <td id=\"T_453de_row91_col0\" class=\"data row91 col0\" >RandomForestClassifier</td>\n",
       "                        <td id=\"T_453de_row91_col1\" class=\"data row91 col1\" >{'random_state': 123, 'n_estimators': 20, 'max_depth': 10}</td>\n",
       "                        <td id=\"T_453de_row91_col2\" class=\"data row91 col2\" >0.859500</td>\n",
       "                        <td id=\"T_453de_row91_col3\" class=\"data row91 col3\" >0.554675</td>\n",
       "                        <td id=\"T_453de_row91_col4\" class=\"data row91 col4\" >0.847339</td>\n",
       "            </tr>\n",
       "            <tr>\n",
       "                        <th id=\"T_453de_level0_row92\" class=\"row_heading level0 row92\" >92</th>\n",
       "                        <td id=\"T_453de_row92_col0\" class=\"data row92 col0\" >RandomForestClassifier</td>\n",
       "                        <td id=\"T_453de_row92_col1\" class=\"data row92 col1\" >{'random_state': 123, 'n_estimators': 30, 'max_depth': 10}</td>\n",
       "                        <td id=\"T_453de_row92_col2\" class=\"data row92 col2\" >0.855000</td>\n",
       "                        <td id=\"T_453de_row92_col3\" class=\"data row92 col3\" >0.538217</td>\n",
       "                        <td id=\"T_453de_row92_col4\" class=\"data row92 col4\" >0.848307</td>\n",
       "            </tr>\n",
       "            <tr>\n",
       "                        <th id=\"T_453de_level0_row93\" class=\"row_heading level0 row93\" >93</th>\n",
       "                        <td id=\"T_453de_row93_col0\" class=\"data row93 col0\" >RandomForestClassifier</td>\n",
       "                        <td id=\"T_453de_row93_col1\" class=\"data row93 col1\" >{'random_state': 123, 'n_estimators': 40, 'max_depth': 10}</td>\n",
       "                        <td id=\"T_453de_row93_col2\" class=\"data row93 col2\" >0.857500</td>\n",
       "                        <td id=\"T_453de_row93_col3\" class=\"data row93 col3\" >0.546900</td>\n",
       "                        <td id=\"T_453de_row93_col4\" class=\"data row93 col4\" >0.850339</td>\n",
       "            </tr>\n",
       "            <tr>\n",
       "                        <th id=\"T_453de_level0_row94\" class=\"row_heading level0 row94\" >94</th>\n",
       "                        <td id=\"T_453de_row94_col0\" class=\"data row94 col0\" >RandomForestClassifier</td>\n",
       "                        <td id=\"T_453de_row94_col1\" class=\"data row94 col1\" >{'random_state': 123, 'n_estimators': 50, 'max_depth': 10}</td>\n",
       "                        <td id=\"T_453de_row94_col2\" class=\"data row94 col2\" >0.855000</td>\n",
       "                        <td id=\"T_453de_row94_col3\" class=\"data row94 col3\" >0.544025</td>\n",
       "                        <td id=\"T_453de_row94_col4\" class=\"data row94 col4\" >0.851326</td>\n",
       "            </tr>\n",
       "            <tr>\n",
       "                        <th id=\"T_453de_level0_row95\" class=\"row_heading level0 row95\" >95</th>\n",
       "                        <td id=\"T_453de_row95_col0\" class=\"data row95 col0\" >RandomForestClassifier</td>\n",
       "                        <td id=\"T_453de_row95_col1\" class=\"data row95 col1\" >{'random_state': 123, 'n_estimators': 60, 'max_depth': 10}</td>\n",
       "                        <td id=\"T_453de_row95_col2\" class=\"data row95 col2\" >0.858000</td>\n",
       "                        <td id=\"T_453de_row95_col3\" class=\"data row95 col3\" >0.546326</td>\n",
       "                        <td id=\"T_453de_row95_col4\" class=\"data row95 col4\" >0.850544</td>\n",
       "            </tr>\n",
       "            <tr>\n",
       "                        <th id=\"T_453de_level0_row96\" class=\"row_heading level0 row96\" >96</th>\n",
       "                        <td id=\"T_453de_row96_col0\" class=\"data row96 col0\" >RandomForestClassifier</td>\n",
       "                        <td id=\"T_453de_row96_col1\" class=\"data row96 col1\" >{'random_state': 123, 'n_estimators': 70, 'max_depth': 10}</td>\n",
       "                        <td id=\"T_453de_row96_col2\" class=\"data row96 col2\" >0.857000</td>\n",
       "                        <td id=\"T_453de_row96_col3\" class=\"data row96 col3\" >0.544586</td>\n",
       "                        <td id=\"T_453de_row96_col4\" class=\"data row96 col4\" >0.851600</td>\n",
       "            </tr>\n",
       "            <tr>\n",
       "                        <th id=\"T_453de_level0_row97\" class=\"row_heading level0 row97\" >97</th>\n",
       "                        <td id=\"T_453de_row97_col0\" class=\"data row97 col0\" >RandomForestClassifier</td>\n",
       "                        <td id=\"T_453de_row97_col1\" class=\"data row97 col1\" >{'random_state': 123, 'n_estimators': 80, 'max_depth': 10}</td>\n",
       "                        <td id=\"T_453de_row97_col2\" class=\"data row97 col2\" >0.855000</td>\n",
       "                        <td id=\"T_453de_row97_col3\" class=\"data row97 col3\" >0.542587</td>\n",
       "                        <td id=\"T_453de_row97_col4\" class=\"data row97 col4\" >0.852148</td>\n",
       "            </tr>\n",
       "            <tr>\n",
       "                        <th id=\"T_453de_level0_row98\" class=\"row_heading level0 row98\" >98</th>\n",
       "                        <td id=\"T_453de_row98_col0\" class=\"data row98 col0\" >RandomForestClassifier</td>\n",
       "                        <td id=\"T_453de_row98_col1\" class=\"data row98 col1\" >{'random_state': 123, 'n_estimators': 90, 'max_depth': 10}</td>\n",
       "                        <td id=\"T_453de_row98_col2\" class=\"data row98 col2\" >0.859000</td>\n",
       "                        <td id=\"T_453de_row98_col3\" class=\"data row98 col3\" >0.553797</td>\n",
       "                        <td id=\"T_453de_row98_col4\" class=\"data row98 col4\" >0.852997</td>\n",
       "            </tr>\n",
       "            <tr>\n",
       "                        <th id=\"T_453de_level0_row99\" class=\"row_heading level0 row99\" >99</th>\n",
       "                        <td id=\"T_453de_row99_col0\" class=\"data row99 col0\" >RandomForestClassifier</td>\n",
       "                        <td id=\"T_453de_row99_col1\" class=\"data row99 col1\" >{'random_state': 123, 'n_estimators': 100, 'max_depth': 10}</td>\n",
       "                        <td id=\"T_453de_row99_col2\" class=\"data row99 col2\" >0.860500</td>\n",
       "                        <td id=\"T_453de_row99_col3\" class=\"data row99 col3\" >0.556439</td>\n",
       "                        <td id=\"T_453de_row99_col4\" class=\"data row99 col4\" >0.852806</td>\n",
       "            </tr>\n",
       "            <tr>\n",
       "                        <th id=\"T_453de_level0_row100\" class=\"row_heading level0 row100\" >100</th>\n",
       "                        <td id=\"T_453de_row100_col0\" class=\"data row100 col0\" >RandomForestClassifier</td>\n",
       "                        <td id=\"T_453de_row100_col1\" class=\"data row100 col1\" >{'random_state': 123, 'n_estimators': 10, 'max_depth': 11}</td>\n",
       "                        <td id=\"T_453de_row100_col2\" class=\"data row100 col2\" >0.851000</td>\n",
       "                        <td id=\"T_453de_row100_col3\" class=\"data row100 col3\" >0.545732</td>\n",
       "                        <td id=\"T_453de_row100_col4\" class=\"data row100 col4\" >0.840023</td>\n",
       "            </tr>\n",
       "            <tr>\n",
       "                        <th id=\"T_453de_level0_row101\" class=\"row_heading level0 row101\" >101</th>\n",
       "                        <td id=\"T_453de_row101_col0\" class=\"data row101 col0\" >RandomForestClassifier</td>\n",
       "                        <td id=\"T_453de_row101_col1\" class=\"data row101 col1\" >{'random_state': 123, 'n_estimators': 20, 'max_depth': 11}</td>\n",
       "                        <td id=\"T_453de_row101_col2\" class=\"data row101 col2\" >0.852500</td>\n",
       "                        <td id=\"T_453de_row101_col3\" class=\"data row101 col3\" >0.542636</td>\n",
       "                        <td id=\"T_453de_row101_col4\" class=\"data row101 col4\" >0.845947</td>\n",
       "            </tr>\n",
       "            <tr>\n",
       "                        <th id=\"T_453de_level0_row102\" class=\"row_heading level0 row102\" >102</th>\n",
       "                        <td id=\"T_453de_row102_col0\" class=\"data row102 col0\" >RandomForestClassifier</td>\n",
       "                        <td id=\"T_453de_row102_col1\" class=\"data row102 col1\" >{'random_state': 123, 'n_estimators': 30, 'max_depth': 11}</td>\n",
       "                        <td id=\"T_453de_row102_col2\" class=\"data row102 col2\" >0.853000</td>\n",
       "                        <td id=\"T_453de_row102_col3\" class=\"data row102 col3\" >0.547692</td>\n",
       "                        <td id=\"T_453de_row102_col4\" class=\"data row102 col4\" >0.849061</td>\n",
       "            </tr>\n",
       "            <tr>\n",
       "                        <th id=\"T_453de_level0_row103\" class=\"row_heading level0 row103\" >103</th>\n",
       "                        <td id=\"T_453de_row103_col0\" class=\"data row103 col0\" >RandomForestClassifier</td>\n",
       "                        <td id=\"T_453de_row103_col1\" class=\"data row103 col1\" >{'random_state': 123, 'n_estimators': 40, 'max_depth': 11}</td>\n",
       "                        <td id=\"T_453de_row103_col2\" class=\"data row103 col2\" >0.856000</td>\n",
       "                        <td id=\"T_453de_row103_col3\" class=\"data row103 col3\" >0.550000</td>\n",
       "                        <td id=\"T_453de_row103_col4\" class=\"data row103 col4\" >0.851644</td>\n",
       "            </tr>\n",
       "            <tr>\n",
       "                        <th id=\"T_453de_level0_row104\" class=\"row_heading level0 row104\" >104</th>\n",
       "                        <td id=\"T_453de_row104_col0\" class=\"data row104 col0\" >RandomForestClassifier</td>\n",
       "                        <td id=\"T_453de_row104_col1\" class=\"data row104 col1\" >{'random_state': 123, 'n_estimators': 50, 'max_depth': 11}</td>\n",
       "                        <td id=\"T_453de_row104_col2\" class=\"data row104 col2\" >0.850500</td>\n",
       "                        <td id=\"T_453de_row104_col3\" class=\"data row104 col3\" >0.532081</td>\n",
       "                        <td id=\"T_453de_row104_col4\" class=\"data row104 col4\" >0.851575</td>\n",
       "            </tr>\n",
       "            <tr>\n",
       "                        <th id=\"T_453de_level0_row105\" class=\"row_heading level0 row105\" >105</th>\n",
       "                        <td id=\"T_453de_row105_col0\" class=\"data row105 col0\" >RandomForestClassifier</td>\n",
       "                        <td id=\"T_453de_row105_col1\" class=\"data row105 col1\" >{'random_state': 123, 'n_estimators': 60, 'max_depth': 11}</td>\n",
       "                        <td id=\"T_453de_row105_col2\" class=\"data row105 col2\" >0.852000</td>\n",
       "                        <td id=\"T_453de_row105_col3\" class=\"data row105 col3\" >0.538941</td>\n",
       "                        <td id=\"T_453de_row105_col4\" class=\"data row105 col4\" >0.851051</td>\n",
       "            </tr>\n",
       "            <tr>\n",
       "                        <th id=\"T_453de_level0_row106\" class=\"row_heading level0 row106\" >106</th>\n",
       "                        <td id=\"T_453de_row106_col0\" class=\"data row106 col0\" >RandomForestClassifier</td>\n",
       "                        <td id=\"T_453de_row106_col1\" class=\"data row106 col1\" >{'random_state': 123, 'n_estimators': 70, 'max_depth': 11}</td>\n",
       "                        <td id=\"T_453de_row106_col2\" class=\"data row106 col2\" >0.853500</td>\n",
       "                        <td id=\"T_453de_row106_col3\" class=\"data row106 col3\" >0.538583</td>\n",
       "                        <td id=\"T_453de_row106_col4\" class=\"data row106 col4\" >0.852736</td>\n",
       "            </tr>\n",
       "            <tr>\n",
       "                        <th id=\"T_453de_level0_row107\" class=\"row_heading level0 row107\" >107</th>\n",
       "                        <td id=\"T_453de_row107_col0\" class=\"data row107 col0\" >RandomForestClassifier</td>\n",
       "                        <td id=\"T_453de_row107_col1\" class=\"data row107 col1\" >{'random_state': 123, 'n_estimators': 80, 'max_depth': 11}</td>\n",
       "                        <td id=\"T_453de_row107_col2\" class=\"data row107 col2\" >0.854000</td>\n",
       "                        <td id=\"T_453de_row107_col3\" class=\"data row107 col3\" >0.542320</td>\n",
       "                        <td id=\"T_453de_row107_col4\" class=\"data row107 col4\" >0.853748</td>\n",
       "            </tr>\n",
       "            <tr>\n",
       "                        <th id=\"T_453de_level0_row108\" class=\"row_heading level0 row108\" >108</th>\n",
       "                        <td id=\"T_453de_row108_col0\" class=\"data row108 col0\" >RandomForestClassifier</td>\n",
       "                        <td id=\"T_453de_row108_col1\" class=\"data row108 col1\" >{'random_state': 123, 'n_estimators': 90, 'max_depth': 11}</td>\n",
       "                        <td id=\"T_453de_row108_col2\" class=\"data row108 col2\" >0.855500</td>\n",
       "                        <td id=\"T_453de_row108_col3\" class=\"data row108 col3\" >0.547731</td>\n",
       "                        <td id=\"T_453de_row108_col4\" class=\"data row108 col4\" >0.854113</td>\n",
       "            </tr>\n",
       "            <tr>\n",
       "                        <th id=\"T_453de_level0_row109\" class=\"row_heading level0 row109\" >109</th>\n",
       "                        <td id=\"T_453de_row109_col0\" class=\"data row109 col0\" >RandomForestClassifier</td>\n",
       "                        <td id=\"T_453de_row109_col1\" class=\"data row109 col1\" >{'random_state': 123, 'n_estimators': 100, 'max_depth': 11}</td>\n",
       "                        <td id=\"T_453de_row109_col2\" class=\"data row109 col2\" >0.855000</td>\n",
       "                        <td id=\"T_453de_row109_col3\" class=\"data row109 col3\" >0.545455</td>\n",
       "                        <td id=\"T_453de_row109_col4\" class=\"data row109 col4\" >0.854068</td>\n",
       "            </tr>\n",
       "            <tr>\n",
       "                        <th id=\"T_453de_level0_row110\" class=\"row_heading level0 row110\" >110</th>\n",
       "                        <td id=\"T_453de_row110_col0\" class=\"data row110 col0\" >RandomForestClassifier</td>\n",
       "                        <td id=\"T_453de_row110_col1\" class=\"data row110 col1\" >{'random_state': 123, 'n_estimators': 10, 'max_depth': 12}</td>\n",
       "                        <td id=\"T_453de_row110_col2\" class=\"data row110 col2\" >0.848000</td>\n",
       "                        <td id=\"T_453de_row110_col3\" class=\"data row110 col3\" >0.546269</td>\n",
       "                        <td id=\"T_453de_row110_col4\" class=\"data row110 col4\" >0.818751</td>\n",
       "            </tr>\n",
       "            <tr>\n",
       "                        <th id=\"T_453de_level0_row111\" class=\"row_heading level0 row111\" >111</th>\n",
       "                        <td id=\"T_453de_row111_col0\" class=\"data row111 col0\" >RandomForestClassifier</td>\n",
       "                        <td id=\"T_453de_row111_col1\" class=\"data row111 col1\" >{'random_state': 123, 'n_estimators': 20, 'max_depth': 12}</td>\n",
       "                        <td id=\"T_453de_row111_col2\" class=\"data row111 col2\" >0.853000</td>\n",
       "                        <td id=\"T_453de_row111_col3\" class=\"data row111 col3\" >0.537736</td>\n",
       "                        <td id=\"T_453de_row111_col4\" class=\"data row111 col4\" >0.835583</td>\n",
       "            </tr>\n",
       "            <tr>\n",
       "                        <th id=\"T_453de_level0_row112\" class=\"row_heading level0 row112\" >112</th>\n",
       "                        <td id=\"T_453de_row112_col0\" class=\"data row112 col0\" >RandomForestClassifier</td>\n",
       "                        <td id=\"T_453de_row112_col1\" class=\"data row112 col1\" >{'random_state': 123, 'n_estimators': 30, 'max_depth': 12}</td>\n",
       "                        <td id=\"T_453de_row112_col2\" class=\"data row112 col2\" >0.853000</td>\n",
       "                        <td id=\"T_453de_row112_col3\" class=\"data row112 col3\" >0.539185</td>\n",
       "                        <td id=\"T_453de_row112_col4\" class=\"data row112 col4\" >0.843207</td>\n",
       "            </tr>\n",
       "            <tr>\n",
       "                        <th id=\"T_453de_level0_row113\" class=\"row_heading level0 row113\" >113</th>\n",
       "                        <td id=\"T_453de_row113_col0\" class=\"data row113 col0\" >RandomForestClassifier</td>\n",
       "                        <td id=\"T_453de_row113_col1\" class=\"data row113 col1\" >{'random_state': 123, 'n_estimators': 40, 'max_depth': 12}</td>\n",
       "                        <td id=\"T_453de_row113_col2\" class=\"data row113 col2\" >0.851500</td>\n",
       "                        <td id=\"T_453de_row113_col3\" class=\"data row113 col3\" >0.536661</td>\n",
       "                        <td id=\"T_453de_row113_col4\" class=\"data row113 col4\" >0.848992</td>\n",
       "            </tr>\n",
       "            <tr>\n",
       "                        <th id=\"T_453de_level0_row114\" class=\"row_heading level0 row114\" >114</th>\n",
       "                        <td id=\"T_453de_row114_col0\" class=\"data row114 col0\" >RandomForestClassifier</td>\n",
       "                        <td id=\"T_453de_row114_col1\" class=\"data row114 col1\" >{'random_state': 123, 'n_estimators': 50, 'max_depth': 12}</td>\n",
       "                        <td id=\"T_453de_row114_col2\" class=\"data row114 col2\" >0.851500</td>\n",
       "                        <td id=\"T_453de_row114_col3\" class=\"data row114 col3\" >0.536661</td>\n",
       "                        <td id=\"T_453de_row114_col4\" class=\"data row114 col4\" >0.850058</td>\n",
       "            </tr>\n",
       "            <tr>\n",
       "                        <th id=\"T_453de_level0_row115\" class=\"row_heading level0 row115\" >115</th>\n",
       "                        <td id=\"T_453de_row115_col0\" class=\"data row115 col0\" >RandomForestClassifier</td>\n",
       "                        <td id=\"T_453de_row115_col1\" class=\"data row115 col1\" >{'random_state': 123, 'n_estimators': 60, 'max_depth': 12}</td>\n",
       "                        <td id=\"T_453de_row115_col2\" class=\"data row115 col2\" >0.854500</td>\n",
       "                        <td id=\"T_453de_row115_col3\" class=\"data row115 col3\" >0.540284</td>\n",
       "                        <td id=\"T_453de_row115_col4\" class=\"data row115 col4\" >0.850954</td>\n",
       "            </tr>\n",
       "            <tr>\n",
       "                        <th id=\"T_453de_level0_row116\" class=\"row_heading level0 row116\" >116</th>\n",
       "                        <td id=\"T_453de_row116_col0\" class=\"data row116 col0\" >RandomForestClassifier</td>\n",
       "                        <td id=\"T_453de_row116_col1\" class=\"data row116 col1\" >{'random_state': 123, 'n_estimators': 70, 'max_depth': 12}</td>\n",
       "                        <td id=\"T_453de_row116_col2\" class=\"data row116 col2\" >0.855500</td>\n",
       "                        <td id=\"T_453de_row116_col3\" class=\"data row116 col3\" >0.544882</td>\n",
       "                        <td id=\"T_453de_row116_col4\" class=\"data row116 col4\" >0.851762</td>\n",
       "            </tr>\n",
       "            <tr>\n",
       "                        <th id=\"T_453de_level0_row117\" class=\"row_heading level0 row117\" >117</th>\n",
       "                        <td id=\"T_453de_row117_col0\" class=\"data row117 col0\" >RandomForestClassifier</td>\n",
       "                        <td id=\"T_453de_row117_col1\" class=\"data row117 col1\" >{'random_state': 123, 'n_estimators': 80, 'max_depth': 12}</td>\n",
       "                        <td id=\"T_453de_row117_col2\" class=\"data row117 col2\" >0.858000</td>\n",
       "                        <td id=\"T_453de_row117_col3\" class=\"data row117 col3\" >0.553459</td>\n",
       "                        <td id=\"T_453de_row117_col4\" class=\"data row117 col4\" >0.851924</td>\n",
       "            </tr>\n",
       "            <tr>\n",
       "                        <th id=\"T_453de_level0_row118\" class=\"row_heading level0 row118\" >118</th>\n",
       "                        <td id=\"T_453de_row118_col0\" class=\"data row118 col0\" >RandomForestClassifier</td>\n",
       "                        <td id=\"T_453de_row118_col1\" class=\"data row118 col1\" >{'random_state': 123, 'n_estimators': 90, 'max_depth': 12}</td>\n",
       "                        <td id=\"T_453de_row118_col2\" class=\"data row118 col2\" >0.859500</td>\n",
       "                        <td id=\"T_453de_row118_col3\" class=\"data row118 col3\" >0.556082</td>\n",
       "                        <td id=\"T_453de_row118_col4\" class=\"data row118 col4\" >0.851037</td>\n",
       "            </tr>\n",
       "            <tr>\n",
       "                        <th id=\"T_453de_level0_row119\" class=\"row_heading level0 row119\" >119</th>\n",
       "                        <td id=\"T_453de_row119_col0\" class=\"data row119 col0\" >RandomForestClassifier</td>\n",
       "                        <td id=\"T_453de_row119_col1\" class=\"data row119 col1\" >{'random_state': 123, 'n_estimators': 100, 'max_depth': 12}</td>\n",
       "                        <td id=\"T_453de_row119_col2\" class=\"data row119 col2\" >0.858500</td>\n",
       "                        <td id=\"T_453de_row119_col3\" class=\"data row119 col3\" >0.554331</td>\n",
       "                        <td id=\"T_453de_row119_col4\" class=\"data row119 col4\" >0.851643</td>\n",
       "            </tr>\n",
       "            <tr>\n",
       "                        <th id=\"T_453de_level0_row120\" class=\"row_heading level0 row120\" >120</th>\n",
       "                        <td id=\"T_453de_row120_col0\" class=\"data row120 col0\" >RandomForestClassifier</td>\n",
       "                        <td id=\"T_453de_row120_col1\" class=\"data row120 col1\" >{'random_state': 123, 'n_estimators': 10, 'max_depth': 13}</td>\n",
       "                        <td id=\"T_453de_row120_col2\" class=\"data row120 col2\" >0.849000</td>\n",
       "                        <td id=\"T_453de_row120_col3\" class=\"data row120 col3\" >0.536810</td>\n",
       "                        <td id=\"T_453de_row120_col4\" class=\"data row120 col4\" >0.825198</td>\n",
       "            </tr>\n",
       "            <tr>\n",
       "                        <th id=\"T_453de_level0_row121\" class=\"row_heading level0 row121\" >121</th>\n",
       "                        <td id=\"T_453de_row121_col0\" class=\"data row121 col0\" >RandomForestClassifier</td>\n",
       "                        <td id=\"T_453de_row121_col1\" class=\"data row121 col1\" >{'random_state': 123, 'n_estimators': 20, 'max_depth': 13}</td>\n",
       "                        <td id=\"T_453de_row121_col2\" class=\"data row121 col2\" >0.853500</td>\n",
       "                        <td id=\"T_453de_row121_col3\" class=\"data row121 col3\" >0.547141</td>\n",
       "                        <td id=\"T_453de_row121_col4\" class=\"data row121 col4\" >0.837706</td>\n",
       "            </tr>\n",
       "            <tr>\n",
       "                        <th id=\"T_453de_level0_row122\" class=\"row_heading level0 row122\" >122</th>\n",
       "                        <td id=\"T_453de_row122_col0\" class=\"data row122 col0\" >RandomForestClassifier</td>\n",
       "                        <td id=\"T_453de_row122_col1\" class=\"data row122 col1\" >{'random_state': 123, 'n_estimators': 30, 'max_depth': 13}</td>\n",
       "                        <td id=\"T_453de_row122_col2\" class=\"data row122 col2\" >0.853500</td>\n",
       "                        <td id=\"T_453de_row122_col3\" class=\"data row122 col3\" >0.544323</td>\n",
       "                        <td id=\"T_453de_row122_col4\" class=\"data row122 col4\" >0.842819</td>\n",
       "            </tr>\n",
       "            <tr>\n",
       "                        <th id=\"T_453de_level0_row123\" class=\"row_heading level0 row123\" >123</th>\n",
       "                        <td id=\"T_453de_row123_col0\" class=\"data row123 col0\" >RandomForestClassifier</td>\n",
       "                        <td id=\"T_453de_row123_col1\" class=\"data row123 col1\" >{'random_state': 123, 'n_estimators': 40, 'max_depth': 13}</td>\n",
       "                        <td id=\"T_453de_row123_col2\" class=\"data row123 col2\" >0.855000</td>\n",
       "                        <td id=\"T_453de_row123_col3\" class=\"data row123 col3\" >0.549689</td>\n",
       "                        <td id=\"T_453de_row123_col4\" class=\"data row123 col4\" >0.845199</td>\n",
       "            </tr>\n",
       "            <tr>\n",
       "                        <th id=\"T_453de_level0_row124\" class=\"row_heading level0 row124\" >124</th>\n",
       "                        <td id=\"T_453de_row124_col0\" class=\"data row124 col0\" >RandomForestClassifier</td>\n",
       "                        <td id=\"T_453de_row124_col1\" class=\"data row124 col1\" >{'random_state': 123, 'n_estimators': 50, 'max_depth': 13}</td>\n",
       "                        <td id=\"T_453de_row124_col2\" class=\"data row124 col2\" >0.858000</td>\n",
       "                        <td id=\"T_453de_row124_col3\" class=\"data row124 col3\" >0.559006</td>\n",
       "                        <td id=\"T_453de_row124_col4\" class=\"data row124 col4\" >0.846611</td>\n",
       "            </tr>\n",
       "            <tr>\n",
       "                        <th id=\"T_453de_level0_row125\" class=\"row_heading level0 row125\" >125</th>\n",
       "                        <td id=\"T_453de_row125_col0\" class=\"data row125 col0\" >RandomForestClassifier</td>\n",
       "                        <td id=\"T_453de_row125_col1\" class=\"data row125 col1\" >{'random_state': 123, 'n_estimators': 60, 'max_depth': 13}</td>\n",
       "                        <td id=\"T_453de_row125_col2\" class=\"data row125 col2\" >0.856500</td>\n",
       "                        <td id=\"T_453de_row125_col3\" class=\"data row125 col3\" >0.555039</td>\n",
       "                        <td id=\"T_453de_row125_col4\" class=\"data row125 col4\" >0.846215</td>\n",
       "            </tr>\n",
       "            <tr>\n",
       "                        <th id=\"T_453de_level0_row126\" class=\"row_heading level0 row126\" >126</th>\n",
       "                        <td id=\"T_453de_row126_col0\" class=\"data row126 col0\" >RandomForestClassifier</td>\n",
       "                        <td id=\"T_453de_row126_col1\" class=\"data row126 col1\" >{'random_state': 123, 'n_estimators': 70, 'max_depth': 13}</td>\n",
       "                        <td id=\"T_453de_row126_col2\" class=\"data row126 col2\" >0.860500</td>\n",
       "                        <td id=\"T_453de_row126_col3\" class=\"data row126 col3\" >0.566096</td>\n",
       "                        <td id=\"T_453de_row126_col4\" class=\"data row126 col4\" >0.847035</td>\n",
       "            </tr>\n",
       "            <tr>\n",
       "                        <th id=\"T_453de_level0_row127\" class=\"row_heading level0 row127\" >127</th>\n",
       "                        <td id=\"T_453de_row127_col0\" class=\"data row127 col0\" >RandomForestClassifier</td>\n",
       "                        <td id=\"T_453de_row127_col1\" class=\"data row127 col1\" >{'random_state': 123, 'n_estimators': 80, 'max_depth': 13}</td>\n",
       "                        <td id=\"T_453de_row127_col2\" class=\"data row127 col2\" >0.859500</td>\n",
       "                        <td id=\"T_453de_row127_col3\" class=\"data row127 col3\" >0.561622</td>\n",
       "                        <td id=\"T_453de_row127_col4\" class=\"data row127 col4\" >0.849064</td>\n",
       "            </tr>\n",
       "            <tr>\n",
       "                        <th id=\"T_453de_level0_row128\" class=\"row_heading level0 row128\" >128</th>\n",
       "                        <td id=\"T_453de_row128_col0\" class=\"data row128 col0\" >RandomForestClassifier</td>\n",
       "                        <td id=\"T_453de_row128_col1\" class=\"data row128 col1\" >{'random_state': 123, 'n_estimators': 90, 'max_depth': 13}</td>\n",
       "                        <td id=\"T_453de_row128_col2\" class=\"data row128 col2\" >0.858500</td>\n",
       "                        <td id=\"T_453de_row128_col3\" class=\"data row128 col3\" >0.562597</td>\n",
       "                        <td id=\"T_453de_row128_col4\" class=\"data row128 col4\" >0.849911</td>\n",
       "            </tr>\n",
       "            <tr>\n",
       "                        <th id=\"T_453de_level0_row129\" class=\"row_heading level0 row129\" >129</th>\n",
       "                        <td id=\"T_453de_row129_col0\" class=\"data row129 col0\" >RandomForestClassifier</td>\n",
       "                        <td id=\"T_453de_row129_col1\" class=\"data row129 col1\" >{'random_state': 123, 'n_estimators': 100, 'max_depth': 13}</td>\n",
       "                        <td id=\"T_453de_row129_col2\" class=\"data row129 col2\" >0.858000</td>\n",
       "                        <td id=\"T_453de_row129_col3\" class=\"data row129 col3\" >0.559006</td>\n",
       "                        <td id=\"T_453de_row129_col4\" class=\"data row129 col4\" >0.850487</td>\n",
       "            </tr>\n",
       "            <tr>\n",
       "                        <th id=\"T_453de_level0_row130\" class=\"row_heading level0 row130\" >130</th>\n",
       "                        <td id=\"T_453de_row130_col0\" class=\"data row130 col0\" >RandomForestClassifier</td>\n",
       "                        <td id=\"T_453de_row130_col1\" class=\"data row130 col1\" >{'random_state': 123, 'n_estimators': 10, 'max_depth': 14}</td>\n",
       "                        <td id=\"T_453de_row130_col2\" class=\"data row130 col2\" >0.848500</td>\n",
       "                        <td id=\"T_453de_row130_col3\" class=\"data row130 col3\" >0.549777</td>\n",
       "                        <td id=\"T_453de_row130_col4\" class=\"data row130 col4\" >0.808516</td>\n",
       "            </tr>\n",
       "            <tr>\n",
       "                        <th id=\"T_453de_level0_row131\" class=\"row_heading level0 row131\" >131</th>\n",
       "                        <td id=\"T_453de_row131_col0\" class=\"data row131 col0\" >RandomForestClassifier</td>\n",
       "                        <td id=\"T_453de_row131_col1\" class=\"data row131 col1\" >{'random_state': 123, 'n_estimators': 20, 'max_depth': 14}</td>\n",
       "                        <td id=\"T_453de_row131_col2\" class=\"data row131 col2\" >0.847500</td>\n",
       "                        <td id=\"T_453de_row131_col3\" class=\"data row131 col3\" >0.539970</td>\n",
       "                        <td id=\"T_453de_row131_col4\" class=\"data row131 col4\" >0.833501</td>\n",
       "            </tr>\n",
       "            <tr>\n",
       "                        <th id=\"T_453de_level0_row132\" class=\"row_heading level0 row132\" >132</th>\n",
       "                        <td id=\"T_453de_row132_col0\" class=\"data row132 col0\" >RandomForestClassifier</td>\n",
       "                        <td id=\"T_453de_row132_col1\" class=\"data row132 col1\" >{'random_state': 123, 'n_estimators': 30, 'max_depth': 14}</td>\n",
       "                        <td id=\"T_453de_row132_col2\" class=\"data row132 col2\" >0.854000</td>\n",
       "                        <td id=\"T_453de_row132_col3\" class=\"data row132 col3\" >0.550769</td>\n",
       "                        <td id=\"T_453de_row132_col4\" class=\"data row132 col4\" >0.843203</td>\n",
       "            </tr>\n",
       "            <tr>\n",
       "                        <th id=\"T_453de_level0_row133\" class=\"row_heading level0 row133\" >133</th>\n",
       "                        <td id=\"T_453de_row133_col0\" class=\"data row133 col0\" >RandomForestClassifier</td>\n",
       "                        <td id=\"T_453de_row133_col1\" class=\"data row133 col1\" >{'random_state': 123, 'n_estimators': 40, 'max_depth': 14}</td>\n",
       "                        <td id=\"T_453de_row133_col2\" class=\"data row133 col2\" >0.854000</td>\n",
       "                        <td id=\"T_453de_row133_col3\" class=\"data row133 col3\" >0.553517</td>\n",
       "                        <td id=\"T_453de_row133_col4\" class=\"data row133 col4\" >0.848941</td>\n",
       "            </tr>\n",
       "            <tr>\n",
       "                        <th id=\"T_453de_level0_row134\" class=\"row_heading level0 row134\" >134</th>\n",
       "                        <td id=\"T_453de_row134_col0\" class=\"data row134 col0\" >RandomForestClassifier</td>\n",
       "                        <td id=\"T_453de_row134_col1\" class=\"data row134 col1\" >{'random_state': 123, 'n_estimators': 50, 'max_depth': 14}</td>\n",
       "                        <td id=\"T_453de_row134_col2\" class=\"data row134 col2\" >0.857000</td>\n",
       "                        <td id=\"T_453de_row134_col3\" class=\"data row134 col3\" >0.557276</td>\n",
       "                        <td id=\"T_453de_row134_col4\" class=\"data row134 col4\" >0.849021</td>\n",
       "            </tr>\n",
       "            <tr>\n",
       "                        <th id=\"T_453de_level0_row135\" class=\"row_heading level0 row135\" >135</th>\n",
       "                        <td id=\"T_453de_row135_col0\" class=\"data row135 col0\" >RandomForestClassifier</td>\n",
       "                        <td id=\"T_453de_row135_col1\" class=\"data row135 col1\" >{'random_state': 123, 'n_estimators': 60, 'max_depth': 14}</td>\n",
       "                        <td id=\"T_453de_row135_col2\" class=\"data row135 col2\" >0.857500</td>\n",
       "                        <td id=\"T_453de_row135_col3\" class=\"data row135 col3\" >0.560863</td>\n",
       "                        <td id=\"T_453de_row135_col4\" class=\"data row135 col4\" >0.849199</td>\n",
       "            </tr>\n",
       "            <tr>\n",
       "                        <th id=\"T_453de_level0_row136\" class=\"row_heading level0 row136\" >136</th>\n",
       "                        <td id=\"T_453de_row136_col0\" class=\"data row136 col0\" >RandomForestClassifier</td>\n",
       "                        <td id=\"T_453de_row136_col1\" class=\"data row136 col1\" >{'random_state': 123, 'n_estimators': 70, 'max_depth': 14}</td>\n",
       "                        <td id=\"T_453de_row136_col2\" class=\"data row136 col2\" >0.854000</td>\n",
       "                        <td id=\"T_453de_row136_col3\" class=\"data row136 col3\" >0.547988</td>\n",
       "                        <td id=\"T_453de_row136_col4\" class=\"data row136 col4\" >0.851176</td>\n",
       "            </tr>\n",
       "            <tr>\n",
       "                        <th id=\"T_453de_level0_row137\" class=\"row_heading level0 row137\" >137</th>\n",
       "                        <td id=\"T_453de_row137_col0\" class=\"data row137 col0\" >RandomForestClassifier</td>\n",
       "                        <td id=\"T_453de_row137_col1\" class=\"data row137 col1\" >{'random_state': 123, 'n_estimators': 80, 'max_depth': 14}</td>\n",
       "                        <td id=\"T_453de_row137_col2\" class=\"data row137 col2\" >0.857000</td>\n",
       "                        <td id=\"T_453de_row137_col3\" class=\"data row137 col3\" >0.555901</td>\n",
       "                        <td id=\"T_453de_row137_col4\" class=\"data row137 col4\" >0.850228</td>\n",
       "            </tr>\n",
       "            <tr>\n",
       "                        <th id=\"T_453de_level0_row138\" class=\"row_heading level0 row138\" >138</th>\n",
       "                        <td id=\"T_453de_row138_col0\" class=\"data row138 col0\" >RandomForestClassifier</td>\n",
       "                        <td id=\"T_453de_row138_col1\" class=\"data row138 col1\" >{'random_state': 123, 'n_estimators': 90, 'max_depth': 14}</td>\n",
       "                        <td id=\"T_453de_row138_col2\" class=\"data row138 col2\" >0.857000</td>\n",
       "                        <td id=\"T_453de_row138_col3\" class=\"data row138 col3\" >0.555901</td>\n",
       "                        <td id=\"T_453de_row138_col4\" class=\"data row138 col4\" >0.852173</td>\n",
       "            </tr>\n",
       "            <tr>\n",
       "                        <th id=\"T_453de_level0_row139\" class=\"row_heading level0 row139\" >139</th>\n",
       "                        <td id=\"T_453de_row139_col0\" class=\"data row139 col0\" >RandomForestClassifier</td>\n",
       "                        <td id=\"T_453de_row139_col1\" class=\"data row139 col1\" >{'random_state': 123, 'n_estimators': 100, 'max_depth': 14}</td>\n",
       "                        <td id=\"T_453de_row139_col2\" class=\"data row139 col2\" >0.857000</td>\n",
       "                        <td id=\"T_453de_row139_col3\" class=\"data row139 col3\" >0.553125</td>\n",
       "                        <td id=\"T_453de_row139_col4\" class=\"data row139 col4\" >0.852064</td>\n",
       "            </tr>\n",
       "    </tbody></table>"
      ],
      "text/plain": [
       "<pandas.io.formats.style.Styler at 0x7f3a5c0b6400>"
      ]
     },
     "execution_count": 106,
     "metadata": {},
     "output_type": "execute_result"
    }
   ],
   "source": [
    "pd.DataFrame(results_imb_rfc).style.highlight_max(color = 'lightgreen', axis = 0)\n"
   ]
  },
  {
   "cell_type": "markdown",
   "metadata": {},
   "source": [
    "**We can see that the best result for imbalanced classes showed the Random Forest model**"
   ]
  },
  {
   "cell_type": "markdown",
   "metadata": {},
   "source": [
    "## Improve the quality of the model. Make sure you use at least two approaches to fixing class imbalance. Use the training set to pick the best parameters. Train different models on training and validation sets. Find the best one. Briefly describe your findings."
   ]
  },
  {
   "cell_type": "markdown",
   "metadata": {},
   "source": [
    "**There are 3 methods to fix class imbalance:**\n",
    "  1. Class weight adjustment\n",
    "  2. Upsampling\n",
    "  3. Downsampling. \n",
    "  \n",
    "**Let's see which one will give us the best result**"
   ]
  },
  {
   "cell_type": "markdown",
   "metadata": {},
   "source": [
    "### Class weight adjustment"
   ]
  },
  {
   "cell_type": "code",
   "execution_count": 107,
   "metadata": {},
   "outputs": [],
   "source": [
    "models_balanced = [LogisticRegression(random_state=123, class_weight='balanced'), \n",
    "                   DecisionTreeClassifier(random_state=123, class_weight='balanced'), \n",
    "                   RandomForestClassifier(random_state=123, class_weight='balanced')]\n",
    "\n",
    "results_balanced = []\n",
    "\n",
    "for model in models_balanced:\n",
    "    model.fit(features_train, target_train)\n",
    "    predictions_valid = model.predict(features_valid)\n",
    "    probabilities_valid = model.predict_proba(features_valid)\n",
    "    \n",
    "    accuracy = accuracy_score(target_valid, predictions_valid)\n",
    "    f1 = f1_score(target_valid, predictions_valid)\n",
    "    roc_auc = roc_auc_score(target_valid, probabilities_valid[:,1])\n",
    "    \n",
    "    results_balanced.append({'Model': model.__class__.__name__,\n",
    "                             'accuracy_balanced': accuracy,\n",
    "                             'f1_balanced': f1, \n",
    "                             'ROC AUC score_balanced': roc_auc})"
   ]
  },
  {
   "cell_type": "code",
   "execution_count": 108,
   "metadata": {},
   "outputs": [
    {
     "data": {
      "text/html": [
       "<div>\n",
       "<style scoped>\n",
       "    .dataframe tbody tr th:only-of-type {\n",
       "        vertical-align: middle;\n",
       "    }\n",
       "\n",
       "    .dataframe tbody tr th {\n",
       "        vertical-align: top;\n",
       "    }\n",
       "\n",
       "    .dataframe thead th {\n",
       "        text-align: right;\n",
       "    }\n",
       "</style>\n",
       "<table border=\"1\" class=\"dataframe\">\n",
       "  <thead>\n",
       "    <tr style=\"text-align: right;\">\n",
       "      <th></th>\n",
       "      <th>Model</th>\n",
       "      <th>accuracy_balanced</th>\n",
       "      <th>f1_balanced</th>\n",
       "      <th>ROC AUC score_balanced</th>\n",
       "    </tr>\n",
       "  </thead>\n",
       "  <tbody>\n",
       "    <tr>\n",
       "      <th>0</th>\n",
       "      <td>LogisticRegression</td>\n",
       "      <td>0.6915</td>\n",
       "      <td>0.460192</td>\n",
       "      <td>0.734507</td>\n",
       "    </tr>\n",
       "    <tr>\n",
       "      <th>1</th>\n",
       "      <td>DecisionTreeClassifier</td>\n",
       "      <td>0.7975</td>\n",
       "      <td>0.491844</td>\n",
       "      <td>0.679581</td>\n",
       "    </tr>\n",
       "    <tr>\n",
       "      <th>2</th>\n",
       "      <td>RandomForestClassifier</td>\n",
       "      <td>0.8550</td>\n",
       "      <td>0.544025</td>\n",
       "      <td>0.840879</td>\n",
       "    </tr>\n",
       "  </tbody>\n",
       "</table>\n",
       "</div>"
      ],
      "text/plain": [
       "                    Model  accuracy_balanced  f1_balanced  \\\n",
       "0  LogisticRegression      0.6915             0.460192      \n",
       "1  DecisionTreeClassifier  0.7975             0.491844      \n",
       "2  RandomForestClassifier  0.8550             0.544025      \n",
       "\n",
       "   ROC AUC score_balanced  \n",
       "0  0.734507                \n",
       "1  0.679581                \n",
       "2  0.840879                "
      ]
     },
     "execution_count": 108,
     "metadata": {},
     "output_type": "execute_result"
    }
   ],
   "source": [
    "balanced = pd.DataFrame(results_balanced)\n",
    "balanced"
   ]
  },
  {
   "cell_type": "markdown",
   "metadata": {},
   "source": [
    "**The Random Forest model again showed the best result.**"
   ]
  },
  {
   "cell_type": "markdown",
   "metadata": {},
   "source": [
    "### Upsampling"
   ]
  },
  {
   "cell_type": "code",
   "execution_count": 109,
   "metadata": {},
   "outputs": [],
   "source": [
    "def upsample(features, target, repeat):\n",
    "    features_zeros = features[target == 0]\n",
    "    features_ones = features[target == 1]\n",
    "    target_zeros = target[target == 0]\n",
    "    target_ones = target[target == 1]\n",
    "\n",
    "    features_upsampled = pd.concat([features_zeros] + [features_ones] * repeat)\n",
    "    target_upsampled = pd.concat([target_zeros] + [target_ones] * repeat)\n",
    "    \n",
    "    features_upsampled, target_upsampled = shuffle(features_upsampled, target_upsampled, random_state=123)\n",
    "    \n",
    "    return features_upsampled, target_upsampled\n",
    "\n",
    "features_upsampled, target_upsampled = upsample(features_train, target_train, 4)"
   ]
  },
  {
   "cell_type": "code",
   "execution_count": 110,
   "metadata": {},
   "outputs": [
    {
     "name": "stdout",
     "output_type": "stream",
     "text": [
      "(9666, 11)\n",
      "(9666,)\n"
     ]
    }
   ],
   "source": [
    "print(features_upsampled.shape)\n",
    "print(target_upsampled.shape)"
   ]
  },
  {
   "cell_type": "code",
   "execution_count": 111,
   "metadata": {},
   "outputs": [
    {
     "data": {
      "text/html": [
       "<div>\n",
       "<style scoped>\n",
       "    .dataframe tbody tr th:only-of-type {\n",
       "        vertical-align: middle;\n",
       "    }\n",
       "\n",
       "    .dataframe tbody tr th {\n",
       "        vertical-align: top;\n",
       "    }\n",
       "\n",
       "    .dataframe thead th {\n",
       "        text-align: right;\n",
       "    }\n",
       "</style>\n",
       "<table border=\"1\" class=\"dataframe\">\n",
       "  <thead>\n",
       "    <tr style=\"text-align: right;\">\n",
       "      <th></th>\n",
       "      <th>Boolean</th>\n",
       "      <th>Count</th>\n",
       "    </tr>\n",
       "  </thead>\n",
       "  <tbody>\n",
       "    <tr>\n",
       "      <th>0</th>\n",
       "      <td>1</td>\n",
       "      <td>4888</td>\n",
       "    </tr>\n",
       "    <tr>\n",
       "      <th>1</th>\n",
       "      <td>0</td>\n",
       "      <td>4778</td>\n",
       "    </tr>\n",
       "  </tbody>\n",
       "</table>\n",
       "</div>"
      ],
      "text/plain": [
       "   Boolean  Count\n",
       "0  1        4888 \n",
       "1  0        4778 "
      ]
     },
     "execution_count": 111,
     "metadata": {},
     "output_type": "execute_result"
    }
   ],
   "source": [
    "values = target_upsampled.value_counts()\n",
    "values = values.to_frame().reset_index()\n",
    "values.columns = ['Boolean', 'Count']\n",
    "pd.DataFrame(values)\n",
    "values"
   ]
  },
  {
   "cell_type": "code",
   "execution_count": 112,
   "metadata": {},
   "outputs": [
    {
     "data": {
      "image/png": "[encoded data removed]",
      "text/plain": [
       "<Figure size 432x288 with 1 Axes>"
      ]
     },
     "metadata": {
      "needs_background": "light"
     },
     "output_type": "display_data"
    }
   ],
   "source": [
    "values.plot(kind='hist', bins=3)\n",
    "plt.show()"
   ]
  },
  {
   "cell_type": "markdown",
   "metadata": {},
   "source": [
    "**Now samples are balanced**"
   ]
  },
  {
   "cell_type": "code",
   "execution_count": 113,
   "metadata": {},
   "outputs": [],
   "source": [
    "models_upsampled = [LogisticRegression(random_state=123), \n",
    "                   DecisionTreeClassifier(random_state=123), \n",
    "                   RandomForestClassifier(random_state=123)]\n",
    "results_upsampling = []\n",
    "\n",
    "for model in models_upsampled:\n",
    "    model.fit(features_upsampled, target_upsampled)\n",
    "    predictions_valid = model.predict(features_valid)\n",
    "    probabilities_valid = model.predict_proba(features_valid)\n",
    "    \n",
    "    accuracy = accuracy_score(target_valid, predictions_valid)\n",
    "    f1 = f1_score(target_valid, predictions_valid)\n",
    "    roc_auc = roc_auc_score(target_valid, probabilities_valid[:,1])\n",
    "    \n",
    "    results_upsampling.append({'Model': model.__class__.__name__, \n",
    "                               'accuracy_up': accuracy,\n",
    "                               'f1_up': f1, \n",
    "                               'ROC AUC score_up': roc_auc})"
   ]
  },
  {
   "cell_type": "code",
   "execution_count": 114,
   "metadata": {},
   "outputs": [
    {
     "data": {
      "text/html": [
       "<div>\n",
       "<style scoped>\n",
       "    .dataframe tbody tr th:only-of-type {\n",
       "        vertical-align: middle;\n",
       "    }\n",
       "\n",
       "    .dataframe tbody tr th {\n",
       "        vertical-align: top;\n",
       "    }\n",
       "\n",
       "    .dataframe thead th {\n",
       "        text-align: right;\n",
       "    }\n",
       "</style>\n",
       "<table border=\"1\" class=\"dataframe\">\n",
       "  <thead>\n",
       "    <tr style=\"text-align: right;\">\n",
       "      <th></th>\n",
       "      <th>Model</th>\n",
       "      <th>ROC AUC score_balanced</th>\n",
       "      <th>ROC AUC score_up</th>\n",
       "      <th>accuracy_balanced</th>\n",
       "      <th>accuracy_up</th>\n",
       "      <th>f1_balanced</th>\n",
       "      <th>f1_up</th>\n",
       "    </tr>\n",
       "  </thead>\n",
       "  <tbody>\n",
       "    <tr>\n",
       "      <th>0</th>\n",
       "      <td>LogisticRegression</td>\n",
       "      <td>0.734507</td>\n",
       "      <td>0.734518</td>\n",
       "      <td>0.6915</td>\n",
       "      <td>0.6865</td>\n",
       "      <td>0.460192</td>\n",
       "      <td>0.458081</td>\n",
       "    </tr>\n",
       "    <tr>\n",
       "      <th>1</th>\n",
       "      <td>DecisionTreeClassifier</td>\n",
       "      <td>0.679581</td>\n",
       "      <td>0.682001</td>\n",
       "      <td>0.7975</td>\n",
       "      <td>0.7970</td>\n",
       "      <td>0.491844</td>\n",
       "      <td>0.495025</td>\n",
       "    </tr>\n",
       "    <tr>\n",
       "      <th>2</th>\n",
       "      <td>RandomForestClassifier</td>\n",
       "      <td>0.840879</td>\n",
       "      <td>0.842090</td>\n",
       "      <td>0.8550</td>\n",
       "      <td>0.8515</td>\n",
       "      <td>0.544025</td>\n",
       "      <td>0.597015</td>\n",
       "    </tr>\n",
       "  </tbody>\n",
       "</table>\n",
       "</div>"
      ],
      "text/plain": [
       "                    Model  ROC AUC score_balanced  ROC AUC score_up  \\\n",
       "0  LogisticRegression      0.734507                0.734518           \n",
       "1  DecisionTreeClassifier  0.679581                0.682001           \n",
       "2  RandomForestClassifier  0.840879                0.842090           \n",
       "\n",
       "   accuracy_balanced  accuracy_up  f1_balanced     f1_up  \n",
       "0  0.6915             0.6865       0.460192     0.458081  \n",
       "1  0.7975             0.7970       0.491844     0.495025  \n",
       "2  0.8550             0.8515       0.544025     0.597015  "
      ]
     },
     "execution_count": 114,
     "metadata": {},
     "output_type": "execute_result"
    }
   ],
   "source": [
    "final_results = balanced.merge(pd.DataFrame(results_upsampling), on='Model')\n",
    "final_results = final_results.reindex(sorted(final_results.columns), axis=1)\n",
    "final_results"
   ]
  },
  {
   "cell_type": "markdown",
   "metadata": {},
   "source": [
    "**Again Random Forest model showed better results.**"
   ]
  },
  {
   "cell_type": "markdown",
   "metadata": {},
   "source": [
    "### Downsampling"
   ]
  },
  {
   "cell_type": "code",
   "execution_count": 115,
   "metadata": {},
   "outputs": [],
   "source": [
    "def downsample(features, target, fraction):\n",
    "    features_zeros = features[target == 0]\n",
    "    features_ones = features[target == 1]\n",
    "    target_zeros = target[target == 0]\n",
    "    target_ones = target[target == 1]\n",
    "\n",
    "    features_downsampled = pd.concat([features_zeros.sample(frac=fraction, random_state=123)] + [features_ones])\n",
    "    target_downsampled = pd.concat([target_zeros.sample(frac=fraction, random_state=123)] + [target_ones])\n",
    "    \n",
    "    features_downsampled, target_downsampled = shuffle(features_downsampled, target_downsampled, random_state=123)\n",
    "    return features_downsampled, target_downsampled\n",
    "\n",
    "features_downsampled, target_downsampled = downsample(features_train, target_train, 0.25)"
   ]
  },
  {
   "cell_type": "code",
   "execution_count": 116,
   "metadata": {},
   "outputs": [
    {
     "name": "stdout",
     "output_type": "stream",
     "text": [
      "(2416, 11)\n",
      "(2416,)\n"
     ]
    }
   ],
   "source": [
    "print(features_downsampled.shape)\n",
    "print(target_downsampled.shape)"
   ]
  },
  {
   "cell_type": "code",
   "execution_count": 117,
   "metadata": {},
   "outputs": [
    {
     "data": {
      "text/html": [
       "<div>\n",
       "<style scoped>\n",
       "    .dataframe tbody tr th:only-of-type {\n",
       "        vertical-align: middle;\n",
       "    }\n",
       "\n",
       "    .dataframe tbody tr th {\n",
       "        vertical-align: top;\n",
       "    }\n",
       "\n",
       "    .dataframe thead th {\n",
       "        text-align: right;\n",
       "    }\n",
       "</style>\n",
       "<table border=\"1\" class=\"dataframe\">\n",
       "  <thead>\n",
       "    <tr style=\"text-align: right;\">\n",
       "      <th></th>\n",
       "      <th>Boolean</th>\n",
       "      <th>Count</th>\n",
       "    </tr>\n",
       "  </thead>\n",
       "  <tbody>\n",
       "    <tr>\n",
       "      <th>0</th>\n",
       "      <td>1</td>\n",
       "      <td>1222</td>\n",
       "    </tr>\n",
       "    <tr>\n",
       "      <th>1</th>\n",
       "      <td>0</td>\n",
       "      <td>1194</td>\n",
       "    </tr>\n",
       "  </tbody>\n",
       "</table>\n",
       "</div>"
      ],
      "text/plain": [
       "   Boolean  Count\n",
       "0  1        1222 \n",
       "1  0        1194 "
      ]
     },
     "execution_count": 117,
     "metadata": {},
     "output_type": "execute_result"
    }
   ],
   "source": [
    "values = target_downsampled.value_counts()\n",
    "values = values.to_frame().reset_index()\n",
    "values.columns = ['Boolean', 'Count']\n",
    "pd.DataFrame(values)\n",
    "values"
   ]
  },
  {
   "cell_type": "code",
   "execution_count": 118,
   "metadata": {},
   "outputs": [
    {
     "data": {
      "image/png": "[encoded data removed]",
      "text/plain": [
       "<Figure size 432x288 with 1 Axes>"
      ]
     },
     "metadata": {
      "needs_background": "light"
     },
     "output_type": "display_data"
    }
   ],
   "source": [
    "values.plot(kind='hist', bins=3)\n",
    "plt.show()"
   ]
  },
  {
   "cell_type": "markdown",
   "metadata": {},
   "source": [
    "**Ok, classes are well balanced. Let's see what models will show us**"
   ]
  },
  {
   "cell_type": "code",
   "execution_count": 119,
   "metadata": {},
   "outputs": [],
   "source": [
    "models_downsampled = [LogisticRegression(random_state=123), \n",
    "                   DecisionTreeClassifier(random_state=123), \n",
    "                   RandomForestClassifier(random_state=123)]\n",
    "results_downsampling = []\n",
    "\n",
    "for model in models_downsampled:\n",
    "    model.fit(features_downsampled, target_downsampled)\n",
    "    predictions_valid = model.predict(features_valid)\n",
    "    probabilities_valid = model.predict_proba(features_valid)\n",
    "    \n",
    "    accuracy = accuracy_score(target_valid, predictions_valid)\n",
    "    f1 = f1_score(target_valid, predictions_valid)\n",
    "    roc_auc = roc_auc_score(target_valid, probabilities_valid[:,1])\n",
    "    \n",
    "    results_downsampling.append({'Model': model.__class__.__name__, \n",
    "                                 'accuracy_down': accuracy, \n",
    "                                 'f1_down': f1, \n",
    "                                 'ROC AUC score_down': roc_auc})"
   ]
  },
  {
   "cell_type": "code",
   "execution_count": 120,
   "metadata": {},
   "outputs": [
    {
     "data": {
      "text/html": [
       "<style  type=\"text/css\" >\n",
       "#T_c9779_row2_col1,#T_c9779_row2_col2,#T_c9779_row2_col3,#T_c9779_row2_col4,#T_c9779_row2_col5,#T_c9779_row2_col6,#T_c9779_row2_col7,#T_c9779_row2_col8,#T_c9779_row2_col9{\n",
       "            background-color:  lightgreen;\n",
       "        }</style><table id=\"T_c9779_\" ><thead>    <tr>        <th class=\"blank level0\" ></th>        <th class=\"col_heading level0 col0\" >Model</th>        <th class=\"col_heading level0 col1\" >ROC AUC score_balanced</th>        <th class=\"col_heading level0 col2\" >ROC AUC score_down</th>        <th class=\"col_heading level0 col3\" >ROC AUC score_up</th>        <th class=\"col_heading level0 col4\" >accuracy_balanced</th>        <th class=\"col_heading level0 col5\" >accuracy_down</th>        <th class=\"col_heading level0 col6\" >accuracy_up</th>        <th class=\"col_heading level0 col7\" >f1_balanced</th>        <th class=\"col_heading level0 col8\" >f1_down</th>        <th class=\"col_heading level0 col9\" >f1_up</th>    </tr></thead><tbody>\n",
       "                <tr>\n",
       "                        <th id=\"T_c9779_level0_row0\" class=\"row_heading level0 row0\" >0</th>\n",
       "                        <td id=\"T_c9779_row0_col0\" class=\"data row0 col0\" >LogisticRegression</td>\n",
       "                        <td id=\"T_c9779_row0_col1\" class=\"data row0 col1\" >0.734507</td>\n",
       "                        <td id=\"T_c9779_row0_col2\" class=\"data row0 col2\" >0.733288</td>\n",
       "                        <td id=\"T_c9779_row0_col3\" class=\"data row0 col3\" >0.734518</td>\n",
       "                        <td id=\"T_c9779_row0_col4\" class=\"data row0 col4\" >0.691500</td>\n",
       "                        <td id=\"T_c9779_row0_col5\" class=\"data row0 col5\" >0.682000</td>\n",
       "                        <td id=\"T_c9779_row0_col6\" class=\"data row0 col6\" >0.686500</td>\n",
       "                        <td id=\"T_c9779_row0_col7\" class=\"data row0 col7\" >0.460192</td>\n",
       "                        <td id=\"T_c9779_row0_col8\" class=\"data row0 col8\" >0.456410</td>\n",
       "                        <td id=\"T_c9779_row0_col9\" class=\"data row0 col9\" >0.458081</td>\n",
       "            </tr>\n",
       "            <tr>\n",
       "                        <th id=\"T_c9779_level0_row1\" class=\"row_heading level0 row1\" >1</th>\n",
       "                        <td id=\"T_c9779_row1_col0\" class=\"data row1 col0\" >DecisionTreeClassifier</td>\n",
       "                        <td id=\"T_c9779_row1_col1\" class=\"data row1 col1\" >0.679581</td>\n",
       "                        <td id=\"T_c9779_row1_col2\" class=\"data row1 col2\" >0.692069</td>\n",
       "                        <td id=\"T_c9779_row1_col3\" class=\"data row1 col3\" >0.682001</td>\n",
       "                        <td id=\"T_c9779_row1_col4\" class=\"data row1 col4\" >0.797500</td>\n",
       "                        <td id=\"T_c9779_row1_col5\" class=\"data row1 col5\" >0.695500</td>\n",
       "                        <td id=\"T_c9779_row1_col6\" class=\"data row1 col6\" >0.797000</td>\n",
       "                        <td id=\"T_c9779_row1_col7\" class=\"data row1 col7\" >0.491844</td>\n",
       "                        <td id=\"T_c9779_row1_col8\" class=\"data row1 col8\" >0.479042</td>\n",
       "                        <td id=\"T_c9779_row1_col9\" class=\"data row1 col9\" >0.495025</td>\n",
       "            </tr>\n",
       "            <tr>\n",
       "                        <th id=\"T_c9779_level0_row2\" class=\"row_heading level0 row2\" >2</th>\n",
       "                        <td id=\"T_c9779_row2_col0\" class=\"data row2 col0\" >RandomForestClassifier</td>\n",
       "                        <td id=\"T_c9779_row2_col1\" class=\"data row2 col1\" >0.840879</td>\n",
       "                        <td id=\"T_c9779_row2_col2\" class=\"data row2 col2\" >0.840597</td>\n",
       "                        <td id=\"T_c9779_row2_col3\" class=\"data row2 col3\" >0.842090</td>\n",
       "                        <td id=\"T_c9779_row2_col4\" class=\"data row2 col4\" >0.855000</td>\n",
       "                        <td id=\"T_c9779_row2_col5\" class=\"data row2 col5\" >0.758000</td>\n",
       "                        <td id=\"T_c9779_row2_col6\" class=\"data row2 col6\" >0.851500</td>\n",
       "                        <td id=\"T_c9779_row2_col7\" class=\"data row2 col7\" >0.544025</td>\n",
       "                        <td id=\"T_c9779_row2_col8\" class=\"data row2 col8\" >0.555147</td>\n",
       "                        <td id=\"T_c9779_row2_col9\" class=\"data row2 col9\" >0.597015</td>\n",
       "            </tr>\n",
       "    </tbody></table>"
      ],
      "text/plain": [
       "<pandas.io.formats.style.Styler at 0x7f3a5c144e50>"
      ]
     },
     "execution_count": 120,
     "metadata": {},
     "output_type": "execute_result"
    }
   ],
   "source": [
    "final_results = final_results.merge(pd.DataFrame(results_downsampling), on='Model')\n",
    "final_results = final_results.reindex(sorted(final_results.columns), axis=1)\n",
    "final_results.style.highlight_max(color = 'lightgreen', axis = 0)"
   ]
  },
  {
   "cell_type": "markdown",
   "metadata": {},
   "source": [
    "**The Random Forest model gave us the best result but interesting on which sample each of the models showed the best result of the metric f1_score.**\n",
    "\n"
   ]
  },
  {
   "cell_type": "code",
   "execution_count": 121,
   "metadata": {},
   "outputs": [
    {
     "data": {
      "text/html": [
       "<style  type=\"text/css\" >\n",
       "#T_b820c_row0_col6,#T_b820c_row1_col6,#T_b820c_row2_col6{\n",
       "            background-color:  lightgreen;\n",
       "        }</style><table id=\"T_b820c_\" ><thead>    <tr>        <th class=\"blank level0\" ></th>        <th class=\"col_heading level0 col0\" >Model</th>        <th class=\"col_heading level0 col1\" >ROC AUC score_balanced</th>        <th class=\"col_heading level0 col2\" >ROC AUC score_down</th>        <th class=\"col_heading level0 col3\" >ROC AUC score_up</th>        <th class=\"col_heading level0 col4\" >accuracy_balanced</th>        <th class=\"col_heading level0 col5\" >accuracy_down</th>        <th class=\"col_heading level0 col6\" >accuracy_up</th>        <th class=\"col_heading level0 col7\" >f1_balanced</th>        <th class=\"col_heading level0 col8\" >f1_down</th>        <th class=\"col_heading level0 col9\" >f1_up</th>    </tr></thead><tbody>\n",
       "                <tr>\n",
       "                        <th id=\"T_b820c_level0_row0\" class=\"row_heading level0 row0\" >0</th>\n",
       "                        <td id=\"T_b820c_row0_col0\" class=\"data row0 col0\" >LogisticRegression</td>\n",
       "                        <td id=\"T_b820c_row0_col1\" class=\"data row0 col1\" >0.734507</td>\n",
       "                        <td id=\"T_b820c_row0_col2\" class=\"data row0 col2\" >0.733288</td>\n",
       "                        <td id=\"T_b820c_row0_col3\" class=\"data row0 col3\" >0.734518</td>\n",
       "                        <td id=\"T_b820c_row0_col4\" class=\"data row0 col4\" >0.691500</td>\n",
       "                        <td id=\"T_b820c_row0_col5\" class=\"data row0 col5\" >0.682000</td>\n",
       "                        <td id=\"T_b820c_row0_col6\" class=\"data row0 col6\" >0.686500</td>\n",
       "                        <td id=\"T_b820c_row0_col7\" class=\"data row0 col7\" >0.460192</td>\n",
       "                        <td id=\"T_b820c_row0_col8\" class=\"data row0 col8\" >0.456410</td>\n",
       "                        <td id=\"T_b820c_row0_col9\" class=\"data row0 col9\" >0.458081</td>\n",
       "            </tr>\n",
       "            <tr>\n",
       "                        <th id=\"T_b820c_level0_row1\" class=\"row_heading level0 row1\" >1</th>\n",
       "                        <td id=\"T_b820c_row1_col0\" class=\"data row1 col0\" >DecisionTreeClassifier</td>\n",
       "                        <td id=\"T_b820c_row1_col1\" class=\"data row1 col1\" >0.679581</td>\n",
       "                        <td id=\"T_b820c_row1_col2\" class=\"data row1 col2\" >0.692069</td>\n",
       "                        <td id=\"T_b820c_row1_col3\" class=\"data row1 col3\" >0.682001</td>\n",
       "                        <td id=\"T_b820c_row1_col4\" class=\"data row1 col4\" >0.797500</td>\n",
       "                        <td id=\"T_b820c_row1_col5\" class=\"data row1 col5\" >0.695500</td>\n",
       "                        <td id=\"T_b820c_row1_col6\" class=\"data row1 col6\" >0.797000</td>\n",
       "                        <td id=\"T_b820c_row1_col7\" class=\"data row1 col7\" >0.491844</td>\n",
       "                        <td id=\"T_b820c_row1_col8\" class=\"data row1 col8\" >0.479042</td>\n",
       "                        <td id=\"T_b820c_row1_col9\" class=\"data row1 col9\" >0.495025</td>\n",
       "            </tr>\n",
       "            <tr>\n",
       "                        <th id=\"T_b820c_level0_row2\" class=\"row_heading level0 row2\" >2</th>\n",
       "                        <td id=\"T_b820c_row2_col0\" class=\"data row2 col0\" >RandomForestClassifier</td>\n",
       "                        <td id=\"T_b820c_row2_col1\" class=\"data row2 col1\" >0.840879</td>\n",
       "                        <td id=\"T_b820c_row2_col2\" class=\"data row2 col2\" >0.840597</td>\n",
       "                        <td id=\"T_b820c_row2_col3\" class=\"data row2 col3\" >0.842090</td>\n",
       "                        <td id=\"T_b820c_row2_col4\" class=\"data row2 col4\" >0.855000</td>\n",
       "                        <td id=\"T_b820c_row2_col5\" class=\"data row2 col5\" >0.758000</td>\n",
       "                        <td id=\"T_b820c_row2_col6\" class=\"data row2 col6\" >0.851500</td>\n",
       "                        <td id=\"T_b820c_row2_col7\" class=\"data row2 col7\" >0.544025</td>\n",
       "                        <td id=\"T_b820c_row2_col8\" class=\"data row2 col8\" >0.555147</td>\n",
       "                        <td id=\"T_b820c_row2_col9\" class=\"data row2 col9\" >0.597015</td>\n",
       "            </tr>\n",
       "    </tbody></table>"
      ],
      "text/plain": [
       "<pandas.io.formats.style.Styler at 0x7f3a5c144f70>"
      ]
     },
     "execution_count": 121,
     "metadata": {},
     "output_type": "execute_result"
    }
   ],
   "source": [
    "final_results.style.highlight_max(subset = final_results.columns[-4:], color = 'lightgreen', axis = 1)\n"
   ]
  },
  {
   "cell_type": "markdown",
   "metadata": {},
   "source": [
    "**THe logisitc regression model works better with class weight method while desicion tree and random forest work better with upsampling method. So let's train each model with the method showed the best result for it**"
   ]
  },
  {
   "cell_type": "markdown",
   "metadata": {},
   "source": [
    "### Train different models on training and validation sets. Find the best one"
   ]
  },
  {
   "cell_type": "markdown",
   "metadata": {},
   "source": [
    "**Logistic Regression**"
   ]
  },
  {
   "cell_type": "code",
   "execution_count": 122,
   "metadata": {},
   "outputs": [
    {
     "data": {
      "text/html": [
       "<div>\n",
       "<style scoped>\n",
       "    .dataframe tbody tr th:only-of-type {\n",
       "        vertical-align: middle;\n",
       "    }\n",
       "\n",
       "    .dataframe tbody tr th {\n",
       "        vertical-align: top;\n",
       "    }\n",
       "\n",
       "    .dataframe thead th {\n",
       "        text-align: right;\n",
       "    }\n",
       "</style>\n",
       "<table border=\"1\" class=\"dataframe\">\n",
       "  <thead>\n",
       "    <tr style=\"text-align: right;\">\n",
       "      <th></th>\n",
       "      <th>Model</th>\n",
       "      <th>Hyperparameters</th>\n",
       "      <th>Accuracy</th>\n",
       "      <th>F1 score</th>\n",
       "      <th>ROC AUC score</th>\n",
       "    </tr>\n",
       "  </thead>\n",
       "  <tbody>\n",
       "    <tr>\n",
       "      <th>0</th>\n",
       "      <td>LogisticRegression_l1</td>\n",
       "      <td>{'random_state': 123, 'class_weight': 'balanced', 'solver': 'liblinear', 'penalty': 'l1'}</td>\n",
       "      <td>0.758</td>\n",
       "      <td>0.555147</td>\n",
       "      <td>0.734554</td>\n",
       "    </tr>\n",
       "    <tr>\n",
       "      <th>1</th>\n",
       "      <td>LogisticRegression_l2</td>\n",
       "      <td>{'random_state': 123, 'class_weight': 'balanced', 'solver': 'lbfgs', 'penalty': 'l2'}</td>\n",
       "      <td>0.758</td>\n",
       "      <td>0.555147</td>\n",
       "      <td>0.734507</td>\n",
       "    </tr>\n",
       "  </tbody>\n",
       "</table>\n",
       "</div>"
      ],
      "text/plain": [
       "                   Model  \\\n",
       "0  LogisticRegression_l1   \n",
       "1  LogisticRegression_l2   \n",
       "\n",
       "                                                                             Hyperparameters  \\\n",
       "0  {'random_state': 123, 'class_weight': 'balanced', 'solver': 'liblinear', 'penalty': 'l1'}   \n",
       "1  {'random_state': 123, 'class_weight': 'balanced', 'solver': 'lbfgs', 'penalty': 'l2'}       \n",
       "\n",
       "   Accuracy  F1 score  ROC AUC score  \n",
       "0  0.758     0.555147  0.734554       \n",
       "1  0.758     0.555147  0.734507       "
      ]
     },
     "execution_count": 122,
     "metadata": {},
     "output_type": "execute_result"
    }
   ],
   "source": [
    "results_lr = []\n",
    "\n",
    "penalty_l1 = LogisticRegression(random_state=123, class_weight='balanced', solver='liblinear', penalty='l1') \n",
    "penalty_l2 = LogisticRegression(random_state=123, class_weight='balanced', solver='lbfgs', penalty='l2') \n",
    "\n",
    "models_lr = [penalty_l1, penalty_l2]\n",
    "\n",
    "for model in models_lr:\n",
    "    model.fit(features_train, target_train)\n",
    "    predictions = model.predict(features_valid)\n",
    "    probabilities_valid = model.predict_proba(features_valid)\n",
    "\n",
    "    accuracy = accuracy_score(target_valid, predictions_valid)\n",
    "    f1 = f1_score(target_valid, predictions_valid)\n",
    "    roc_auc = roc_auc_score(target_valid, probabilities_valid[:,1])\n",
    "    \n",
    "    results_lr.append({'Model': model.__class__.__name__ + '_' + model.penalty , \n",
    "                       'Hyperparameters': {'random_state': 123, \n",
    "                                          'class_weight': model.class_weight, \n",
    "                                          'solver': model.solver, \n",
    "                                          'penalty': model.penalty},\n",
    "                       'Accuracy': accuracy, \n",
    "                       'F1 score': f1, \n",
    "                       'ROC AUC score': roc_auc})\n",
    "    \n",
    "pd.DataFrame(results_lr)"
   ]
  },
  {
   "cell_type": "markdown",
   "metadata": {},
   "source": [
    "The results almost the same, but for hyperparameter 'liblinear' ROC AUC score is little bit higher. So I will add it to the final table with the best results."
   ]
  },
  {
   "cell_type": "code",
   "execution_count": 123,
   "metadata": {},
   "outputs": [],
   "source": [
    "best_results = []\n",
    "best_results.append(pd.DataFrame(results_lr).loc[0])"
   ]
  },
  {
   "cell_type": "markdown",
   "metadata": {},
   "source": [
    "**Decision Tree model**"
   ]
  },
  {
   "cell_type": "code",
   "execution_count": 124,
   "metadata": {},
   "outputs": [
    {
     "data": {
      "text/html": [
       "<style  type=\"text/css\" >\n",
       "#T_3f23e_row4_col4,#T_3f23e_row5_col3,#T_3f23e_row6_col2{\n",
       "            background-color:  lightgreen;\n",
       "        }</style><table id=\"T_3f23e_\" ><thead>    <tr>        <th class=\"blank level0\" ></th>        <th class=\"col_heading level0 col0\" >Model</th>        <th class=\"col_heading level0 col1\" >Hyperparameters</th>        <th class=\"col_heading level0 col2\" >Accuracy</th>        <th class=\"col_heading level0 col3\" >F1 score</th>        <th class=\"col_heading level0 col4\" >ROC AUC score</th>    </tr></thead><tbody>\n",
       "                <tr>\n",
       "                        <th id=\"T_3f23e_level0_row0\" class=\"row_heading level0 row0\" >0</th>\n",
       "                        <td id=\"T_3f23e_row0_col0\" class=\"data row0 col0\" >DecisionTreeClassifier</td>\n",
       "                        <td id=\"T_3f23e_row0_col1\" class=\"data row0 col1\" >{'random_state': 123, 'max_depth': 1}</td>\n",
       "                        <td id=\"T_3f23e_row0_col2\" class=\"data row0 col2\" >0.710000</td>\n",
       "                        <td id=\"T_3f23e_row0_col3\" class=\"data row0 col3\" >0.462963</td>\n",
       "                        <td id=\"T_3f23e_row0_col4\" class=\"data row0 col4\" >0.673835</td>\n",
       "            </tr>\n",
       "            <tr>\n",
       "                        <th id=\"T_3f23e_level0_row1\" class=\"row_heading level0 row1\" >1</th>\n",
       "                        <td id=\"T_3f23e_row1_col0\" class=\"data row1 col0\" >DecisionTreeClassifier</td>\n",
       "                        <td id=\"T_3f23e_row1_col1\" class=\"data row1 col1\" >{'random_state': 123, 'max_depth': 2}</td>\n",
       "                        <td id=\"T_3f23e_row1_col2\" class=\"data row1 col2\" >0.720000</td>\n",
       "                        <td id=\"T_3f23e_row1_col3\" class=\"data row1 col3\" >0.496403</td>\n",
       "                        <td id=\"T_3f23e_row1_col4\" class=\"data row1 col4\" >0.735933</td>\n",
       "            </tr>\n",
       "            <tr>\n",
       "                        <th id=\"T_3f23e_level0_row2\" class=\"row_heading level0 row2\" >2</th>\n",
       "                        <td id=\"T_3f23e_row2_col0\" class=\"data row2 col0\" >DecisionTreeClassifier</td>\n",
       "                        <td id=\"T_3f23e_row2_col1\" class=\"data row2 col1\" >{'random_state': 123, 'max_depth': 3}</td>\n",
       "                        <td id=\"T_3f23e_row2_col2\" class=\"data row2 col2\" >0.720000</td>\n",
       "                        <td id=\"T_3f23e_row2_col3\" class=\"data row2 col3\" >0.496403</td>\n",
       "                        <td id=\"T_3f23e_row2_col4\" class=\"data row2 col4\" >0.785846</td>\n",
       "            </tr>\n",
       "            <tr>\n",
       "                        <th id=\"T_3f23e_level0_row3\" class=\"row_heading level0 row3\" >3</th>\n",
       "                        <td id=\"T_3f23e_row3_col0\" class=\"data row3 col0\" >DecisionTreeClassifier</td>\n",
       "                        <td id=\"T_3f23e_row3_col1\" class=\"data row3 col1\" >{'random_state': 123, 'max_depth': 4}</td>\n",
       "                        <td id=\"T_3f23e_row3_col2\" class=\"data row3 col2\" >0.748500</td>\n",
       "                        <td id=\"T_3f23e_row3_col3\" class=\"data row3 col3\" >0.544796</td>\n",
       "                        <td id=\"T_3f23e_row3_col4\" class=\"data row3 col4\" >0.811886</td>\n",
       "            </tr>\n",
       "            <tr>\n",
       "                        <th id=\"T_3f23e_level0_row4\" class=\"row_heading level0 row4\" >4</th>\n",
       "                        <td id=\"T_3f23e_row4_col0\" class=\"data row4 col0\" >DecisionTreeClassifier</td>\n",
       "                        <td id=\"T_3f23e_row4_col1\" class=\"data row4 col1\" >{'random_state': 123, 'max_depth': 5}</td>\n",
       "                        <td id=\"T_3f23e_row4_col2\" class=\"data row4 col2\" >0.736500</td>\n",
       "                        <td id=\"T_3f23e_row4_col3\" class=\"data row4 col3\" >0.550725</td>\n",
       "                        <td id=\"T_3f23e_row4_col4\" class=\"data row4 col4\" >0.833776</td>\n",
       "            </tr>\n",
       "            <tr>\n",
       "                        <th id=\"T_3f23e_level0_row5\" class=\"row_heading level0 row5\" >5</th>\n",
       "                        <td id=\"T_3f23e_row5_col0\" class=\"data row5 col0\" >DecisionTreeClassifier</td>\n",
       "                        <td id=\"T_3f23e_row5_col1\" class=\"data row5 col1\" >{'random_state': 123, 'max_depth': 6}</td>\n",
       "                        <td id=\"T_3f23e_row5_col2\" class=\"data row5 col2\" >0.760500</td>\n",
       "                        <td id=\"T_3f23e_row5_col3\" class=\"data row5 col3\" >0.559338</td>\n",
       "                        <td id=\"T_3f23e_row5_col4\" class=\"data row5 col4\" >0.826147</td>\n",
       "            </tr>\n",
       "            <tr>\n",
       "                        <th id=\"T_3f23e_level0_row6\" class=\"row_heading level0 row6\" >6</th>\n",
       "                        <td id=\"T_3f23e_row6_col0\" class=\"data row6 col0\" >DecisionTreeClassifier</td>\n",
       "                        <td id=\"T_3f23e_row6_col1\" class=\"data row6 col1\" >{'random_state': 123, 'max_depth': 7}</td>\n",
       "                        <td id=\"T_3f23e_row6_col2\" class=\"data row6 col2\" >0.762500</td>\n",
       "                        <td id=\"T_3f23e_row6_col3\" class=\"data row6 col3\" >0.548908</td>\n",
       "                        <td id=\"T_3f23e_row6_col4\" class=\"data row6 col4\" >0.813561</td>\n",
       "            </tr>\n",
       "            <tr>\n",
       "                        <th id=\"T_3f23e_level0_row7\" class=\"row_heading level0 row7\" >7</th>\n",
       "                        <td id=\"T_3f23e_row7_col0\" class=\"data row7 col0\" >DecisionTreeClassifier</td>\n",
       "                        <td id=\"T_3f23e_row7_col1\" class=\"data row7 col1\" >{'random_state': 123, 'max_depth': 8}</td>\n",
       "                        <td id=\"T_3f23e_row7_col2\" class=\"data row7 col2\" >0.761500</td>\n",
       "                        <td id=\"T_3f23e_row7_col3\" class=\"data row7 col3\" >0.540905</td>\n",
       "                        <td id=\"T_3f23e_row7_col4\" class=\"data row7 col4\" >0.780740</td>\n",
       "            </tr>\n",
       "            <tr>\n",
       "                        <th id=\"T_3f23e_level0_row8\" class=\"row_heading level0 row8\" >8</th>\n",
       "                        <td id=\"T_3f23e_row8_col0\" class=\"data row8 col0\" >DecisionTreeClassifier</td>\n",
       "                        <td id=\"T_3f23e_row8_col1\" class=\"data row8 col1\" >{'random_state': 123, 'max_depth': 9}</td>\n",
       "                        <td id=\"T_3f23e_row8_col2\" class=\"data row8 col2\" >0.758000</td>\n",
       "                        <td id=\"T_3f23e_row8_col3\" class=\"data row8 col3\" >0.528265</td>\n",
       "                        <td id=\"T_3f23e_row8_col4\" class=\"data row8 col4\" >0.762914</td>\n",
       "            </tr>\n",
       "            <tr>\n",
       "                        <th id=\"T_3f23e_level0_row9\" class=\"row_heading level0 row9\" >9</th>\n",
       "                        <td id=\"T_3f23e_row9_col0\" class=\"data row9 col0\" >DecisionTreeClassifier</td>\n",
       "                        <td id=\"T_3f23e_row9_col1\" class=\"data row9 col1\" >{'random_state': 123, 'max_depth': 10}</td>\n",
       "                        <td id=\"T_3f23e_row9_col2\" class=\"data row9 col2\" >0.752000</td>\n",
       "                        <td id=\"T_3f23e_row9_col3\" class=\"data row9 col3\" >0.510848</td>\n",
       "                        <td id=\"T_3f23e_row9_col4\" class=\"data row9 col4\" >0.735242</td>\n",
       "            </tr>\n",
       "    </tbody></table>"
      ],
      "text/plain": [
       "<pandas.io.formats.style.Styler at 0x7f3a5c194a30>"
      ]
     },
     "execution_count": 124,
     "metadata": {},
     "output_type": "execute_result"
    }
   ],
   "source": [
    "results_dtc = []\n",
    "\n",
    "for depth in range(1,11):\n",
    "    model = DecisionTreeClassifier(random_state=123, max_depth=depth)\n",
    "    \n",
    "    model.fit(features_upsampled, target_upsampled)\n",
    "    predictions_valid = model.predict(features_valid)\n",
    "    probabilities_valid = model.predict_proba(features_valid)\n",
    " \n",
    "    accuracy = accuracy_score(target_valid, predictions_valid)        \n",
    "    f1 = f1_score(target_valid, predictions_valid)\n",
    "    roc_auc = roc_auc_score(target_valid, probabilities_valid[:,1])        \n",
    "\n",
    "    results_dtc.append({'Model': 'DecisionTreeClassifier', \n",
    "                        'Hyperparameters': {'random_state': 123, 'max_depth':depth},\n",
    "                        'Accuracy': accuracy, \n",
    "                        'F1 score': f1, \n",
    "                        'ROC AUC score': roc_auc})\n",
    "\n",
    "pd.DataFrame(results_dtc).style.highlight_max(color = 'lightgreen', axis = 0)"
   ]
  },
  {
   "cell_type": "markdown",
   "metadata": {},
   "source": [
    "The best result for F1 score Decision Tree model shows with hypermarameter 'max_depth - 6'. I will add it to the best results table"
   ]
  },
  {
   "cell_type": "code",
   "execution_count": 125,
   "metadata": {},
   "outputs": [],
   "source": [
    "best_results.append(pd.DataFrame(results_dtc).loc[5])"
   ]
  },
  {
   "cell_type": "markdown",
   "metadata": {},
   "source": [
    "**Random Forest model**"
   ]
  },
  {
   "cell_type": "code",
   "execution_count": 126,
   "metadata": {},
   "outputs": [
    {
     "name": "stdout",
     "output_type": "stream",
     "text": [
      "CPU times: user 56.8 s, sys: 213 ms, total: 57 s\n",
      "Wall time: 57 s\n"
     ]
    }
   ],
   "source": [
    "%%time\n",
    "results_rfc_up = []\n",
    "\n",
    "for depth in range(1,15):\n",
    "    \n",
    "    for estimator in range(10, 101, 10):\n",
    "        \n",
    "        model = RandomForestClassifier(random_state=123, \n",
    "                                       n_estimators=estimator, \n",
    "                                       max_depth=depth) \n",
    "        \n",
    "        model.fit(features_upsampled, target_upsampled)\n",
    "        predictions_valid = model.predict(features_valid)\n",
    "        probabilities_valid = model.predict_proba(features_valid)\n",
    "        \n",
    "        accuracy = accuracy_score(target_valid, predictions_valid)        \n",
    "        f1 = f1_score(target_valid, predictions_valid)\n",
    "        roc_auc = roc_auc_score(target_valid, probabilities_valid[:,1])       \n",
    "    \n",
    "        results_rfc_up.append({'Model': 'RandomForestClassifier', \n",
    "                               'Hyperparameters': {'random_state': 123, \n",
    "                                                   'n_estimators': estimator, \n",
    "                                                   'max_depth':depth}, \n",
    "                               'Accuracy': accuracy,\n",
    "                               'F1 score': f1, \n",
    "                               'ROC AUC score': roc_auc})"
   ]
  },
  {
   "cell_type": "markdown",
   "metadata": {},
   "source": [
    "The best results gives us the next combination of hyperparameters:"
   ]
  },
  {
   "cell_type": "code",
   "execution_count": 127,
   "metadata": {},
   "outputs": [
    {
     "data": {
      "text/html": [
       "<div>\n",
       "<style scoped>\n",
       "    .dataframe tbody tr th:only-of-type {\n",
       "        vertical-align: middle;\n",
       "    }\n",
       "\n",
       "    .dataframe tbody tr th {\n",
       "        vertical-align: top;\n",
       "    }\n",
       "\n",
       "    .dataframe thead th {\n",
       "        text-align: right;\n",
       "    }\n",
       "</style>\n",
       "<table border=\"1\" class=\"dataframe\">\n",
       "  <thead>\n",
       "    <tr style=\"text-align: right;\">\n",
       "      <th></th>\n",
       "      <th>Model</th>\n",
       "      <th>Hyperparameters</th>\n",
       "      <th>Accuracy</th>\n",
       "      <th>F1 score</th>\n",
       "      <th>ROC AUC score</th>\n",
       "    </tr>\n",
       "  </thead>\n",
       "  <tbody>\n",
       "    <tr>\n",
       "      <th>91</th>\n",
       "      <td>RandomForestClassifier</td>\n",
       "      <td>{'random_state': 123, 'n_estimators': 20, 'max_depth': 10}</td>\n",
       "      <td>0.818</td>\n",
       "      <td>0.6</td>\n",
       "      <td>0.848249</td>\n",
       "    </tr>\n",
       "  </tbody>\n",
       "</table>\n",
       "</div>"
      ],
      "text/plain": [
       "                     Model  \\\n",
       "91  RandomForestClassifier   \n",
       "\n",
       "                                               Hyperparameters  Accuracy  \\\n",
       "91  {'random_state': 123, 'n_estimators': 20, 'max_depth': 10}  0.818      \n",
       "\n",
       "    F1 score  ROC AUC score  \n",
       "91  0.6       0.848249       "
      ]
     },
     "execution_count": 127,
     "metadata": {},
     "output_type": "execute_result"
    }
   ],
   "source": [
    "df_rfc_up = pd.DataFrame.from_dict(results_rfc_up)\n",
    "df_rfc_up[df_rfc_up['F1 score']==df_rfc_up['F1 score'].max()]"
   ]
  },
  {
   "cell_type": "markdown",
   "metadata": {},
   "source": [
    "The best results gives us the combimation of 'n_estimators: 20' and 'max_depth: 10'. Let's add it to the best results table."
   ]
  },
  {
   "cell_type": "code",
   "execution_count": 128,
   "metadata": {},
   "outputs": [],
   "source": [
    "best_results.append(pd.DataFrame(df_rfc_up).loc[91])"
   ]
  },
  {
   "cell_type": "code",
   "execution_count": 129,
   "metadata": {},
   "outputs": [
    {
     "data": {
      "text/html": [
       "<style  type=\"text/css\" >\n",
       "#T_e0fe6_row2_col0,#T_e0fe6_row2_col3,#T_e0fe6_row2_col4,#T_e0fe6_row2_col5{\n",
       "            background-color:  lightgreen;\n",
       "        }</style><table id=\"T_e0fe6_\" ><thead>    <tr>        <th class=\"blank level0\" ></th>        <th class=\"col_heading level0 col0\" >index</th>        <th class=\"col_heading level0 col1\" >Model</th>        <th class=\"col_heading level0 col2\" >Hyperparameters</th>        <th class=\"col_heading level0 col3\" >Accuracy</th>        <th class=\"col_heading level0 col4\" >F1 score</th>        <th class=\"col_heading level0 col5\" >ROC AUC score</th>    </tr></thead><tbody>\n",
       "                <tr>\n",
       "                        <th id=\"T_e0fe6_level0_row0\" class=\"row_heading level0 row0\" >0</th>\n",
       "                        <td id=\"T_e0fe6_row0_col0\" class=\"data row0 col0\" >0</td>\n",
       "                        <td id=\"T_e0fe6_row0_col1\" class=\"data row0 col1\" >LogisticRegression_l1</td>\n",
       "                        <td id=\"T_e0fe6_row0_col2\" class=\"data row0 col2\" >{'random_state': 123, 'class_weight': 'balanced', 'solver': 'liblinear', 'penalty': 'l1'}</td>\n",
       "                        <td id=\"T_e0fe6_row0_col3\" class=\"data row0 col3\" >0.758000</td>\n",
       "                        <td id=\"T_e0fe6_row0_col4\" class=\"data row0 col4\" >0.555147</td>\n",
       "                        <td id=\"T_e0fe6_row0_col5\" class=\"data row0 col5\" >0.734554</td>\n",
       "            </tr>\n",
       "            <tr>\n",
       "                        <th id=\"T_e0fe6_level0_row1\" class=\"row_heading level0 row1\" >1</th>\n",
       "                        <td id=\"T_e0fe6_row1_col0\" class=\"data row1 col0\" >5</td>\n",
       "                        <td id=\"T_e0fe6_row1_col1\" class=\"data row1 col1\" >DecisionTreeClassifier</td>\n",
       "                        <td id=\"T_e0fe6_row1_col2\" class=\"data row1 col2\" >{'random_state': 123, 'max_depth': 6}</td>\n",
       "                        <td id=\"T_e0fe6_row1_col3\" class=\"data row1 col3\" >0.760500</td>\n",
       "                        <td id=\"T_e0fe6_row1_col4\" class=\"data row1 col4\" >0.559338</td>\n",
       "                        <td id=\"T_e0fe6_row1_col5\" class=\"data row1 col5\" >0.826147</td>\n",
       "            </tr>\n",
       "            <tr>\n",
       "                        <th id=\"T_e0fe6_level0_row2\" class=\"row_heading level0 row2\" >2</th>\n",
       "                        <td id=\"T_e0fe6_row2_col0\" class=\"data row2 col0\" >91</td>\n",
       "                        <td id=\"T_e0fe6_row2_col1\" class=\"data row2 col1\" >RandomForestClassifier</td>\n",
       "                        <td id=\"T_e0fe6_row2_col2\" class=\"data row2 col2\" >{'random_state': 123, 'n_estimators': 20, 'max_depth': 10}</td>\n",
       "                        <td id=\"T_e0fe6_row2_col3\" class=\"data row2 col3\" >0.818000</td>\n",
       "                        <td id=\"T_e0fe6_row2_col4\" class=\"data row2 col4\" >0.600000</td>\n",
       "                        <td id=\"T_e0fe6_row2_col5\" class=\"data row2 col5\" >0.848249</td>\n",
       "            </tr>\n",
       "    </tbody></table>"
      ],
      "text/plain": [
       "<pandas.io.formats.style.Styler at 0x7f3a5c0fabe0>"
      ]
     },
     "execution_count": 129,
     "metadata": {},
     "output_type": "execute_result"
    }
   ],
   "source": [
    "pd.DataFrame(best_results).reset_index().style.highlight_max(color = 'lightgreen', axis = 0)"
   ]
  },
  {
   "cell_type": "markdown",
   "metadata": {},
   "source": [
    "### Conclusion"
   ]
  },
  {
   "cell_type": "markdown",
   "metadata": {},
   "source": [
    "After checking all methods to makes balance in classes after testing the best results showed Random Forest model with hypermarameters 'n_estimators: 20' and 'max_depth: 10'. "
   ]
  },
  {
   "cell_type": "markdown",
   "metadata": {},
   "source": [
    "## Perform the final testing"
   ]
  },
  {
   "cell_type": "code",
   "execution_count": 130,
   "metadata": {},
   "outputs": [
    {
     "name": "stdout",
     "output_type": "stream",
     "text": [
      "accuracy 0.8225\n",
      "f1 score 0.6203208556149733\n",
      "roc_auc 0.858824155434325\n"
     ]
    }
   ],
   "source": [
    "model_final = RandomForestClassifier(random_state=123, n_estimators=20, max_depth=10)\n",
    "\n",
    "model_final.fit(features_upsampled, target_upsampled)  \n",
    "predictions_final = model_final.predict(features_test)\n",
    "probabilities_final = model_final.predict_proba(features_test)\n",
    "\n",
    "accuracy_final = accuracy_score(target_test, predictions_final)\n",
    "f1_final = f1_score(target_test, predictions_final)\n",
    "roc_auc_final = roc_auc_score(target_test, probabilities_final[:,1])\n",
    "\n",
    "print('accuracy', accuracy_final)\n",
    "print('f1 score', f1_final)\n",
    "print('roc_auc', roc_auc_final)"
   ]
  },
  {
   "cell_type": "markdown",
   "metadata": {},
   "source": [
    "**Let's check the work of model on the extension sample**"
   ]
  },
  {
   "cell_type": "code",
   "execution_count": 131,
   "metadata": {},
   "outputs": [],
   "source": [
    "features_combined = pd.concat([features_train, features_valid])\n",
    "target_combined = pd.concat([target_train, target_valid])"
   ]
  },
  {
   "cell_type": "code",
   "execution_count": 132,
   "metadata": {},
   "outputs": [],
   "source": [
    "features_upsampled_combined, target_upsampled_combined = upsample(features_combined, target_combined, 4)"
   ]
  },
  {
   "cell_type": "code",
   "execution_count": 133,
   "metadata": {},
   "outputs": [
    {
     "name": "stdout",
     "output_type": "stream",
     "text": [
      "(12890, 11)\n",
      "(12890,)\n"
     ]
    }
   ],
   "source": [
    "print(features_upsampled_combined.shape)\n",
    "print(target_upsampled_combined.shape)"
   ]
  },
  {
   "cell_type": "code",
   "execution_count": 134,
   "metadata": {},
   "outputs": [
    {
     "name": "stdout",
     "output_type": "stream",
     "text": [
      "accuracy 0.8225\n",
      "f1 score 0.6153846153846154\n",
      "roc_auc 0.8630063036842699\n"
     ]
    }
   ],
   "source": [
    "model_combined = RandomForestClassifier(random_state=123, n_estimators=20, max_depth=10)\n",
    "\n",
    "model_combined.fit(features_upsampled_combined, target_upsampled_combined)  \n",
    "\n",
    "predictions_combined = model_combined.predict(features_test)\n",
    "probabilities_combined = model_combined.predict_proba(features_test)\n",
    "\n",
    "accuracy_combined = accuracy_score(target_test, predictions_final)\n",
    "f1_combined = f1_score(target_test, predictions_combined)\n",
    "roc_auc_combined = roc_auc_score(target_test, probabilities_combined[:,1])\n",
    "\n",
    "print('accuracy', accuracy_combined)\n",
    "print('f1 score', f1_combined)\n",
    "print('roc_auc', roc_auc_combined)"
   ]
  },
  {
   "cell_type": "code",
   "execution_count": null,
   "metadata": {},
   "outputs": [],
   "source": [
    "fpr, tpr, thresholds = roc_curve(target_test, probabilities_final[:,1])\n",
    "trace_rf = go.Scatter(x = fpr,y = tpr,\n",
    "                      name = \"Random Forest: \" + str(roc_auc_final), \n",
    "                      line = dict(width = 2))\n",
    "trace_random = go.Scatter(x = [0.0, 1.0], y = [0.0, 1.0], \n",
    "                          name = 'Random Model',\n",
    "                          line = dict(width = 2, dash = 'dot'))\n",
    "\n",
    "data = [trace_rf, trace_random]\n",
    "layout = go.Layout(dict(title = 'ROC-curve',\n",
    "                        height = 550, width = 900,\n",
    "                        xaxis = dict(title = \"False Positive Rate\"),\n",
    "                        yaxis = dict(title = \"True Positive Rate\")))\n",
    "\n",
    "fig = go.Figure(data, layout=layout)\n",
    "fig.show()"
   ]
  },
  {
   "cell_type": "code",
   "execution_count": 136,
   "metadata": {},
   "outputs": [
    {
     "data": {
      "text/html": [
       "<style  type=\"text/css\" >\n",
       "#T_2391e_row0_col0,#T_2391e_row1_col1,#T_2391e_row2_col2{\n",
       "            background-color:  lightgreen;\n",
       "        }</style><table id=\"T_2391e_\" ><thead>    <tr>        <th class=\"blank level0\" ></th>        <th class=\"col_heading level0 col0\" >stratified</th>        <th class=\"col_heading level0 col1\" >most_frequent</th>        <th class=\"col_heading level0 col2\" >uniform</th>    </tr></thead><tbody>\n",
       "                <tr>\n",
       "                        <th id=\"T_2391e_level0_row0\" class=\"row_heading level0 row0\" >0</th>\n",
       "                        <td id=\"T_2391e_row0_col0\" class=\"data row0 col0\" >0.664000</td>\n",
       "                        <td id=\"T_2391e_row0_col1\" class=\"data row0 col1\" >nan</td>\n",
       "                        <td id=\"T_2391e_row0_col2\" class=\"data row0 col2\" >nan</td>\n",
       "            </tr>\n",
       "            <tr>\n",
       "                        <th id=\"T_2391e_level0_row1\" class=\"row_heading level0 row1\" >1</th>\n",
       "                        <td id=\"T_2391e_row1_col0\" class=\"data row1 col0\" >nan</td>\n",
       "                        <td id=\"T_2391e_row1_col1\" class=\"data row1 col1\" >0.796500</td>\n",
       "                        <td id=\"T_2391e_row1_col2\" class=\"data row1 col2\" >nan</td>\n",
       "            </tr>\n",
       "            <tr>\n",
       "                        <th id=\"T_2391e_level0_row2\" class=\"row_heading level0 row2\" >2</th>\n",
       "                        <td id=\"T_2391e_row2_col0\" class=\"data row2 col0\" >nan</td>\n",
       "                        <td id=\"T_2391e_row2_col1\" class=\"data row2 col1\" >nan</td>\n",
       "                        <td id=\"T_2391e_row2_col2\" class=\"data row2 col2\" >0.492500</td>\n",
       "            </tr>\n",
       "    </tbody></table>"
      ],
      "text/plain": [
       "<pandas.io.formats.style.Styler at 0x7f3a5c161ee0>"
      ]
     },
     "execution_count": 136,
     "metadata": {},
     "output_type": "execute_result"
    }
   ],
   "source": [
    "strategies = ['stratified', 'most_frequent', 'uniform'] \n",
    "  \n",
    "dummy_results = [] \n",
    "for strategy in strategies: \n",
    "    dc = DummyClassifier(strategy = strategy, random_state = 42)\n",
    "    \n",
    "    dc.fit(features_train, target_train) \n",
    "    result = dc.score(features_test, target_test) \n",
    "    dummy_results.append({strategy: result}) \n",
    "\n",
    "pd.DataFrame(dummy_results).style.highlight_max(color = 'lightgreen', axis = 1)"
   ]
  },
  {
   "cell_type": "markdown",
   "metadata": {},
   "source": [
    "**We can see that the random forest model with hyperparameters n_estimators = 20 and max_depth = 10 works better than the random prediction strategies of the DummyClassifier() classifier.**"
   ]
  },
  {
   "cell_type": "markdown",
   "metadata": {},
   "source": [
    "# Conclusion"
   ]
  },
  {
   "cell_type": "markdown",
   "metadata": {},
   "source": [
    "Checking the model on the test sample and on the extended sample shows that the model works quite well - the metric indicator f1_score was achieved higher than was stated in the requirements (the minimum requirement for this metric was 0.59, our model gives a result of 0.62).\n",
    "\n",
    "The metric roc_auc_score = 0.858, which is a good result.\n",
    "\n",
    "The model works well, the goal of the project is achieved."
   ]
  },
  {
   "cell_type": "code",
   "execution_count": null,
   "metadata": {},
   "outputs": [],
   "source": []
  },
  {
   "cell_type": "code",
   "execution_count": null,
   "metadata": {},
   "outputs": [],
   "source": []
  },
  {
   "cell_type": "code",
   "execution_count": null,
   "metadata": {},
   "outputs": [],
   "source": []
  },
  {
   "cell_type": "code",
   "execution_count": null,
   "metadata": {},
   "outputs": [],
   "source": []
  }
 ],
 "metadata": {
  "ExecuteTimeLog": [
   {
    "duration": 1852,
    "start_time": "2022-04-04T10:25:02.569Z"
   },
   {
    "duration": 45,
    "start_time": "2022-04-04T10:27:22.613Z"
   },
   {
    "duration": 13,
    "start_time": "2022-04-04T10:34:36.024Z"
   },
   {
    "duration": 39,
    "start_time": "2022-04-04T10:41:28.190Z"
   },
   {
    "duration": 16,
    "start_time": "2022-04-04T10:47:50.644Z"
   },
   {
    "duration": 4,
    "start_time": "2022-04-04T10:50:50.317Z"
   },
   {
    "duration": 11,
    "start_time": "2022-04-04T10:53:09.997Z"
   },
   {
    "duration": 247,
    "start_time": "2022-04-04T10:53:51.631Z"
   },
   {
    "duration": 5,
    "start_time": "2022-04-04T10:59:39.999Z"
   },
   {
    "duration": 8,
    "start_time": "2022-04-04T11:01:44.616Z"
   },
   {
    "duration": 12,
    "start_time": "2022-04-04T11:02:28.995Z"
   },
   {
    "duration": 8,
    "start_time": "2022-04-04T11:03:22.822Z"
   },
   {
    "duration": 5,
    "start_time": "2022-04-04T11:03:29.009Z"
   },
   {
    "duration": 12,
    "start_time": "2022-04-04T11:03:35.788Z"
   },
   {
    "duration": 3,
    "start_time": "2022-04-04T11:03:49.107Z"
   },
   {
    "duration": 13,
    "start_time": "2022-04-04T11:03:49.705Z"
   },
   {
    "duration": 13,
    "start_time": "2022-04-04T11:05:13.401Z"
   },
   {
    "duration": 10,
    "start_time": "2022-04-04T11:05:43.131Z"
   },
   {
    "duration": 7,
    "start_time": "2022-04-04T11:07:19.935Z"
   },
   {
    "duration": 24,
    "start_time": "2022-04-04T11:11:04.038Z"
   },
   {
    "duration": 19,
    "start_time": "2022-04-04T11:11:14.487Z"
   },
   {
    "duration": 22,
    "start_time": "2022-04-04T11:12:16.033Z"
   },
   {
    "duration": 13,
    "start_time": "2022-04-04T11:15:46.846Z"
   },
   {
    "duration": 20,
    "start_time": "2022-04-04T11:15:55.817Z"
   },
   {
    "duration": 5,
    "start_time": "2022-04-04T11:21:29.699Z"
   },
   {
    "duration": 8,
    "start_time": "2022-04-04T11:21:58.918Z"
   },
   {
    "duration": 6,
    "start_time": "2022-04-04T11:22:11.966Z"
   },
   {
    "duration": 4,
    "start_time": "2022-04-04T11:22:57.022Z"
   },
   {
    "duration": 9,
    "start_time": "2022-04-04T11:24:55.412Z"
   },
   {
    "duration": 24,
    "start_time": "2022-04-04T11:25:08.320Z"
   },
   {
    "duration": 12,
    "start_time": "2022-04-04T11:25:23.242Z"
   },
   {
    "duration": 164,
    "start_time": "2022-04-04T11:58:31.923Z"
   },
   {
    "duration": 13,
    "start_time": "2022-04-04T11:58:38.375Z"
   },
   {
    "duration": 321,
    "start_time": "2022-04-04T12:00:53.166Z"
   },
   {
    "duration": 207,
    "start_time": "2022-04-04T12:01:33.752Z"
   },
   {
    "duration": 177,
    "start_time": "2022-04-04T12:01:42.254Z"
   },
   {
    "duration": 119,
    "start_time": "2022-04-04T12:02:31.667Z"
   },
   {
    "duration": 112,
    "start_time": "2022-04-04T12:02:39.724Z"
   },
   {
    "duration": 7,
    "start_time": "2022-04-04T12:02:54.602Z"
   },
   {
    "duration": 1125,
    "start_time": "2022-04-04T12:05:03.178Z"
   },
   {
    "duration": 49,
    "start_time": "2022-04-04T12:05:21.482Z"
   },
   {
    "duration": 1349,
    "start_time": "2022-04-04T12:10:59.298Z"
   },
   {
    "duration": 23,
    "start_time": "2022-04-04T12:11:32.991Z"
   },
   {
    "duration": 5,
    "start_time": "2022-04-04T12:14:04.415Z"
   },
   {
    "duration": 16,
    "start_time": "2022-04-04T12:14:40.846Z"
   },
   {
    "duration": 14,
    "start_time": "2022-04-04T12:15:31.829Z"
   },
   {
    "duration": 3,
    "start_time": "2022-04-04T12:15:33.198Z"
   },
   {
    "duration": 16,
    "start_time": "2022-04-04T12:16:00.384Z"
   },
   {
    "duration": 17,
    "start_time": "2022-04-04T12:16:46.892Z"
   },
   {
    "duration": 12,
    "start_time": "2022-04-04T12:17:00.542Z"
   },
   {
    "duration": 9,
    "start_time": "2022-04-04T12:18:14.150Z"
   },
   {
    "duration": 151,
    "start_time": "2022-04-04T12:18:51.451Z"
   },
   {
    "duration": 157,
    "start_time": "2022-04-04T12:19:00.542Z"
   },
   {
    "duration": 1395,
    "start_time": "2022-04-04T12:19:58.876Z"
   },
   {
    "duration": 25,
    "start_time": "2022-04-04T12:20:16.672Z"
   },
   {
    "duration": 12,
    "start_time": "2022-04-04T12:24:21.371Z"
   },
   {
    "duration": 4,
    "start_time": "2022-04-04T12:24:36.648Z"
   },
   {
    "duration": 9,
    "start_time": "2022-04-04T12:25:01.535Z"
   },
   {
    "duration": 160,
    "start_time": "2022-04-04T12:25:17.003Z"
   },
   {
    "duration": 628,
    "start_time": "2022-04-04T12:26:10.921Z"
   },
   {
    "duration": 28,
    "start_time": "2022-04-04T12:26:26.562Z"
   },
   {
    "duration": 15,
    "start_time": "2022-04-04T12:29:27.169Z"
   },
   {
    "duration": 437,
    "start_time": "2022-04-04T12:35:32.202Z"
   },
   {
    "duration": 7,
    "start_time": "2022-04-04T12:38:15.915Z"
   },
   {
    "duration": 248,
    "start_time": "2022-04-04T12:39:14.389Z"
   },
   {
    "duration": 5,
    "start_time": "2022-04-04T12:41:10.588Z"
   },
   {
    "duration": 5,
    "start_time": "2022-04-04T12:41:28.368Z"
   },
   {
    "duration": 51388,
    "start_time": "2022-04-04T12:41:54.634Z"
   },
   {
    "duration": 12,
    "start_time": "2022-04-04T12:44:53.675Z"
   },
   {
    "duration": 18,
    "start_time": "2022-04-04T12:46:17.575Z"
   },
   {
    "duration": 17,
    "start_time": "2022-04-04T12:46:24.403Z"
   },
   {
    "duration": 4,
    "start_time": "2022-04-04T12:46:57.397Z"
   },
   {
    "duration": 4,
    "start_time": "2022-04-04T12:47:13.252Z"
   },
   {
    "duration": 4,
    "start_time": "2022-04-04T12:47:16.784Z"
   },
   {
    "duration": 21,
    "start_time": "2022-04-04T12:47:20.624Z"
   },
   {
    "duration": 16,
    "start_time": "2022-04-04T12:49:05.950Z"
   },
   {
    "duration": 17,
    "start_time": "2022-04-04T12:49:35.663Z"
   },
   {
    "duration": 29,
    "start_time": "2022-04-04T12:49:52.595Z"
   },
   {
    "duration": 52,
    "start_time": "2022-04-04T12:49:52.627Z"
   },
   {
    "duration": 16,
    "start_time": "2022-04-04T12:49:52.681Z"
   },
   {
    "duration": 59,
    "start_time": "2022-04-04T12:49:52.699Z"
   },
   {
    "duration": 15,
    "start_time": "2022-04-04T12:49:52.761Z"
   },
   {
    "duration": 7,
    "start_time": "2022-04-04T12:49:52.777Z"
   },
   {
    "duration": 55,
    "start_time": "2022-04-04T12:49:52.785Z"
   },
   {
    "duration": 20,
    "start_time": "2022-04-04T12:49:52.842Z"
   },
   {
    "duration": 6,
    "start_time": "2022-04-04T12:49:52.863Z"
   },
   {
    "duration": 8,
    "start_time": "2022-04-04T12:49:52.871Z"
   },
   {
    "duration": 12,
    "start_time": "2022-04-04T12:49:52.881Z"
   },
   {
    "duration": 4,
    "start_time": "2022-04-04T12:49:52.895Z"
   },
   {
    "duration": 48,
    "start_time": "2022-04-04T12:49:52.901Z"
   },
   {
    "duration": 14,
    "start_time": "2022-04-04T12:49:52.953Z"
   },
   {
    "duration": 9,
    "start_time": "2022-04-04T12:49:52.969Z"
   },
   {
    "duration": 27,
    "start_time": "2022-04-04T12:49:52.980Z"
   },
   {
    "duration": 44,
    "start_time": "2022-04-04T12:49:53.010Z"
   },
   {
    "duration": 42,
    "start_time": "2022-04-04T12:49:53.056Z"
   },
   {
    "duration": 5,
    "start_time": "2022-04-04T12:49:53.099Z"
   },
   {
    "duration": 16,
    "start_time": "2022-04-04T12:49:53.106Z"
   },
   {
    "duration": 10,
    "start_time": "2022-04-04T12:49:53.138Z"
   },
   {
    "duration": 14,
    "start_time": "2022-04-04T12:49:53.150Z"
   },
   {
    "duration": 16,
    "start_time": "2022-04-04T12:49:53.166Z"
   },
   {
    "duration": 26,
    "start_time": "2022-04-04T12:49:53.184Z"
   },
   {
    "duration": 30,
    "start_time": "2022-04-04T12:49:53.212Z"
   },
   {
    "duration": 141,
    "start_time": "2022-04-04T12:49:53.244Z"
   },
   {
    "duration": 6,
    "start_time": "2022-04-04T12:49:53.387Z"
   },
   {
    "duration": 1260,
    "start_time": "2022-04-04T12:49:53.395Z"
   },
   {
    "duration": 14,
    "start_time": "2022-04-04T12:49:54.656Z"
   },
   {
    "duration": 1279,
    "start_time": "2022-04-04T12:49:54.672Z"
   },
   {
    "duration": 33,
    "start_time": "2022-04-04T12:49:55.954Z"
   },
   {
    "duration": 13,
    "start_time": "2022-04-04T12:49:55.989Z"
   },
   {
    "duration": 8,
    "start_time": "2022-04-04T12:49:56.004Z"
   },
   {
    "duration": 35,
    "start_time": "2022-04-04T12:49:56.014Z"
   },
   {
    "duration": 194,
    "start_time": "2022-04-04T12:49:56.051Z"
   },
   {
    "duration": 1939,
    "start_time": "2022-04-04T12:49:56.247Z"
   },
   {
    "duration": 25,
    "start_time": "2022-04-04T12:49:58.188Z"
   },
   {
    "duration": 32,
    "start_time": "2022-04-04T12:49:58.215Z"
   },
   {
    "duration": 4,
    "start_time": "2022-04-04T12:49:58.249Z"
   },
   {
    "duration": 15,
    "start_time": "2022-04-04T12:49:58.255Z"
   },
   {
    "duration": 191,
    "start_time": "2022-04-04T12:49:58.275Z"
   },
   {
    "duration": 801,
    "start_time": "2022-04-04T12:49:58.468Z"
   },
   {
    "duration": 27,
    "start_time": "2022-04-04T12:49:59.270Z"
   },
   {
    "duration": 16,
    "start_time": "2022-04-04T12:49:59.299Z"
   },
   {
    "duration": 524,
    "start_time": "2022-04-04T12:49:59.317Z"
   },
   {
    "duration": 4,
    "start_time": "2022-04-04T12:49:59.842Z"
   },
   {
    "duration": 289,
    "start_time": "2022-04-04T12:49:59.848Z"
   },
   {
    "duration": 4,
    "start_time": "2022-04-04T12:50:00.139Z"
   },
   {
    "duration": 54329,
    "start_time": "2022-04-04T12:50:00.145Z"
   },
   {
    "duration": 13,
    "start_time": "2022-04-04T12:50:54.476Z"
   },
   {
    "duration": 6,
    "start_time": "2022-04-04T12:50:54.492Z"
   },
   {
    "duration": 26,
    "start_time": "2022-04-04T12:50:54.499Z"
   },
   {
    "duration": 186,
    "start_time": "2022-04-04T12:54:38.041Z"
   },
   {
    "duration": 7,
    "start_time": "2022-04-04T12:56:41.753Z"
   },
   {
    "duration": 15,
    "start_time": "2022-04-04T12:56:54.624Z"
   },
   {
    "duration": 60,
    "start_time": "2022-04-06T07:27:21.617Z"
   },
   {
    "duration": 2042,
    "start_time": "2022-04-06T07:27:31.275Z"
   },
   {
    "duration": 64,
    "start_time": "2022-04-06T07:27:33.320Z"
   },
   {
    "duration": 19,
    "start_time": "2022-04-06T07:27:33.387Z"
   },
   {
    "duration": 62,
    "start_time": "2022-04-06T07:27:33.409Z"
   },
   {
    "duration": 15,
    "start_time": "2022-04-06T07:27:33.473Z"
   },
   {
    "duration": 7,
    "start_time": "2022-04-06T07:27:33.491Z"
   },
   {
    "duration": 16,
    "start_time": "2022-04-06T07:27:33.500Z"
   },
   {
    "duration": 294,
    "start_time": "2022-04-06T07:27:33.531Z"
   },
   {
    "duration": 6,
    "start_time": "2022-04-06T07:27:33.827Z"
   },
   {
    "duration": 31,
    "start_time": "2022-04-06T07:27:33.836Z"
   },
   {
    "duration": 63,
    "start_time": "2022-04-06T07:27:33.869Z"
   },
   {
    "duration": 18,
    "start_time": "2022-04-06T07:27:33.934Z"
   },
   {
    "duration": 32,
    "start_time": "2022-04-06T07:27:33.953Z"
   },
   {
    "duration": 45,
    "start_time": "2022-04-06T07:27:33.988Z"
   },
   {
    "duration": 14,
    "start_time": "2022-04-06T07:27:34.035Z"
   },
   {
    "duration": 37,
    "start_time": "2022-04-06T07:27:34.051Z"
   },
   {
    "duration": 15,
    "start_time": "2022-04-06T07:27:34.089Z"
   },
   {
    "duration": 48,
    "start_time": "2022-04-06T07:27:34.105Z"
   },
   {
    "duration": 6,
    "start_time": "2022-04-06T07:27:34.155Z"
   },
   {
    "duration": 14,
    "start_time": "2022-04-06T07:27:34.163Z"
   },
   {
    "duration": 13,
    "start_time": "2022-04-06T07:27:34.179Z"
   },
   {
    "duration": 6,
    "start_time": "2022-04-06T07:27:34.194Z"
   },
   {
    "duration": 16,
    "start_time": "2022-04-06T07:27:34.201Z"
   },
   {
    "duration": 34,
    "start_time": "2022-04-06T07:27:34.232Z"
   },
   {
    "duration": 16,
    "start_time": "2022-04-06T07:27:34.267Z"
   },
   {
    "duration": 177,
    "start_time": "2022-04-06T07:27:34.284Z"
   },
   {
    "duration": 5,
    "start_time": "2022-04-06T07:27:34.463Z"
   },
   {
    "duration": 419,
    "start_time": "2022-04-06T07:27:34.472Z"
   },
   {
    "duration": 0,
    "start_time": "2022-04-06T07:27:34.892Z"
   },
   {
    "duration": 0,
    "start_time": "2022-04-06T07:27:34.893Z"
   },
   {
    "duration": 0,
    "start_time": "2022-04-06T07:27:34.895Z"
   },
   {
    "duration": 0,
    "start_time": "2022-04-06T07:27:34.896Z"
   },
   {
    "duration": 0,
    "start_time": "2022-04-06T07:27:34.897Z"
   },
   {
    "duration": 0,
    "start_time": "2022-04-06T07:27:34.898Z"
   },
   {
    "duration": 0,
    "start_time": "2022-04-06T07:27:34.899Z"
   },
   {
    "duration": 0,
    "start_time": "2022-04-06T07:27:34.900Z"
   },
   {
    "duration": 0,
    "start_time": "2022-04-06T07:27:34.901Z"
   },
   {
    "duration": 0,
    "start_time": "2022-04-06T07:27:34.903Z"
   },
   {
    "duration": 0,
    "start_time": "2022-04-06T07:27:34.904Z"
   },
   {
    "duration": 0,
    "start_time": "2022-04-06T07:27:34.905Z"
   },
   {
    "duration": 0,
    "start_time": "2022-04-06T07:27:34.932Z"
   },
   {
    "duration": 0,
    "start_time": "2022-04-06T07:27:34.933Z"
   },
   {
    "duration": 0,
    "start_time": "2022-04-06T07:27:34.934Z"
   },
   {
    "duration": 0,
    "start_time": "2022-04-06T07:27:34.935Z"
   },
   {
    "duration": 0,
    "start_time": "2022-04-06T07:27:34.936Z"
   },
   {
    "duration": 0,
    "start_time": "2022-04-06T07:27:34.937Z"
   },
   {
    "duration": 0,
    "start_time": "2022-04-06T07:27:34.938Z"
   },
   {
    "duration": 0,
    "start_time": "2022-04-06T07:27:34.939Z"
   },
   {
    "duration": 0,
    "start_time": "2022-04-06T07:27:34.940Z"
   },
   {
    "duration": 0,
    "start_time": "2022-04-06T07:27:34.942Z"
   },
   {
    "duration": 0,
    "start_time": "2022-04-06T07:27:34.943Z"
   },
   {
    "duration": 0,
    "start_time": "2022-04-06T07:27:34.944Z"
   },
   {
    "duration": 0,
    "start_time": "2022-04-06T07:27:34.945Z"
   },
   {
    "duration": 0,
    "start_time": "2022-04-06T07:27:34.946Z"
   },
   {
    "duration": 0,
    "start_time": "2022-04-06T07:27:34.947Z"
   },
   {
    "duration": 0,
    "start_time": "2022-04-06T07:27:34.948Z"
   },
   {
    "duration": 126,
    "start_time": "2022-04-06T07:29:53.015Z"
   },
   {
    "duration": 344,
    "start_time": "2022-04-06T07:30:20.992Z"
   },
   {
    "duration": 1243,
    "start_time": "2022-04-06T07:30:34.363Z"
   },
   {
    "duration": 63,
    "start_time": "2022-04-06T07:30:35.608Z"
   },
   {
    "duration": 1380,
    "start_time": "2022-04-06T07:31:06.702Z"
   },
   {
    "duration": 23,
    "start_time": "2022-04-06T07:31:15.047Z"
   },
   {
    "duration": 14,
    "start_time": "2022-04-06T07:31:17.824Z"
   },
   {
    "duration": 3,
    "start_time": "2022-04-06T07:31:19.025Z"
   },
   {
    "duration": 9,
    "start_time": "2022-04-06T07:31:19.555Z"
   },
   {
    "duration": 172,
    "start_time": "2022-04-06T07:31:20.188Z"
   },
   {
    "duration": 1582,
    "start_time": "2022-04-06T07:31:21.630Z"
   },
   {
    "duration": 31,
    "start_time": "2022-04-06T07:31:23.214Z"
   },
   {
    "duration": 13,
    "start_time": "2022-04-06T07:31:26.298Z"
   },
   {
    "duration": 4,
    "start_time": "2022-04-06T07:31:27.254Z"
   },
   {
    "duration": 9,
    "start_time": "2022-04-06T07:31:28.090Z"
   },
   {
    "duration": 162,
    "start_time": "2022-04-06T07:31:28.843Z"
   },
   {
    "duration": 766,
    "start_time": "2022-04-06T07:31:30.820Z"
   },
   {
    "duration": 28,
    "start_time": "2022-04-06T07:31:32.383Z"
   },
   {
    "duration": 15,
    "start_time": "2022-04-06T07:31:34.667Z"
   },
   {
    "duration": 504,
    "start_time": "2022-04-06T07:31:38.229Z"
   },
   {
    "duration": 5,
    "start_time": "2022-04-06T07:31:51.976Z"
   },
   {
    "duration": 289,
    "start_time": "2022-04-06T07:32:01.600Z"
   },
   {
    "duration": 4,
    "start_time": "2022-04-06T07:32:03.943Z"
   },
   {
    "duration": 55725,
    "start_time": "2022-04-06T07:32:05.568Z"
   },
   {
    "duration": 11,
    "start_time": "2022-04-06T07:33:11.655Z"
   },
   {
    "duration": 3,
    "start_time": "2022-04-06T07:33:14.807Z"
   },
   {
    "duration": 16,
    "start_time": "2022-04-06T07:33:18.392Z"
   },
   {
    "duration": 196,
    "start_time": "2022-04-06T07:33:28.028Z"
   },
   {
    "duration": 5,
    "start_time": "2022-04-06T07:33:32.379Z"
   },
   {
    "duration": 12,
    "start_time": "2022-04-06T07:33:33.471Z"
   },
   {
    "duration": 270,
    "start_time": "2022-04-06T07:36:21.070Z"
   },
   {
    "duration": 440,
    "start_time": "2022-04-06T07:36:59.598Z"
   },
   {
    "duration": 221,
    "start_time": "2022-04-06T07:38:10.752Z"
   },
   {
    "duration": 42899,
    "start_time": "2022-04-06T07:39:38.400Z"
   },
   {
    "duration": 42456,
    "start_time": "2022-04-06T07:41:51.584Z"
   },
   {
    "duration": 4,
    "start_time": "2022-04-06T07:42:37.522Z"
   },
   {
    "duration": 46,
    "start_time": "2022-04-06T07:43:17.989Z"
   },
   {
    "duration": 3,
    "start_time": "2022-04-06T07:45:29.156Z"
   },
   {
    "duration": 237,
    "start_time": "2022-04-06T07:45:51.132Z"
   },
   {
    "duration": 39,
    "start_time": "2022-04-06T07:47:04.058Z"
   },
   {
    "duration": 32,
    "start_time": "2022-04-06T07:47:28.140Z"
   },
   {
    "duration": 1800,
    "start_time": "2022-04-06T07:50:33.694Z"
   },
   {
    "duration": 50,
    "start_time": "2022-04-06T07:50:35.496Z"
   },
   {
    "duration": 14,
    "start_time": "2022-04-06T07:50:35.548Z"
   },
   {
    "duration": 42,
    "start_time": "2022-04-06T07:50:35.565Z"
   },
   {
    "duration": 28,
    "start_time": "2022-04-06T07:50:35.609Z"
   },
   {
    "duration": 7,
    "start_time": "2022-04-06T07:50:35.639Z"
   },
   {
    "duration": 11,
    "start_time": "2022-04-06T07:50:35.648Z"
   },
   {
    "duration": 271,
    "start_time": "2022-04-06T07:50:35.661Z"
   },
   {
    "duration": 6,
    "start_time": "2022-04-06T07:50:35.934Z"
   },
   {
    "duration": 13,
    "start_time": "2022-04-06T07:50:35.944Z"
   },
   {
    "duration": 14,
    "start_time": "2022-04-06T07:50:35.959Z"
   },
   {
    "duration": 4,
    "start_time": "2022-04-06T07:50:35.975Z"
   },
   {
    "duration": 61,
    "start_time": "2022-04-06T07:50:35.981Z"
   },
   {
    "duration": 14,
    "start_time": "2022-04-06T07:50:36.043Z"
   },
   {
    "duration": 10,
    "start_time": "2022-04-06T07:50:36.059Z"
   },
   {
    "duration": 78,
    "start_time": "2022-04-06T07:50:36.071Z"
   },
   {
    "duration": 12,
    "start_time": "2022-04-06T07:50:36.150Z"
   },
   {
    "duration": 78,
    "start_time": "2022-04-06T07:50:36.164Z"
   },
   {
    "duration": 5,
    "start_time": "2022-04-06T07:50:36.244Z"
   },
   {
    "duration": 14,
    "start_time": "2022-04-06T07:50:36.251Z"
   },
   {
    "duration": 7,
    "start_time": "2022-04-06T07:50:36.267Z"
   },
   {
    "duration": 7,
    "start_time": "2022-04-06T07:50:36.276Z"
   },
   {
    "duration": 16,
    "start_time": "2022-04-06T07:50:36.284Z"
   },
   {
    "duration": 35,
    "start_time": "2022-04-06T07:50:36.331Z"
   },
   {
    "duration": 15,
    "start_time": "2022-04-06T07:50:36.367Z"
   },
   {
    "duration": 163,
    "start_time": "2022-04-06T07:50:36.384Z"
   },
   {
    "duration": 5,
    "start_time": "2022-04-06T07:50:36.549Z"
   },
   {
    "duration": 525,
    "start_time": "2022-04-06T07:50:36.558Z"
   },
   {
    "duration": 239,
    "start_time": "2022-04-06T07:50:37.086Z"
   },
   {
    "duration": 41515,
    "start_time": "2022-04-06T07:50:37.327Z"
   },
   {
    "duration": 45,
    "start_time": "2022-04-06T07:51:18.844Z"
   },
   {
    "duration": 1272,
    "start_time": "2022-04-06T07:51:18.891Z"
   },
   {
    "duration": 171,
    "start_time": "2022-04-06T07:51:20.165Z"
   },
   {
    "duration": 0,
    "start_time": "2022-04-06T07:51:20.338Z"
   },
   {
    "duration": 0,
    "start_time": "2022-04-06T07:51:20.339Z"
   },
   {
    "duration": 0,
    "start_time": "2022-04-06T07:51:20.341Z"
   },
   {
    "duration": 0,
    "start_time": "2022-04-06T07:51:20.342Z"
   },
   {
    "duration": 0,
    "start_time": "2022-04-06T07:51:20.343Z"
   },
   {
    "duration": 0,
    "start_time": "2022-04-06T07:51:20.344Z"
   },
   {
    "duration": 0,
    "start_time": "2022-04-06T07:51:20.345Z"
   },
   {
    "duration": 0,
    "start_time": "2022-04-06T07:51:20.346Z"
   },
   {
    "duration": 0,
    "start_time": "2022-04-06T07:51:20.347Z"
   },
   {
    "duration": 0,
    "start_time": "2022-04-06T07:51:20.349Z"
   },
   {
    "duration": 0,
    "start_time": "2022-04-06T07:51:20.349Z"
   },
   {
    "duration": 0,
    "start_time": "2022-04-06T07:51:20.351Z"
   },
   {
    "duration": 0,
    "start_time": "2022-04-06T07:51:20.352Z"
   },
   {
    "duration": 0,
    "start_time": "2022-04-06T07:51:20.352Z"
   },
   {
    "duration": 0,
    "start_time": "2022-04-06T07:51:20.353Z"
   },
   {
    "duration": 0,
    "start_time": "2022-04-06T07:51:20.354Z"
   },
   {
    "duration": 0,
    "start_time": "2022-04-06T07:51:20.356Z"
   },
   {
    "duration": 0,
    "start_time": "2022-04-06T07:51:20.357Z"
   },
   {
    "duration": 0,
    "start_time": "2022-04-06T07:51:20.358Z"
   },
   {
    "duration": 0,
    "start_time": "2022-04-06T07:51:20.359Z"
   },
   {
    "duration": 0,
    "start_time": "2022-04-06T07:51:20.360Z"
   },
   {
    "duration": 0,
    "start_time": "2022-04-06T07:51:20.361Z"
   },
   {
    "duration": 0,
    "start_time": "2022-04-06T07:51:20.362Z"
   },
   {
    "duration": 0,
    "start_time": "2022-04-06T07:51:20.364Z"
   },
   {
    "duration": 0,
    "start_time": "2022-04-06T07:51:20.365Z"
   },
   {
    "duration": 0,
    "start_time": "2022-04-06T07:51:20.366Z"
   },
   {
    "duration": 0,
    "start_time": "2022-04-06T07:51:20.367Z"
   },
   {
    "duration": 0,
    "start_time": "2022-04-06T07:51:20.368Z"
   },
   {
    "duration": 14,
    "start_time": "2022-04-06T07:53:15.350Z"
   },
   {
    "duration": 13,
    "start_time": "2022-04-06T07:53:26.094Z"
   },
   {
    "duration": 4,
    "start_time": "2022-04-06T07:53:28.201Z"
   },
   {
    "duration": 10,
    "start_time": "2022-04-06T07:53:29.128Z"
   },
   {
    "duration": 167,
    "start_time": "2022-04-06T07:53:30.351Z"
   },
   {
    "duration": 12,
    "start_time": "2022-04-06T07:53:32.324Z"
   },
   {
    "duration": 12,
    "start_time": "2022-04-06T07:53:33.321Z"
   },
   {
    "duration": 13,
    "start_time": "2022-04-06T07:56:12.720Z"
   },
   {
    "duration": 13,
    "start_time": "2022-04-06T07:56:17.592Z"
   },
   {
    "duration": 1682,
    "start_time": "2022-04-06T07:56:33.978Z"
   },
   {
    "duration": 13,
    "start_time": "2022-04-06T07:56:35.662Z"
   },
   {
    "duration": 9,
    "start_time": "2022-04-06T07:57:56.463Z"
   },
   {
    "duration": 13,
    "start_time": "2022-04-06T07:58:06.355Z"
   },
   {
    "duration": 16,
    "start_time": "2022-04-06T07:58:23.831Z"
   },
   {
    "duration": 14,
    "start_time": "2022-04-06T07:59:51.691Z"
   },
   {
    "duration": 14,
    "start_time": "2022-04-06T08:00:23.623Z"
   },
   {
    "duration": 16,
    "start_time": "2022-04-06T08:00:39.568Z"
   },
   {
    "duration": 12,
    "start_time": "2022-04-06T08:01:04.843Z"
   },
   {
    "duration": 10,
    "start_time": "2022-04-06T08:01:15.497Z"
   },
   {
    "duration": 20,
    "start_time": "2022-04-06T08:01:27.322Z"
   },
   {
    "duration": 13,
    "start_time": "2022-04-06T08:02:03.060Z"
   },
   {
    "duration": 9,
    "start_time": "2022-04-06T08:02:03.076Z"
   },
   {
    "duration": 13,
    "start_time": "2022-04-06T08:02:04.277Z"
   },
   {
    "duration": 186,
    "start_time": "2022-04-06T08:02:07.011Z"
   },
   {
    "duration": 769,
    "start_time": "2022-04-06T08:02:31.235Z"
   },
   {
    "duration": 24,
    "start_time": "2022-04-06T08:02:41.407Z"
   },
   {
    "duration": 15,
    "start_time": "2022-04-06T08:02:57.892Z"
   },
   {
    "duration": 292,
    "start_time": "2022-04-06T08:03:12.451Z"
   },
   {
    "duration": 4,
    "start_time": "2022-04-06T08:03:19.487Z"
   },
   {
    "duration": 286,
    "start_time": "2022-04-06T08:03:20.917Z"
   },
   {
    "duration": 5,
    "start_time": "2022-04-06T08:03:27.516Z"
   },
   {
    "duration": 58381,
    "start_time": "2022-04-06T08:03:29.463Z"
   },
   {
    "duration": 19,
    "start_time": "2022-04-06T08:04:32.501Z"
   },
   {
    "duration": 4,
    "start_time": "2022-04-06T08:04:39.700Z"
   },
   {
    "duration": 26,
    "start_time": "2022-04-06T08:04:40.488Z"
   },
   {
    "duration": 193,
    "start_time": "2022-04-06T08:04:44.797Z"
   },
   {
    "duration": 7,
    "start_time": "2022-04-06T08:04:47.376Z"
   },
   {
    "duration": 13,
    "start_time": "2022-04-06T08:04:48.131Z"
   },
   {
    "duration": 4,
    "start_time": "2022-04-06T08:04:49.381Z"
   },
   {
    "duration": 252,
    "start_time": "2022-04-06T08:04:50.225Z"
   },
   {
    "duration": 22,
    "start_time": "2022-04-06T08:04:51.403Z"
   },
   {
    "duration": 21,
    "start_time": "2022-04-06T08:04:55.735Z"
   },
   {
    "duration": 26,
    "start_time": "2022-04-06T08:05:15.552Z"
   },
   {
    "duration": 56,
    "start_time": "2022-04-06T08:05:15.580Z"
   },
   {
    "duration": 14,
    "start_time": "2022-04-06T08:05:15.637Z"
   },
   {
    "duration": 45,
    "start_time": "2022-04-06T08:05:15.654Z"
   },
   {
    "duration": 17,
    "start_time": "2022-04-06T08:05:15.732Z"
   },
   {
    "duration": 10,
    "start_time": "2022-04-06T08:05:15.751Z"
   },
   {
    "duration": 17,
    "start_time": "2022-04-06T08:05:15.763Z"
   },
   {
    "duration": 14,
    "start_time": "2022-04-06T08:05:15.782Z"
   },
   {
    "duration": 38,
    "start_time": "2022-04-06T08:05:15.799Z"
   },
   {
    "duration": 11,
    "start_time": "2022-04-06T08:05:15.843Z"
   },
   {
    "duration": 13,
    "start_time": "2022-04-06T08:05:15.857Z"
   },
   {
    "duration": 4,
    "start_time": "2022-04-06T08:05:15.873Z"
   },
   {
    "duration": 53,
    "start_time": "2022-04-06T08:05:15.879Z"
   },
   {
    "duration": 14,
    "start_time": "2022-04-06T08:05:15.934Z"
   },
   {
    "duration": 11,
    "start_time": "2022-04-06T08:05:15.950Z"
   },
   {
    "duration": 22,
    "start_time": "2022-04-06T08:05:15.963Z"
   },
   {
    "duration": 55,
    "start_time": "2022-04-06T08:05:15.987Z"
   },
   {
    "duration": 25,
    "start_time": "2022-04-06T08:05:16.043Z"
   },
   {
    "duration": 5,
    "start_time": "2022-04-06T08:05:16.070Z"
   },
   {
    "duration": 14,
    "start_time": "2022-04-06T08:05:16.076Z"
   },
   {
    "duration": 7,
    "start_time": "2022-04-06T08:05:16.092Z"
   },
   {
    "duration": 32,
    "start_time": "2022-04-06T08:05:16.101Z"
   },
   {
    "duration": 13,
    "start_time": "2022-04-06T08:05:16.136Z"
   },
   {
    "duration": 27,
    "start_time": "2022-04-06T08:05:16.151Z"
   },
   {
    "duration": 16,
    "start_time": "2022-04-06T08:05:16.180Z"
   },
   {
    "duration": 164,
    "start_time": "2022-04-06T08:05:16.198Z"
   },
   {
    "duration": 6,
    "start_time": "2022-04-06T08:05:16.364Z"
   },
   {
    "duration": 468,
    "start_time": "2022-04-06T08:05:16.374Z"
   },
   {
    "duration": 326,
    "start_time": "2022-04-06T08:05:16.845Z"
   },
   {
    "duration": 43031,
    "start_time": "2022-04-06T08:05:17.173Z"
   },
   {
    "duration": 48,
    "start_time": "2022-04-06T08:06:00.206Z"
   },
   {
    "duration": 1240,
    "start_time": "2022-04-06T08:06:00.256Z"
   },
   {
    "duration": 10,
    "start_time": "2022-04-06T08:06:01.498Z"
   },
   {
    "duration": 19,
    "start_time": "2022-04-06T08:06:01.510Z"
   },
   {
    "duration": 13,
    "start_time": "2022-04-06T08:06:01.531Z"
   },
   {
    "duration": 21,
    "start_time": "2022-04-06T08:06:01.546Z"
   },
   {
    "duration": 186,
    "start_time": "2022-04-06T08:06:01.569Z"
   },
   {
    "duration": 1727,
    "start_time": "2022-04-06T08:06:01.757Z"
   },
   {
    "duration": 18,
    "start_time": "2022-04-06T08:06:03.486Z"
   },
   {
    "duration": 26,
    "start_time": "2022-04-06T08:06:03.506Z"
   },
   {
    "duration": 4,
    "start_time": "2022-04-06T08:06:03.534Z"
   },
   {
    "duration": 23,
    "start_time": "2022-04-06T08:06:03.539Z"
   },
   {
    "duration": 290,
    "start_time": "2022-04-06T08:06:03.564Z"
   },
   {
    "duration": 942,
    "start_time": "2022-04-06T08:06:03.856Z"
   },
   {
    "duration": 31,
    "start_time": "2022-04-06T08:06:04.800Z"
   },
   {
    "duration": 15,
    "start_time": "2022-04-06T08:06:04.834Z"
   },
   {
    "duration": 394,
    "start_time": "2022-04-06T08:06:04.850Z"
   },
   {
    "duration": 5,
    "start_time": "2022-04-06T08:06:05.331Z"
   },
   {
    "duration": 306,
    "start_time": "2022-04-06T08:06:05.338Z"
   },
   {
    "duration": 5,
    "start_time": "2022-04-06T08:06:05.646Z"
   },
   {
    "duration": 57010,
    "start_time": "2022-04-06T08:06:05.653Z"
   },
   {
    "duration": 14,
    "start_time": "2022-04-06T08:07:02.665Z"
   },
   {
    "duration": 11,
    "start_time": "2022-04-06T08:07:02.682Z"
   },
   {
    "duration": 37,
    "start_time": "2022-04-06T08:07:02.695Z"
   },
   {
    "duration": 212,
    "start_time": "2022-04-06T08:07:02.734Z"
   },
   {
    "duration": 6,
    "start_time": "2022-04-06T08:07:02.948Z"
   },
   {
    "duration": 21,
    "start_time": "2022-04-06T08:07:02.956Z"
   },
   {
    "duration": 4,
    "start_time": "2022-04-06T08:07:02.979Z"
   },
   {
    "duration": 269,
    "start_time": "2022-04-06T08:07:02.985Z"
   },
   {
    "duration": 19,
    "start_time": "2022-04-06T08:07:03.256Z"
   },
   {
    "duration": 19,
    "start_time": "2022-04-06T08:07:03.278Z"
   }
  ],
  "kernelspec": {
   "display_name": "Python 3 (ipykernel)",
   "language": "python",
   "name": "python3"
  },
  "language_info": {
   "codemirror_mode": {
    "name": "ipython",
    "version": 3
   },
   "file_extension": ".py",
   "mimetype": "text/x-python",
   "name": "python",
   "nbconvert_exporter": "python",
   "pygments_lexer": "ipython3",
   "version": "3.9.7"
  },
  "toc": {
   "base_numbering": 1,
   "nav_menu": {},
   "number_sections": true,
   "sideBar": true,
   "skip_h1_title": true,
   "title_cell": "Table of Contents",
   "title_sidebar": "Contents",
   "toc_cell": false,
   "toc_position": {},
   "toc_section_display": true,
   "toc_window_display": false
  }
 },
 "nbformat": 4,
 "nbformat_minor": 2
}
